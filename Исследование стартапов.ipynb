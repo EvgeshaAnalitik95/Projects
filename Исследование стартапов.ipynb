{
 "cells": [
  {
   "cell_type": "markdown",
   "metadata": {
    "id": "4mJbK1knrJgz"
   },
   "source": [
    "# Проект: Исследование стартапов"
   ]
  },
  {
   "cell_type": "markdown",
   "metadata": {},
   "source": [
    "* Автор: Федоровская Е.С.\n",
    "* Дата: 28.02.2025"
   ]
  },
  {
   "cell_type": "markdown",
   "metadata": {
    "id": "P6j0r3worJg0"
   },
   "source": [
    "## Введение"
   ]
  },
  {
   "cell_type": "markdown",
   "metadata": {
    "id": "8lQtbsIUyFG6"
   },
   "source": [
    "* Описание проекта: \n",
    "\n",
    "  Финансовая компания, которая предоставляет льготные займы стартапам, хочет войти на инвестиционный рынок с прицелом на \n",
    "  \n",
    "покупку, развитие и последующую перепродажу перспективных стартапов.Для разработки модели бизнеса нужна информация. Чтобы \n",
    "\n",
    "выработать общее понимание, какие данные могут быть полезны, проводится исследование на исторических данных. Данные неполны, \n",
    "\n",
    "поэтому для ответа на вопросы необходимо аккуратно относиться к получаемым в процессе исследования значениям показателей и \n",
    "\n",
    "выводам и стараться оценивать их на возможные искажения.\n",
    "  \n",
    "* Цель проекта: \n",
    "\n",
    "1) Подготовить датасет и проверить данные, а также ответить на вопросы заказчика как о предобработке, так и о значении данных для бизнеса.\n",
    "\n",
    "2) Предстоит принять решения:\n",
    "\n",
    "а) по каким столбцам можно объединять данные из разных таблиц? \n",
    "\n",
    "б) можно ли доверять данным о сотрудниках стартапов и их образовании? \n",
    "\n",
    "в) что значат покупки за 0 или за 1 доллар? \n",
    "\n",
    "г) какова цена в зависимости от категории стартапов и количества раундов финансирования перед его покупкой?\n",
    "\n",
    "д) как рассчитать и отобразить численные показатели и динамику?\n"
   ]
  },
  {
   "cell_type": "markdown",
   "metadata": {
    "id": "xqr6uttCrJg0"
   },
   "source": [
    "\n",
    "## Шаг 1. Знакомство с данными: загрузка и первичная предобработка\n",
    "\n",
    "Названия файлов:\n",
    "* acquisition.csv\n",
    "* company_and_rounds.csv\n",
    "* degrees.csv\n",
    "* education.csv\n",
    "* fund.csv\n",
    "* investment.csv\n",
    "* people.csv\n",
    "\n",
    "Они находятся в папке datasets, если вы выполняете работу на платформе. В случае, если вы делаете работу локально, доступ к файлам в папке можно получить по адресу `https://code.s3.yandex.net/datasets/` + имя файла."
   ]
  },
  {
   "cell_type": "markdown",
   "metadata": {},
   "source": [
    "# Описание данных "
   ]
  },
  {
   "cell_type": "markdown",
   "metadata": {},
   "source": [
    "Таблица acquisition: \n",
    "\n",
    "Содержит информацию о покупках одними компаниями других компаний:\n",
    "\n",
    "* id — идентификатор покупки.\n",
    "* acquiring_company_id — идентификатор покупающей компании.\n",
    "* acquired_company_id — идентификатор покупаемой компании.\n",
    "* term_code — варианты расчёта.\n",
    "* price_amount — сумма сделки.\n",
    "* acquired_at — дата сделки.\n",
    "\n",
    "Таблица company_and_rounds:\n",
    "\n",
    "Содержит информацию о компаниях и раундах финансирования:\n",
    "\n",
    "* company ID — идентификатор компании.\n",
    "* name — название компании.\n",
    "* category code — категория области деятельности компании.\n",
    "* status — статус компании.\n",
    "* founded at — дата инвестирования.\n",
    "* closed at — дата закрытия компании.\n",
    "* domain — официальный сайт компании.\n",
    "* network username — ник компании в сети.\n",
    "* country code — код страны компании.\n",
    "* investment rounds — число инвестиционных раундов.\n",
    "* funding rounds — число раундов финансирования.\n",
    "* funding total — сумма финансирования.\n",
    "* milestones — вехи финансирования.\n",
    "* funding round id — идентификатор этапа финансирования.\n",
    "* company id — идентификатор компании.\n",
    "* funded at — дата финансирования.\n",
    "* funding round type — тип финансирования.\n",
    "* raised amount — сумма финансирования.\n",
    "* pre money valuation — предварительная денежная оценка.\n",
    "* participants — число участников.\n",
    "* is first round — является ли раунд первым.\n",
    "* is last round — является раунд последним.\n",
    "\n",
    "Таблица education: \n",
    "\n",
    "Содержит информацию об образовании сотрудника:\n",
    "\n",
    "* id — идентификатор записи об образовании.\n",
    "* person_id — идентификатор работника.\n",
    "* instituition — название учебного заведения.\n",
    "* graduated_at — дата получения образования.\n",
    "\n",
    "Таблица people:\n",
    "\n",
    "Содержит информацию о сотрудниках:\n",
    "\n",
    "* id — идентификатор сотрудника.\n",
    "* first_name — имя сотрудника.\n",
    "* last_name — фамилия сотрудника.\n",
    "* company_id — идентификатор компании.\n",
    "* network_username — ник в социальных сетях.\n",
    "\n",
    "Таблица degrees:\n",
    "\n",
    "Содержит информацию о типе образования сотрудника:\n",
    "\n",
    "* id — идентификатор записи.\n",
    "* object_id — идентификатор сотрудника.\n",
    "* degree_type — тип образования.\n",
    "* subject — специальность.\n",
    "\n",
    "Таблица fund:\n",
    "\n",
    "Содержит информацию о фондах:\n",
    "\n",
    "* id — идентификатор фонда.\n",
    "* name — название фонда.\n",
    "* category_code — категория области деятельности компании.\n",
    "* founded_at — дата создания фонда.\n",
    "* domain — сайт фонда.\n",
    "* network_username — ник фонда в сети.\n",
    "* country_code — код страны фонда.\n",
    "* investment_rounds — число инвестиционных раундов.\n",
    "* invested_companies — число профинансированных компаний.\n",
    "* milestones — вехи финансирования.\n",
    "\n",
    "Таблица investment:\n",
    "\n",
    "Содержит информацию о раундах инвестирования:\n",
    "\n",
    "* id — идентификатор этапа инвестирования.\n",
    "* funding_round_id — идентификатор раунда инвестирования.\n",
    "* company_id — индентификатор компании.\n",
    "* funding_round_type — тип финансирования.\n",
    "* fund_id — идентификатор фонда."
   ]
  },
  {
   "cell_type": "markdown",
   "metadata": {},
   "source": [
    "### 1.1. Вывод общей информации, исправление названия столбцов\n",
    "* Загрузите все данные по проекту."
   ]
  },
  {
   "cell_type": "markdown",
   "metadata": {},
   "source": [
    "\n",
    "* Проверьте названия столбцов."
   ]
  },
  {
   "cell_type": "markdown",
   "metadata": {},
   "source": [
    "\n",
    "* Выведите информацию, которая необходима вам для принятия решений о предобработке, для каждого из датасетов."
   ]
  },
  {
   "cell_type": "code",
   "execution_count": 28,
   "metadata": {
    "id": "4u9np9gSnyqT"
   },
   "outputs": [],
   "source": [
    "# Импортируем библиотеки\n",
    "import pandas as pd\n",
    "import numpy as np\n",
    "\n",
    "# Загружаем библиотеки для визуализации данных\n",
    "import matplotlib.pyplot as plt\n",
    "import seaborn as sns\n",
    "# Загружаем библиотеку для расчёта коэффициента корреляции phi_k\n",
    "try:\n",
    "    from phik import phik_matrix\n",
    "except:\n",
    "    !pip install phik\n",
    "    from phik import phik_matrix"
   ]
  },
  {
   "cell_type": "code",
   "execution_count": 29,
   "metadata": {},
   "outputs": [
    {
     "data": {
      "text/html": [
       "<div>\n",
       "<style scoped>\n",
       "    .dataframe tbody tr th:only-of-type {\n",
       "        vertical-align: middle;\n",
       "    }\n",
       "\n",
       "    .dataframe tbody tr th {\n",
       "        vertical-align: top;\n",
       "    }\n",
       "\n",
       "    .dataframe thead th {\n",
       "        text-align: right;\n",
       "    }\n",
       "</style>\n",
       "<table border=\"1\" class=\"dataframe\">\n",
       "  <thead>\n",
       "    <tr style=\"text-align: right;\">\n",
       "      <th></th>\n",
       "      <th>id</th>\n",
       "      <th>acquiring_company_id</th>\n",
       "      <th>acquired_company_id</th>\n",
       "      <th>term_code</th>\n",
       "      <th>price_amount</th>\n",
       "      <th>acquired_at</th>\n",
       "    </tr>\n",
       "  </thead>\n",
       "  <tbody>\n",
       "    <tr>\n",
       "      <th>0</th>\n",
       "      <td>1</td>\n",
       "      <td>11</td>\n",
       "      <td>10</td>\n",
       "      <td>NaN</td>\n",
       "      <td>20000000</td>\n",
       "      <td>2007-05-30</td>\n",
       "    </tr>\n",
       "    <tr>\n",
       "      <th>1</th>\n",
       "      <td>7</td>\n",
       "      <td>59</td>\n",
       "      <td>72</td>\n",
       "      <td>cash</td>\n",
       "      <td>60000000</td>\n",
       "      <td>2007-07-01</td>\n",
       "    </tr>\n",
       "    <tr>\n",
       "      <th>2</th>\n",
       "      <td>8</td>\n",
       "      <td>24</td>\n",
       "      <td>132</td>\n",
       "      <td>cash</td>\n",
       "      <td>280000000</td>\n",
       "      <td>2007-05-01</td>\n",
       "    </tr>\n",
       "    <tr>\n",
       "      <th>3</th>\n",
       "      <td>9</td>\n",
       "      <td>59</td>\n",
       "      <td>155</td>\n",
       "      <td>cash</td>\n",
       "      <td>100000000</td>\n",
       "      <td>2007-06-01</td>\n",
       "    </tr>\n",
       "    <tr>\n",
       "      <th>4</th>\n",
       "      <td>10</td>\n",
       "      <td>212</td>\n",
       "      <td>215</td>\n",
       "      <td>cash</td>\n",
       "      <td>25000000</td>\n",
       "      <td>2007-07-01</td>\n",
       "    </tr>\n",
       "    <tr>\n",
       "      <th>...</th>\n",
       "      <td>...</td>\n",
       "      <td>...</td>\n",
       "      <td>...</td>\n",
       "      <td>...</td>\n",
       "      <td>...</td>\n",
       "      <td>...</td>\n",
       "    </tr>\n",
       "    <tr>\n",
       "      <th>9402</th>\n",
       "      <td>10525</td>\n",
       "      <td>267859</td>\n",
       "      <td>285995</td>\n",
       "      <td>stock</td>\n",
       "      <td>222000000</td>\n",
       "      <td>2013-12-11</td>\n",
       "    </tr>\n",
       "    <tr>\n",
       "      <th>9403</th>\n",
       "      <td>10526</td>\n",
       "      <td>285493</td>\n",
       "      <td>286006</td>\n",
       "      <td>NaN</td>\n",
       "      <td>0</td>\n",
       "      <td>2013-12-09</td>\n",
       "    </tr>\n",
       "    <tr>\n",
       "      <th>9404</th>\n",
       "      <td>10527</td>\n",
       "      <td>223792</td>\n",
       "      <td>220208</td>\n",
       "      <td>NaN</td>\n",
       "      <td>26000000000</td>\n",
       "      <td>2007-07-03</td>\n",
       "    </tr>\n",
       "    <tr>\n",
       "      <th>9405</th>\n",
       "      <td>10528</td>\n",
       "      <td>227620</td>\n",
       "      <td>286176</td>\n",
       "      <td>cash</td>\n",
       "      <td>52400000</td>\n",
       "      <td>2013-12-12</td>\n",
       "    </tr>\n",
       "    <tr>\n",
       "      <th>9406</th>\n",
       "      <td>10529</td>\n",
       "      <td>53</td>\n",
       "      <td>92846</td>\n",
       "      <td>NaN</td>\n",
       "      <td>42600000</td>\n",
       "      <td>2013-12-12</td>\n",
       "    </tr>\n",
       "  </tbody>\n",
       "</table>\n",
       "<p>9407 rows × 6 columns</p>\n",
       "</div>"
      ],
      "text/plain": [
       "         id  acquiring_company_id  acquired_company_id term_code  \\\n",
       "0         1                    11                   10       NaN   \n",
       "1         7                    59                   72      cash   \n",
       "2         8                    24                  132      cash   \n",
       "3         9                    59                  155      cash   \n",
       "4        10                   212                  215      cash   \n",
       "...     ...                   ...                  ...       ...   \n",
       "9402  10525                267859               285995     stock   \n",
       "9403  10526                285493               286006       NaN   \n",
       "9404  10527                223792               220208       NaN   \n",
       "9405  10528                227620               286176      cash   \n",
       "9406  10529                    53                92846       NaN   \n",
       "\n",
       "      price_amount acquired_at  \n",
       "0         20000000  2007-05-30  \n",
       "1         60000000  2007-07-01  \n",
       "2        280000000  2007-05-01  \n",
       "3        100000000  2007-06-01  \n",
       "4         25000000  2007-07-01  \n",
       "...            ...         ...  \n",
       "9402     222000000  2013-12-11  \n",
       "9403             0  2013-12-09  \n",
       "9404   26000000000  2007-07-03  \n",
       "9405      52400000  2013-12-12  \n",
       "9406      42600000  2013-12-12  \n",
       "\n",
       "[9407 rows x 6 columns]"
      ]
     },
     "metadata": {},
     "output_type": "display_data"
    },
    {
     "data": {
      "text/html": [
       "<div>\n",
       "<style scoped>\n",
       "    .dataframe tbody tr th:only-of-type {\n",
       "        vertical-align: middle;\n",
       "    }\n",
       "\n",
       "    .dataframe tbody tr th {\n",
       "        vertical-align: top;\n",
       "    }\n",
       "\n",
       "    .dataframe thead th {\n",
       "        text-align: right;\n",
       "    }\n",
       "</style>\n",
       "<table border=\"1\" class=\"dataframe\">\n",
       "  <thead>\n",
       "    <tr style=\"text-align: right;\">\n",
       "      <th></th>\n",
       "      <th>company  ID</th>\n",
       "      <th>name</th>\n",
       "      <th>category  code</th>\n",
       "      <th>status</th>\n",
       "      <th>founded  at</th>\n",
       "      <th>closed  at</th>\n",
       "      <th>domain</th>\n",
       "      <th>network  username</th>\n",
       "      <th>country  code</th>\n",
       "      <th>investment  rounds</th>\n",
       "      <th>...</th>\n",
       "      <th>milestones</th>\n",
       "      <th>funding  round  id</th>\n",
       "      <th>company  id</th>\n",
       "      <th>funded  at</th>\n",
       "      <th>funding  round  type</th>\n",
       "      <th>raised  amount</th>\n",
       "      <th>pre  money  valuation</th>\n",
       "      <th>participants</th>\n",
       "      <th>is  first  round</th>\n",
       "      <th>is  last  round</th>\n",
       "    </tr>\n",
       "  </thead>\n",
       "  <tbody>\n",
       "    <tr>\n",
       "      <th>0</th>\n",
       "      <td>1.0</td>\n",
       "      <td>Wetpaint</td>\n",
       "      <td>web</td>\n",
       "      <td>operating</td>\n",
       "      <td>2005-10-17</td>\n",
       "      <td>NaN</td>\n",
       "      <td>wetpaint-inc.com</td>\n",
       "      <td>BachelrWetpaint</td>\n",
       "      <td>USA</td>\n",
       "      <td>0.0</td>\n",
       "      <td>...</td>\n",
       "      <td>5.0</td>\n",
       "      <td>888.0</td>\n",
       "      <td>1.0</td>\n",
       "      <td>2005-10-01</td>\n",
       "      <td>series-a</td>\n",
       "      <td>5250000.0</td>\n",
       "      <td>0.0</td>\n",
       "      <td>2.0</td>\n",
       "      <td>0.0</td>\n",
       "      <td>1.0</td>\n",
       "    </tr>\n",
       "    <tr>\n",
       "      <th>1</th>\n",
       "      <td>1.0</td>\n",
       "      <td>Wetpaint</td>\n",
       "      <td>web</td>\n",
       "      <td>operating</td>\n",
       "      <td>2005-10-17</td>\n",
       "      <td>NaN</td>\n",
       "      <td>wetpaint-inc.com</td>\n",
       "      <td>BachelrWetpaint</td>\n",
       "      <td>USA</td>\n",
       "      <td>0.0</td>\n",
       "      <td>...</td>\n",
       "      <td>5.0</td>\n",
       "      <td>889.0</td>\n",
       "      <td>1.0</td>\n",
       "      <td>2007-01-01</td>\n",
       "      <td>series-b</td>\n",
       "      <td>9500000.0</td>\n",
       "      <td>0.0</td>\n",
       "      <td>3.0</td>\n",
       "      <td>0.0</td>\n",
       "      <td>0.0</td>\n",
       "    </tr>\n",
       "    <tr>\n",
       "      <th>2</th>\n",
       "      <td>1.0</td>\n",
       "      <td>Wetpaint</td>\n",
       "      <td>web</td>\n",
       "      <td>operating</td>\n",
       "      <td>2005-10-17</td>\n",
       "      <td>NaN</td>\n",
       "      <td>wetpaint-inc.com</td>\n",
       "      <td>BachelrWetpaint</td>\n",
       "      <td>USA</td>\n",
       "      <td>0.0</td>\n",
       "      <td>...</td>\n",
       "      <td>5.0</td>\n",
       "      <td>2312.0</td>\n",
       "      <td>1.0</td>\n",
       "      <td>2008-05-19</td>\n",
       "      <td>series-c+</td>\n",
       "      <td>25000000.0</td>\n",
       "      <td>0.0</td>\n",
       "      <td>4.0</td>\n",
       "      <td>1.0</td>\n",
       "      <td>0.0</td>\n",
       "    </tr>\n",
       "    <tr>\n",
       "      <th>3</th>\n",
       "      <td>10.0</td>\n",
       "      <td>Flektor</td>\n",
       "      <td>games_video</td>\n",
       "      <td>acquired</td>\n",
       "      <td>NaN</td>\n",
       "      <td>NaN</td>\n",
       "      <td>flektor.com</td>\n",
       "      <td>NaN</td>\n",
       "      <td>USA</td>\n",
       "      <td>0.0</td>\n",
       "      <td>...</td>\n",
       "      <td>0.0</td>\n",
       "      <td>NaN</td>\n",
       "      <td>NaN</td>\n",
       "      <td>NaN</td>\n",
       "      <td>NaN</td>\n",
       "      <td>NaN</td>\n",
       "      <td>NaN</td>\n",
       "      <td>NaN</td>\n",
       "      <td>NaN</td>\n",
       "      <td>NaN</td>\n",
       "    </tr>\n",
       "    <tr>\n",
       "      <th>4</th>\n",
       "      <td>100.0</td>\n",
       "      <td>There</td>\n",
       "      <td>games_video</td>\n",
       "      <td>acquired</td>\n",
       "      <td>NaN</td>\n",
       "      <td>NaN</td>\n",
       "      <td>there.com</td>\n",
       "      <td>NaN</td>\n",
       "      <td>USA</td>\n",
       "      <td>0.0</td>\n",
       "      <td>...</td>\n",
       "      <td>4.0</td>\n",
       "      <td>NaN</td>\n",
       "      <td>NaN</td>\n",
       "      <td>NaN</td>\n",
       "      <td>NaN</td>\n",
       "      <td>NaN</td>\n",
       "      <td>NaN</td>\n",
       "      <td>NaN</td>\n",
       "      <td>NaN</td>\n",
       "      <td>NaN</td>\n",
       "    </tr>\n",
       "    <tr>\n",
       "      <th>...</th>\n",
       "      <td>...</td>\n",
       "      <td>...</td>\n",
       "      <td>...</td>\n",
       "      <td>...</td>\n",
       "      <td>...</td>\n",
       "      <td>...</td>\n",
       "      <td>...</td>\n",
       "      <td>...</td>\n",
       "      <td>...</td>\n",
       "      <td>...</td>\n",
       "      <td>...</td>\n",
       "      <td>...</td>\n",
       "      <td>...</td>\n",
       "      <td>...</td>\n",
       "      <td>...</td>\n",
       "      <td>...</td>\n",
       "      <td>...</td>\n",
       "      <td>...</td>\n",
       "      <td>...</td>\n",
       "      <td>...</td>\n",
       "      <td>...</td>\n",
       "    </tr>\n",
       "    <tr>\n",
       "      <th>217769</th>\n",
       "      <td>NaN</td>\n",
       "      <td>NaN</td>\n",
       "      <td>NaN</td>\n",
       "      <td>NaN</td>\n",
       "      <td>NaN</td>\n",
       "      <td>NaN</td>\n",
       "      <td>NaN</td>\n",
       "      <td>NaN</td>\n",
       "      <td>NaN</td>\n",
       "      <td>NaN</td>\n",
       "      <td>...</td>\n",
       "      <td>NaN</td>\n",
       "      <td>56454.0</td>\n",
       "      <td>282847.0</td>\n",
       "      <td>2011-01-31</td>\n",
       "      <td>other</td>\n",
       "      <td>5500000.0</td>\n",
       "      <td>0.0</td>\n",
       "      <td>0.0</td>\n",
       "      <td>1.0</td>\n",
       "      <td>1.0</td>\n",
       "    </tr>\n",
       "    <tr>\n",
       "      <th>217770</th>\n",
       "      <td>NaN</td>\n",
       "      <td>NaN</td>\n",
       "      <td>NaN</td>\n",
       "      <td>NaN</td>\n",
       "      <td>NaN</td>\n",
       "      <td>NaN</td>\n",
       "      <td>NaN</td>\n",
       "      <td>NaN</td>\n",
       "      <td>NaN</td>\n",
       "      <td>NaN</td>\n",
       "      <td>...</td>\n",
       "      <td>NaN</td>\n",
       "      <td>56542.0</td>\n",
       "      <td>55477.0</td>\n",
       "      <td>2011-01-13</td>\n",
       "      <td>venture</td>\n",
       "      <td>10633300.0</td>\n",
       "      <td>0.0</td>\n",
       "      <td>0.0</td>\n",
       "      <td>0.0</td>\n",
       "      <td>1.0</td>\n",
       "    </tr>\n",
       "    <tr>\n",
       "      <th>217771</th>\n",
       "      <td>NaN</td>\n",
       "      <td>NaN</td>\n",
       "      <td>NaN</td>\n",
       "      <td>NaN</td>\n",
       "      <td>NaN</td>\n",
       "      <td>NaN</td>\n",
       "      <td>NaN</td>\n",
       "      <td>NaN</td>\n",
       "      <td>NaN</td>\n",
       "      <td>NaN</td>\n",
       "      <td>...</td>\n",
       "      <td>NaN</td>\n",
       "      <td>56543.0</td>\n",
       "      <td>55477.0</td>\n",
       "      <td>2012-05-31</td>\n",
       "      <td>venture</td>\n",
       "      <td>2125720.0</td>\n",
       "      <td>0.0</td>\n",
       "      <td>0.0</td>\n",
       "      <td>1.0</td>\n",
       "      <td>0.0</td>\n",
       "    </tr>\n",
       "    <tr>\n",
       "      <th>217772</th>\n",
       "      <td>NaN</td>\n",
       "      <td>NaN</td>\n",
       "      <td>NaN</td>\n",
       "      <td>NaN</td>\n",
       "      <td>NaN</td>\n",
       "      <td>NaN</td>\n",
       "      <td>NaN</td>\n",
       "      <td>NaN</td>\n",
       "      <td>NaN</td>\n",
       "      <td>NaN</td>\n",
       "      <td>...</td>\n",
       "      <td>NaN</td>\n",
       "      <td>56928.0</td>\n",
       "      <td>283492.0</td>\n",
       "      <td>2013-12-03</td>\n",
       "      <td>venture</td>\n",
       "      <td>3602480.0</td>\n",
       "      <td>0.0</td>\n",
       "      <td>5.0</td>\n",
       "      <td>1.0</td>\n",
       "      <td>1.0</td>\n",
       "    </tr>\n",
       "    <tr>\n",
       "      <th>217773</th>\n",
       "      <td>NaN</td>\n",
       "      <td>NaN</td>\n",
       "      <td>NaN</td>\n",
       "      <td>NaN</td>\n",
       "      <td>NaN</td>\n",
       "      <td>NaN</td>\n",
       "      <td>NaN</td>\n",
       "      <td>NaN</td>\n",
       "      <td>NaN</td>\n",
       "      <td>NaN</td>\n",
       "      <td>...</td>\n",
       "      <td>NaN</td>\n",
       "      <td>57063.0</td>\n",
       "      <td>284191.0</td>\n",
       "      <td>2013-12-04</td>\n",
       "      <td>venture</td>\n",
       "      <td>7000000.0</td>\n",
       "      <td>0.0</td>\n",
       "      <td>4.0</td>\n",
       "      <td>1.0</td>\n",
       "      <td>1.0</td>\n",
       "    </tr>\n",
       "  </tbody>\n",
       "</table>\n",
       "<p>217774 rows × 22 columns</p>\n",
       "</div>"
      ],
      "text/plain": [
       "        company  ID      name category  code     status founded  at  \\\n",
       "0               1.0  Wetpaint            web  operating  2005-10-17   \n",
       "1               1.0  Wetpaint            web  operating  2005-10-17   \n",
       "2               1.0  Wetpaint            web  operating  2005-10-17   \n",
       "3              10.0   Flektor    games_video   acquired         NaN   \n",
       "4             100.0     There    games_video   acquired         NaN   \n",
       "...             ...       ...            ...        ...         ...   \n",
       "217769          NaN       NaN            NaN        NaN         NaN   \n",
       "217770          NaN       NaN            NaN        NaN         NaN   \n",
       "217771          NaN       NaN            NaN        NaN         NaN   \n",
       "217772          NaN       NaN            NaN        NaN         NaN   \n",
       "217773          NaN       NaN            NaN        NaN         NaN   \n",
       "\n",
       "       closed  at            domain network  username country  code  \\\n",
       "0             NaN  wetpaint-inc.com   BachelrWetpaint           USA   \n",
       "1             NaN  wetpaint-inc.com   BachelrWetpaint           USA   \n",
       "2             NaN  wetpaint-inc.com   BachelrWetpaint           USA   \n",
       "3             NaN       flektor.com               NaN           USA   \n",
       "4             NaN         there.com               NaN           USA   \n",
       "...           ...               ...               ...           ...   \n",
       "217769        NaN               NaN               NaN           NaN   \n",
       "217770        NaN               NaN               NaN           NaN   \n",
       "217771        NaN               NaN               NaN           NaN   \n",
       "217772        NaN               NaN               NaN           NaN   \n",
       "217773        NaN               NaN               NaN           NaN   \n",
       "\n",
       "        investment  rounds  ...  milestones  funding  round  id  company  id  \\\n",
       "0                      0.0  ...         5.0               888.0          1.0   \n",
       "1                      0.0  ...         5.0               889.0          1.0   \n",
       "2                      0.0  ...         5.0              2312.0          1.0   \n",
       "3                      0.0  ...         0.0                 NaN          NaN   \n",
       "4                      0.0  ...         4.0                 NaN          NaN   \n",
       "...                    ...  ...         ...                 ...          ...   \n",
       "217769                 NaN  ...         NaN             56454.0     282847.0   \n",
       "217770                 NaN  ...         NaN             56542.0      55477.0   \n",
       "217771                 NaN  ...         NaN             56543.0      55477.0   \n",
       "217772                 NaN  ...         NaN             56928.0     283492.0   \n",
       "217773                 NaN  ...         NaN             57063.0     284191.0   \n",
       "\n",
       "        funded  at  funding  round  type raised  amount pre  money  valuation  \\\n",
       "0       2005-10-01              series-a      5250000.0                   0.0   \n",
       "1       2007-01-01              series-b      9500000.0                   0.0   \n",
       "2       2008-05-19             series-c+     25000000.0                   0.0   \n",
       "3              NaN                   NaN            NaN                   NaN   \n",
       "4              NaN                   NaN            NaN                   NaN   \n",
       "...            ...                   ...            ...                   ...   \n",
       "217769  2011-01-31                 other      5500000.0                   0.0   \n",
       "217770  2011-01-13               venture     10633300.0                   0.0   \n",
       "217771  2012-05-31               venture      2125720.0                   0.0   \n",
       "217772  2013-12-03               venture      3602480.0                   0.0   \n",
       "217773  2013-12-04               venture      7000000.0                   0.0   \n",
       "\n",
       "        participants  is  first  round  is  last  round  \n",
       "0                2.0               0.0              1.0  \n",
       "1                3.0               0.0              0.0  \n",
       "2                4.0               1.0              0.0  \n",
       "3                NaN               NaN              NaN  \n",
       "4                NaN               NaN              NaN  \n",
       "...              ...               ...              ...  \n",
       "217769           0.0               1.0              1.0  \n",
       "217770           0.0               0.0              1.0  \n",
       "217771           0.0               1.0              0.0  \n",
       "217772           5.0               1.0              1.0  \n",
       "217773           4.0               1.0              1.0  \n",
       "\n",
       "[217774 rows x 22 columns]"
      ]
     },
     "metadata": {},
     "output_type": "display_data"
    },
    {
     "data": {
      "text/html": [
       "<div>\n",
       "<style scoped>\n",
       "    .dataframe tbody tr th:only-of-type {\n",
       "        vertical-align: middle;\n",
       "    }\n",
       "\n",
       "    .dataframe tbody tr th {\n",
       "        vertical-align: top;\n",
       "    }\n",
       "\n",
       "    .dataframe thead th {\n",
       "        text-align: right;\n",
       "    }\n",
       "</style>\n",
       "<table border=\"1\" class=\"dataframe\">\n",
       "  <thead>\n",
       "    <tr style=\"text-align: right;\">\n",
       "      <th></th>\n",
       "      <th>id</th>\n",
       "      <th>first_name</th>\n",
       "      <th>last_name</th>\n",
       "      <th>company_id</th>\n",
       "      <th>network_username</th>\n",
       "    </tr>\n",
       "  </thead>\n",
       "  <tbody>\n",
       "    <tr>\n",
       "      <th>0</th>\n",
       "      <td>10</td>\n",
       "      <td>Mark</td>\n",
       "      <td>Zuckerberg</td>\n",
       "      <td>5.0</td>\n",
       "      <td>NaN</td>\n",
       "    </tr>\n",
       "    <tr>\n",
       "      <th>1</th>\n",
       "      <td>100</td>\n",
       "      <td>Peter</td>\n",
       "      <td>Lester</td>\n",
       "      <td>27.0</td>\n",
       "      <td>NaN</td>\n",
       "    </tr>\n",
       "    <tr>\n",
       "      <th>2</th>\n",
       "      <td>1000</td>\n",
       "      <td>Dr. Steven</td>\n",
       "      <td>E. Saunders</td>\n",
       "      <td>292.0</td>\n",
       "      <td>NaN</td>\n",
       "    </tr>\n",
       "    <tr>\n",
       "      <th>3</th>\n",
       "      <td>10000</td>\n",
       "      <td>Neil</td>\n",
       "      <td>Capel</td>\n",
       "      <td>2526.0</td>\n",
       "      <td>NaN</td>\n",
       "    </tr>\n",
       "    <tr>\n",
       "      <th>4</th>\n",
       "      <td>100000</td>\n",
       "      <td>Sue</td>\n",
       "      <td>Pilsch</td>\n",
       "      <td>NaN</td>\n",
       "      <td>NaN</td>\n",
       "    </tr>\n",
       "    <tr>\n",
       "      <th>...</th>\n",
       "      <td>...</td>\n",
       "      <td>...</td>\n",
       "      <td>...</td>\n",
       "      <td>...</td>\n",
       "      <td>...</td>\n",
       "    </tr>\n",
       "    <tr>\n",
       "      <th>226704</th>\n",
       "      <td>99999</td>\n",
       "      <td>Ramon</td>\n",
       "      <td>Peypoch</td>\n",
       "      <td>NaN</td>\n",
       "      <td>NaN</td>\n",
       "    </tr>\n",
       "    <tr>\n",
       "      <th>226705</th>\n",
       "      <td>174088</td>\n",
       "      <td>Dr. Ray</td>\n",
       "      <td>Woods</td>\n",
       "      <td>188200.0</td>\n",
       "      <td>network</td>\n",
       "    </tr>\n",
       "    <tr>\n",
       "      <th>226706</th>\n",
       "      <td>118386</td>\n",
       "      <td>Ricardo</td>\n",
       "      <td>Durand</td>\n",
       "      <td>143419.0</td>\n",
       "      <td>itechsocialnet</td>\n",
       "    </tr>\n",
       "    <tr>\n",
       "      <th>226707</th>\n",
       "      <td>175827</td>\n",
       "      <td>mahesh</td>\n",
       "      <td>kumar</td>\n",
       "      <td>NaN</td>\n",
       "      <td>socialnethubs</td>\n",
       "    </tr>\n",
       "    <tr>\n",
       "      <th>226708</th>\n",
       "      <td>178190</td>\n",
       "      <td>Alex</td>\n",
       "      <td>Smith</td>\n",
       "      <td>NaN</td>\n",
       "      <td>esocialnetlike</td>\n",
       "    </tr>\n",
       "  </tbody>\n",
       "</table>\n",
       "<p>226709 rows × 5 columns</p>\n",
       "</div>"
      ],
      "text/plain": [
       "            id  first_name    last_name  company_id network_username\n",
       "0           10        Mark   Zuckerberg         5.0              NaN\n",
       "1          100       Peter       Lester        27.0              NaN\n",
       "2         1000  Dr. Steven  E. Saunders       292.0              NaN\n",
       "3        10000        Neil        Capel      2526.0              NaN\n",
       "4       100000         Sue       Pilsch         NaN              NaN\n",
       "...        ...         ...          ...         ...              ...\n",
       "226704   99999       Ramon      Peypoch         NaN              NaN\n",
       "226705  174088     Dr. Ray        Woods    188200.0          network\n",
       "226706  118386     Ricardo       Durand    143419.0   itechsocialnet\n",
       "226707  175827      mahesh        kumar         NaN    socialnethubs\n",
       "226708  178190        Alex        Smith         NaN   esocialnetlike\n",
       "\n",
       "[226709 rows x 5 columns]"
      ]
     },
     "metadata": {},
     "output_type": "display_data"
    },
    {
     "data": {
      "text/html": [
       "<div>\n",
       "<style scoped>\n",
       "    .dataframe tbody tr th:only-of-type {\n",
       "        vertical-align: middle;\n",
       "    }\n",
       "\n",
       "    .dataframe tbody tr th {\n",
       "        vertical-align: top;\n",
       "    }\n",
       "\n",
       "    .dataframe thead th {\n",
       "        text-align: right;\n",
       "    }\n",
       "</style>\n",
       "<table border=\"1\" class=\"dataframe\">\n",
       "  <thead>\n",
       "    <tr style=\"text-align: right;\">\n",
       "      <th></th>\n",
       "      <th>id</th>\n",
       "      <th>person_id</th>\n",
       "      <th>instituition</th>\n",
       "      <th>graduated_at</th>\n",
       "    </tr>\n",
       "  </thead>\n",
       "  <tbody>\n",
       "    <tr>\n",
       "      <th>0</th>\n",
       "      <td>1</td>\n",
       "      <td>6117</td>\n",
       "      <td>NaN</td>\n",
       "      <td>NaN</td>\n",
       "    </tr>\n",
       "    <tr>\n",
       "      <th>1</th>\n",
       "      <td>2</td>\n",
       "      <td>6136</td>\n",
       "      <td>Washington University, St. Louis</td>\n",
       "      <td>1990-01-01</td>\n",
       "    </tr>\n",
       "    <tr>\n",
       "      <th>2</th>\n",
       "      <td>3</td>\n",
       "      <td>6136</td>\n",
       "      <td>Boston University</td>\n",
       "      <td>1992-01-01</td>\n",
       "    </tr>\n",
       "    <tr>\n",
       "      <th>3</th>\n",
       "      <td>4</td>\n",
       "      <td>6005</td>\n",
       "      <td>University of Greenwich</td>\n",
       "      <td>2006-01-01</td>\n",
       "    </tr>\n",
       "    <tr>\n",
       "      <th>4</th>\n",
       "      <td>5</td>\n",
       "      <td>5832</td>\n",
       "      <td>Rice University</td>\n",
       "      <td>NaN</td>\n",
       "    </tr>\n",
       "    <tr>\n",
       "      <th>...</th>\n",
       "      <td>...</td>\n",
       "      <td>...</td>\n",
       "      <td>...</td>\n",
       "      <td>...</td>\n",
       "    </tr>\n",
       "    <tr>\n",
       "      <th>109605</th>\n",
       "      <td>109606</td>\n",
       "      <td>268589</td>\n",
       "      <td>American Institute of Certtified Public Accoun...</td>\n",
       "      <td>NaN</td>\n",
       "    </tr>\n",
       "    <tr>\n",
       "      <th>109606</th>\n",
       "      <td>109607</td>\n",
       "      <td>268527</td>\n",
       "      <td>South China University of Technology</td>\n",
       "      <td>NaN</td>\n",
       "    </tr>\n",
       "    <tr>\n",
       "      <th>109607</th>\n",
       "      <td>109608</td>\n",
       "      <td>268527</td>\n",
       "      <td>Clarkson University</td>\n",
       "      <td>NaN</td>\n",
       "    </tr>\n",
       "    <tr>\n",
       "      <th>109608</th>\n",
       "      <td>109609</td>\n",
       "      <td>268528</td>\n",
       "      <td>Colorado State University</td>\n",
       "      <td>NaN</td>\n",
       "    </tr>\n",
       "    <tr>\n",
       "      <th>109609</th>\n",
       "      <td>109610</td>\n",
       "      <td>268528</td>\n",
       "      <td>University of San Diego School of Law</td>\n",
       "      <td>NaN</td>\n",
       "    </tr>\n",
       "  </tbody>\n",
       "</table>\n",
       "<p>109610 rows × 4 columns</p>\n",
       "</div>"
      ],
      "text/plain": [
       "            id  person_id                                       instituition  \\\n",
       "0            1       6117                                                NaN   \n",
       "1            2       6136                   Washington University, St. Louis   \n",
       "2            3       6136                                  Boston University   \n",
       "3            4       6005                            University of Greenwich   \n",
       "4            5       5832                                    Rice University   \n",
       "...        ...        ...                                                ...   \n",
       "109605  109606     268589  American Institute of Certtified Public Accoun...   \n",
       "109606  109607     268527               South China University of Technology   \n",
       "109607  109608     268527                                Clarkson University   \n",
       "109608  109609     268528                          Colorado State University   \n",
       "109609  109610     268528              University of San Diego School of Law   \n",
       "\n",
       "       graduated_at  \n",
       "0               NaN  \n",
       "1        1990-01-01  \n",
       "2        1992-01-01  \n",
       "3        2006-01-01  \n",
       "4               NaN  \n",
       "...             ...  \n",
       "109605          NaN  \n",
       "109606          NaN  \n",
       "109607          NaN  \n",
       "109608          NaN  \n",
       "109609          NaN  \n",
       "\n",
       "[109610 rows x 4 columns]"
      ]
     },
     "metadata": {},
     "output_type": "display_data"
    },
    {
     "data": {
      "text/html": [
       "<div>\n",
       "<style scoped>\n",
       "    .dataframe tbody tr th:only-of-type {\n",
       "        vertical-align: middle;\n",
       "    }\n",
       "\n",
       "    .dataframe tbody tr th {\n",
       "        vertical-align: top;\n",
       "    }\n",
       "\n",
       "    .dataframe thead th {\n",
       "        text-align: right;\n",
       "    }\n",
       "</style>\n",
       "<table border=\"1\" class=\"dataframe\">\n",
       "  <thead>\n",
       "    <tr style=\"text-align: right;\">\n",
       "      <th></th>\n",
       "      <th>id</th>\n",
       "      <th>object_id</th>\n",
       "      <th>degree_type</th>\n",
       "      <th>subject</th>\n",
       "    </tr>\n",
       "  </thead>\n",
       "  <tbody>\n",
       "    <tr>\n",
       "      <th>0</th>\n",
       "      <td>1</td>\n",
       "      <td>p:6117</td>\n",
       "      <td>MBA</td>\n",
       "      <td>NaN</td>\n",
       "    </tr>\n",
       "    <tr>\n",
       "      <th>1</th>\n",
       "      <td>2</td>\n",
       "      <td>p:6136</td>\n",
       "      <td>BA</td>\n",
       "      <td>English, French</td>\n",
       "    </tr>\n",
       "    <tr>\n",
       "      <th>2</th>\n",
       "      <td>3</td>\n",
       "      <td>p:6136</td>\n",
       "      <td>MS</td>\n",
       "      <td>Mass Communication</td>\n",
       "    </tr>\n",
       "    <tr>\n",
       "      <th>3</th>\n",
       "      <td>4</td>\n",
       "      <td>p:6005</td>\n",
       "      <td>MS</td>\n",
       "      <td>Internet Technology</td>\n",
       "    </tr>\n",
       "    <tr>\n",
       "      <th>4</th>\n",
       "      <td>5</td>\n",
       "      <td>p:5832</td>\n",
       "      <td>BCS</td>\n",
       "      <td>Computer Science, Psychology</td>\n",
       "    </tr>\n",
       "    <tr>\n",
       "      <th>...</th>\n",
       "      <td>...</td>\n",
       "      <td>...</td>\n",
       "      <td>...</td>\n",
       "      <td>...</td>\n",
       "    </tr>\n",
       "    <tr>\n",
       "      <th>109605</th>\n",
       "      <td>109606</td>\n",
       "      <td>p:268589</td>\n",
       "      <td>CPA</td>\n",
       "      <td>NaN</td>\n",
       "    </tr>\n",
       "    <tr>\n",
       "      <th>109606</th>\n",
       "      <td>109607</td>\n",
       "      <td>p:268527</td>\n",
       "      <td>MS &amp; BS</td>\n",
       "      <td>Engineering</td>\n",
       "    </tr>\n",
       "    <tr>\n",
       "      <th>109607</th>\n",
       "      <td>109608</td>\n",
       "      <td>p:268527</td>\n",
       "      <td>PhD</td>\n",
       "      <td>Engineering</td>\n",
       "    </tr>\n",
       "    <tr>\n",
       "      <th>109608</th>\n",
       "      <td>109609</td>\n",
       "      <td>p:268528</td>\n",
       "      <td>B.S.</td>\n",
       "      <td>Electrical Engineering</td>\n",
       "    </tr>\n",
       "    <tr>\n",
       "      <th>109609</th>\n",
       "      <td>109610</td>\n",
       "      <td>p:268528</td>\n",
       "      <td>J.D.</td>\n",
       "      <td>NaN</td>\n",
       "    </tr>\n",
       "  </tbody>\n",
       "</table>\n",
       "<p>109610 rows × 4 columns</p>\n",
       "</div>"
      ],
      "text/plain": [
       "            id object_id degree_type                       subject\n",
       "0            1    p:6117         MBA                           NaN\n",
       "1            2    p:6136          BA               English, French\n",
       "2            3    p:6136          MS            Mass Communication\n",
       "3            4    p:6005          MS           Internet Technology\n",
       "4            5    p:5832         BCS  Computer Science, Psychology\n",
       "...        ...       ...         ...                           ...\n",
       "109605  109606  p:268589         CPA                           NaN\n",
       "109606  109607  p:268527     MS & BS                   Engineering\n",
       "109607  109608  p:268527         PhD                   Engineering\n",
       "109608  109609  p:268528        B.S.        Electrical Engineering\n",
       "109609  109610  p:268528        J.D.                           NaN\n",
       "\n",
       "[109610 rows x 4 columns]"
      ]
     },
     "metadata": {},
     "output_type": "display_data"
    },
    {
     "data": {
      "text/html": [
       "<div>\n",
       "<style scoped>\n",
       "    .dataframe tbody tr th:only-of-type {\n",
       "        vertical-align: middle;\n",
       "    }\n",
       "\n",
       "    .dataframe tbody tr th {\n",
       "        vertical-align: top;\n",
       "    }\n",
       "\n",
       "    .dataframe thead th {\n",
       "        text-align: right;\n",
       "    }\n",
       "</style>\n",
       "<table border=\"1\" class=\"dataframe\">\n",
       "  <thead>\n",
       "    <tr style=\"text-align: right;\">\n",
       "      <th></th>\n",
       "      <th>id</th>\n",
       "      <th>name</th>\n",
       "      <th>founded_at</th>\n",
       "      <th>domain</th>\n",
       "      <th>network_username</th>\n",
       "      <th>country_code</th>\n",
       "      <th>investment_rounds</th>\n",
       "      <th>invested_companies</th>\n",
       "      <th>milestones</th>\n",
       "    </tr>\n",
       "  </thead>\n",
       "  <tbody>\n",
       "    <tr>\n",
       "      <th>0</th>\n",
       "      <td>13131</td>\n",
       "      <td>NaN</td>\n",
       "      <td>NaN</td>\n",
       "      <td>NaN</td>\n",
       "      <td>NaN</td>\n",
       "      <td>NaN</td>\n",
       "      <td>0</td>\n",
       "      <td>0</td>\n",
       "      <td>0</td>\n",
       "    </tr>\n",
       "    <tr>\n",
       "      <th>1</th>\n",
       "      <td>1</td>\n",
       "      <td>Greylock Partners</td>\n",
       "      <td>1965-01-01</td>\n",
       "      <td>greylock.com</td>\n",
       "      <td>greylockvc</td>\n",
       "      <td>USA</td>\n",
       "      <td>307</td>\n",
       "      <td>196</td>\n",
       "      <td>0</td>\n",
       "    </tr>\n",
       "    <tr>\n",
       "      <th>2</th>\n",
       "      <td>10</td>\n",
       "      <td>Mission Ventures</td>\n",
       "      <td>1996-01-01</td>\n",
       "      <td>missionventures.com</td>\n",
       "      <td>NaN</td>\n",
       "      <td>USA</td>\n",
       "      <td>58</td>\n",
       "      <td>33</td>\n",
       "      <td>0</td>\n",
       "    </tr>\n",
       "    <tr>\n",
       "      <th>3</th>\n",
       "      <td>100</td>\n",
       "      <td>Kapor Enterprises, Inc.</td>\n",
       "      <td>NaN</td>\n",
       "      <td>kei.com</td>\n",
       "      <td>NaN</td>\n",
       "      <td>USA</td>\n",
       "      <td>2</td>\n",
       "      <td>1</td>\n",
       "      <td>0</td>\n",
       "    </tr>\n",
       "    <tr>\n",
       "      <th>4</th>\n",
       "      <td>1000</td>\n",
       "      <td>Speed Ventures</td>\n",
       "      <td>NaN</td>\n",
       "      <td>NaN</td>\n",
       "      <td>NaN</td>\n",
       "      <td>NaN</td>\n",
       "      <td>0</td>\n",
       "      <td>0</td>\n",
       "      <td>1</td>\n",
       "    </tr>\n",
       "    <tr>\n",
       "      <th>...</th>\n",
       "      <td>...</td>\n",
       "      <td>...</td>\n",
       "      <td>...</td>\n",
       "      <td>...</td>\n",
       "      <td>...</td>\n",
       "      <td>...</td>\n",
       "      <td>...</td>\n",
       "      <td>...</td>\n",
       "      <td>...</td>\n",
       "    </tr>\n",
       "    <tr>\n",
       "      <th>11647</th>\n",
       "      <td>9997</td>\n",
       "      <td>Axel Johnson</td>\n",
       "      <td>1920-01-01</td>\n",
       "      <td>axeljohnson.com</td>\n",
       "      <td>NaN</td>\n",
       "      <td>USA</td>\n",
       "      <td>1</td>\n",
       "      <td>1</td>\n",
       "      <td>0</td>\n",
       "    </tr>\n",
       "    <tr>\n",
       "      <th>11648</th>\n",
       "      <td>9998</td>\n",
       "      <td>Liberty City Ventures</td>\n",
       "      <td>2012-07-01</td>\n",
       "      <td>libertycityventures.com</td>\n",
       "      <td>LCVentures</td>\n",
       "      <td>USA</td>\n",
       "      <td>5</td>\n",
       "      <td>5</td>\n",
       "      <td>0</td>\n",
       "    </tr>\n",
       "    <tr>\n",
       "      <th>11649</th>\n",
       "      <td>9999</td>\n",
       "      <td>CalSTRS</td>\n",
       "      <td>1913-07-01</td>\n",
       "      <td>calstrs.com</td>\n",
       "      <td>CalSTRS</td>\n",
       "      <td>USA</td>\n",
       "      <td>1</td>\n",
       "      <td>1</td>\n",
       "      <td>0</td>\n",
       "    </tr>\n",
       "    <tr>\n",
       "      <th>11650</th>\n",
       "      <td>11555</td>\n",
       "      <td>Haystack</td>\n",
       "      <td>2013-01-01</td>\n",
       "      <td>network.com::haystack_fund</td>\n",
       "      <td>haystack_fund</td>\n",
       "      <td>NaN</td>\n",
       "      <td>5</td>\n",
       "      <td>5</td>\n",
       "      <td>0</td>\n",
       "    </tr>\n",
       "    <tr>\n",
       "      <th>11651</th>\n",
       "      <td>2553</td>\n",
       "      <td>fbFund</td>\n",
       "      <td>NaN</td>\n",
       "      <td>developers.socialnet.com::fbfund.php</td>\n",
       "      <td>fbFund</td>\n",
       "      <td>NaN</td>\n",
       "      <td>23</td>\n",
       "      <td>21</td>\n",
       "      <td>2</td>\n",
       "    </tr>\n",
       "  </tbody>\n",
       "</table>\n",
       "<p>11652 rows × 9 columns</p>\n",
       "</div>"
      ],
      "text/plain": [
       "          id                     name  founded_at  \\\n",
       "0      13131                      NaN         NaN   \n",
       "1          1        Greylock Partners  1965-01-01   \n",
       "2         10         Mission Ventures  1996-01-01   \n",
       "3        100  Kapor Enterprises, Inc.         NaN   \n",
       "4       1000           Speed Ventures         NaN   \n",
       "...      ...                      ...         ...   \n",
       "11647   9997             Axel Johnson  1920-01-01   \n",
       "11648   9998    Liberty City Ventures  2012-07-01   \n",
       "11649   9999                  CalSTRS  1913-07-01   \n",
       "11650  11555                 Haystack  2013-01-01   \n",
       "11651   2553                   fbFund         NaN   \n",
       "\n",
       "                                     domain network_username country_code  \\\n",
       "0                                       NaN              NaN          NaN   \n",
       "1                              greylock.com       greylockvc          USA   \n",
       "2                       missionventures.com              NaN          USA   \n",
       "3                                   kei.com              NaN          USA   \n",
       "4                                       NaN              NaN          NaN   \n",
       "...                                     ...              ...          ...   \n",
       "11647                       axeljohnson.com              NaN          USA   \n",
       "11648               libertycityventures.com       LCVentures          USA   \n",
       "11649                           calstrs.com          CalSTRS          USA   \n",
       "11650            network.com::haystack_fund    haystack_fund          NaN   \n",
       "11651  developers.socialnet.com::fbfund.php           fbFund          NaN   \n",
       "\n",
       "       investment_rounds  invested_companies  milestones  \n",
       "0                      0                   0           0  \n",
       "1                    307                 196           0  \n",
       "2                     58                  33           0  \n",
       "3                      2                   1           0  \n",
       "4                      0                   0           1  \n",
       "...                  ...                 ...         ...  \n",
       "11647                  1                   1           0  \n",
       "11648                  5                   5           0  \n",
       "11649                  1                   1           0  \n",
       "11650                  5                   5           0  \n",
       "11651                 23                  21           2  \n",
       "\n",
       "[11652 rows x 9 columns]"
      ]
     },
     "metadata": {},
     "output_type": "display_data"
    },
    {
     "data": {
      "text/html": [
       "<div>\n",
       "<style scoped>\n",
       "    .dataframe tbody tr th:only-of-type {\n",
       "        vertical-align: middle;\n",
       "    }\n",
       "\n",
       "    .dataframe tbody tr th {\n",
       "        vertical-align: top;\n",
       "    }\n",
       "\n",
       "    .dataframe thead th {\n",
       "        text-align: right;\n",
       "    }\n",
       "</style>\n",
       "<table border=\"1\" class=\"dataframe\">\n",
       "  <thead>\n",
       "    <tr style=\"text-align: right;\">\n",
       "      <th></th>\n",
       "      <th>id</th>\n",
       "      <th>funding_round_id</th>\n",
       "      <th>company_id</th>\n",
       "      <th>fund_id</th>\n",
       "    </tr>\n",
       "  </thead>\n",
       "  <tbody>\n",
       "    <tr>\n",
       "      <th>0</th>\n",
       "      <td>1</td>\n",
       "      <td>1</td>\n",
       "      <td>4</td>\n",
       "      <td>1</td>\n",
       "    </tr>\n",
       "    <tr>\n",
       "      <th>1</th>\n",
       "      <td>2</td>\n",
       "      <td>1</td>\n",
       "      <td>4</td>\n",
       "      <td>2</td>\n",
       "    </tr>\n",
       "    <tr>\n",
       "      <th>2</th>\n",
       "      <td>3</td>\n",
       "      <td>3</td>\n",
       "      <td>5</td>\n",
       "      <td>4</td>\n",
       "    </tr>\n",
       "    <tr>\n",
       "      <th>3</th>\n",
       "      <td>4</td>\n",
       "      <td>4</td>\n",
       "      <td>5</td>\n",
       "      <td>1</td>\n",
       "    </tr>\n",
       "    <tr>\n",
       "      <th>4</th>\n",
       "      <td>5</td>\n",
       "      <td>4</td>\n",
       "      <td>5</td>\n",
       "      <td>5</td>\n",
       "    </tr>\n",
       "    <tr>\n",
       "      <th>...</th>\n",
       "      <td>...</td>\n",
       "      <td>...</td>\n",
       "      <td>...</td>\n",
       "      <td>...</td>\n",
       "    </tr>\n",
       "    <tr>\n",
       "      <th>61398</th>\n",
       "      <td>61399</td>\n",
       "      <td>57926</td>\n",
       "      <td>15847</td>\n",
       "      <td>173</td>\n",
       "    </tr>\n",
       "    <tr>\n",
       "      <th>61399</th>\n",
       "      <td>61400</td>\n",
       "      <td>57926</td>\n",
       "      <td>15847</td>\n",
       "      <td>1290</td>\n",
       "    </tr>\n",
       "    <tr>\n",
       "      <th>61400</th>\n",
       "      <td>61401</td>\n",
       "      <td>57926</td>\n",
       "      <td>15847</td>\n",
       "      <td>73</td>\n",
       "    </tr>\n",
       "    <tr>\n",
       "      <th>61401</th>\n",
       "      <td>61402</td>\n",
       "      <td>57942</td>\n",
       "      <td>70841</td>\n",
       "      <td>15098</td>\n",
       "    </tr>\n",
       "    <tr>\n",
       "      <th>61402</th>\n",
       "      <td>61403</td>\n",
       "      <td>57948</td>\n",
       "      <td>211890</td>\n",
       "      <td>2101</td>\n",
       "    </tr>\n",
       "  </tbody>\n",
       "</table>\n",
       "<p>61403 rows × 4 columns</p>\n",
       "</div>"
      ],
      "text/plain": [
       "          id  funding_round_id  company_id  fund_id\n",
       "0          1                 1           4        1\n",
       "1          2                 1           4        2\n",
       "2          3                 3           5        4\n",
       "3          4                 4           5        1\n",
       "4          5                 4           5        5\n",
       "...      ...               ...         ...      ...\n",
       "61398  61399             57926       15847      173\n",
       "61399  61400             57926       15847     1290\n",
       "61400  61401             57926       15847       73\n",
       "61401  61402             57942       70841    15098\n",
       "61402  61403             57948      211890     2101\n",
       "\n",
       "[61403 rows x 4 columns]"
      ]
     },
     "metadata": {},
     "output_type": "display_data"
    },
    {
     "name": "stdout",
     "output_type": "stream",
     "text": [
      "Информация о датафрейме:\n",
      "   id  acquiring_company_id  acquired_company_id term_code  price_amount  \\\n",
      "0   1                    11                   10       NaN      20000000   \n",
      "1   7                    59                   72      cash      60000000   \n",
      "2   8                    24                  132      cash     280000000   \n",
      "3   9                    59                  155      cash     100000000   \n",
      "4  10                   212                  215      cash      25000000   \n",
      "\n",
      "  acquired_at  \n",
      "0  2007-05-30  \n",
      "1  2007-07-01  \n",
      "2  2007-05-01  \n",
      "3  2007-06-01  \n",
      "4  2007-07-01  \n",
      "<class 'pandas.core.frame.DataFrame'>\n",
      "RangeIndex: 9407 entries, 0 to 9406\n",
      "Data columns (total 6 columns):\n",
      " #   Column                Non-Null Count  Dtype \n",
      "---  ------                --------------  ----- \n",
      " 0   id                    9407 non-null   int64 \n",
      " 1   acquiring_company_id  9407 non-null   int64 \n",
      " 2   acquired_company_id   9407 non-null   int64 \n",
      " 3   term_code             1831 non-null   object\n",
      " 4   price_amount          9407 non-null   int64 \n",
      " 5   acquired_at           9378 non-null   object\n",
      "dtypes: int64(4), object(2)\n",
      "memory usage: 441.1+ KB\n",
      "None\n",
      "\n",
      "--------------------------------------------------\n",
      "\n",
      "Информация о датафрейме:\n",
      "   company  ID      name category  code     status founded  at closed  at  \\\n",
      "0          1.0  Wetpaint            web  operating  2005-10-17        NaN   \n",
      "1          1.0  Wetpaint            web  operating  2005-10-17        NaN   \n",
      "2          1.0  Wetpaint            web  operating  2005-10-17        NaN   \n",
      "3         10.0   Flektor    games_video   acquired         NaN        NaN   \n",
      "4        100.0     There    games_video   acquired         NaN        NaN   \n",
      "\n",
      "             domain network  username country  code  investment  rounds  ...  \\\n",
      "0  wetpaint-inc.com   BachelrWetpaint           USA                 0.0  ...   \n",
      "1  wetpaint-inc.com   BachelrWetpaint           USA                 0.0  ...   \n",
      "2  wetpaint-inc.com   BachelrWetpaint           USA                 0.0  ...   \n",
      "3       flektor.com               NaN           USA                 0.0  ...   \n",
      "4         there.com               NaN           USA                 0.0  ...   \n",
      "\n",
      "   milestones  funding  round  id  company  id  funded  at  \\\n",
      "0         5.0               888.0          1.0  2005-10-01   \n",
      "1         5.0               889.0          1.0  2007-01-01   \n",
      "2         5.0              2312.0          1.0  2008-05-19   \n",
      "3         0.0                 NaN          NaN         NaN   \n",
      "4         4.0                 NaN          NaN         NaN   \n",
      "\n",
      "   funding  round  type raised  amount pre  money  valuation  participants  \\\n",
      "0              series-a      5250000.0                   0.0           2.0   \n",
      "1              series-b      9500000.0                   0.0           3.0   \n",
      "2             series-c+     25000000.0                   0.0           4.0   \n",
      "3                   NaN            NaN                   NaN           NaN   \n",
      "4                   NaN            NaN                   NaN           NaN   \n",
      "\n",
      "   is  first  round  is  last  round  \n",
      "0               0.0              1.0  \n",
      "1               0.0              0.0  \n",
      "2               1.0              0.0  \n",
      "3               NaN              NaN  \n",
      "4               NaN              NaN  \n",
      "\n",
      "[5 rows x 22 columns]\n",
      "<class 'pandas.core.frame.DataFrame'>\n",
      "RangeIndex: 217774 entries, 0 to 217773\n",
      "Data columns (total 22 columns):\n",
      " #   Column                 Non-Null Count   Dtype  \n",
      "---  ------                 --------------   -----  \n",
      " 0   company  ID            217472 non-null  float64\n",
      " 1   name                   217472 non-null  object \n",
      " 2   category  code         143886 non-null  object \n",
      " 3   status                 217472 non-null  object \n",
      " 4   founded  at            109956 non-null  object \n",
      " 5   closed  at             3449 non-null    object \n",
      " 6   domain                 147159 non-null  object \n",
      " 7   network  username      95534 non-null   object \n",
      " 8   country  code          108607 non-null  object \n",
      " 9   investment  rounds     217472 non-null  float64\n",
      " 10  funding  rounds        217472 non-null  float64\n",
      " 11  funding  total         217472 non-null  float64\n",
      " 12  milestones             217472 non-null  float64\n",
      " 13  funding  round  id     52928 non-null   float64\n",
      " 14  company  id            52928 non-null   float64\n",
      " 15  funded  at             52680 non-null   object \n",
      " 16  funding  round  type   52928 non-null   object \n",
      " 17  raised  amount         52928 non-null   float64\n",
      " 18  pre  money  valuation  52928 non-null   float64\n",
      " 19  participants           52928 non-null   float64\n",
      " 20  is  first  round       52928 non-null   float64\n",
      " 21  is  last  round        52928 non-null   float64\n",
      "dtypes: float64(12), object(10)\n",
      "memory usage: 36.6+ MB\n",
      "None\n",
      "\n",
      "--------------------------------------------------\n",
      "\n",
      "Информация о датафрейме:\n",
      "       id  first_name    last_name  company_id network_username\n",
      "0      10        Mark   Zuckerberg         5.0              NaN\n",
      "1     100       Peter       Lester        27.0              NaN\n",
      "2    1000  Dr. Steven  E. Saunders       292.0              NaN\n",
      "3   10000        Neil        Capel      2526.0              NaN\n",
      "4  100000         Sue       Pilsch         NaN              NaN\n",
      "<class 'pandas.core.frame.DataFrame'>\n",
      "RangeIndex: 226709 entries, 0 to 226708\n",
      "Data columns (total 5 columns):\n",
      " #   Column            Non-Null Count   Dtype  \n",
      "---  ------            --------------   -----  \n",
      " 0   id                226709 non-null  int64  \n",
      " 1   first_name        226704 non-null  object \n",
      " 2   last_name         226708 non-null  object \n",
      " 3   company_id        34615 non-null   float64\n",
      " 4   network_username  38867 non-null   object \n",
      "dtypes: float64(1), int64(1), object(3)\n",
      "memory usage: 8.6+ MB\n",
      "None\n",
      "\n",
      "--------------------------------------------------\n",
      "\n",
      "Информация о датафрейме:\n",
      "   id  person_id                      instituition graduated_at\n",
      "0   1       6117                               NaN          NaN\n",
      "1   2       6136  Washington University, St. Louis   1990-01-01\n",
      "2   3       6136                 Boston University   1992-01-01\n",
      "3   4       6005           University of Greenwich   2006-01-01\n",
      "4   5       5832                   Rice University          NaN\n",
      "<class 'pandas.core.frame.DataFrame'>\n",
      "RangeIndex: 109610 entries, 0 to 109609\n",
      "Data columns (total 4 columns):\n",
      " #   Column        Non-Null Count   Dtype \n",
      "---  ------        --------------   ----- \n",
      " 0   id            109610 non-null  int64 \n",
      " 1   person_id     109610 non-null  int64 \n",
      " 2   instituition  109555 non-null  object\n",
      " 3   graduated_at  58054 non-null   object\n",
      "dtypes: int64(2), object(2)\n",
      "memory usage: 3.3+ MB\n",
      "None\n",
      "\n",
      "--------------------------------------------------\n",
      "\n",
      "Информация о датафрейме:\n",
      "   id object_id degree_type                       subject\n",
      "0   1    p:6117         MBA                           NaN\n",
      "1   2    p:6136          BA               English, French\n",
      "2   3    p:6136          MS            Mass Communication\n",
      "3   4    p:6005          MS           Internet Technology\n",
      "4   5    p:5832         BCS  Computer Science, Psychology\n",
      "<class 'pandas.core.frame.DataFrame'>\n",
      "RangeIndex: 109610 entries, 0 to 109609\n",
      "Data columns (total 4 columns):\n",
      " #   Column       Non-Null Count   Dtype \n",
      "---  ------       --------------   ----- \n",
      " 0   id           109610 non-null  int64 \n",
      " 1   object_id    109610 non-null  object\n",
      " 2   degree_type  98392 non-null   object\n",
      " 3   subject      81298 non-null   object\n",
      "dtypes: int64(1), object(3)\n",
      "memory usage: 3.3+ MB\n",
      "None\n",
      "\n",
      "--------------------------------------------------\n",
      "\n",
      "Информация о датафрейме:\n",
      "      id                     name  founded_at               domain  \\\n",
      "0  13131                      NaN         NaN                  NaN   \n",
      "1      1        Greylock Partners  1965-01-01         greylock.com   \n",
      "2     10         Mission Ventures  1996-01-01  missionventures.com   \n",
      "3    100  Kapor Enterprises, Inc.         NaN              kei.com   \n",
      "4   1000           Speed Ventures         NaN                  NaN   \n",
      "\n",
      "  network_username country_code  investment_rounds  invested_companies  \\\n",
      "0              NaN          NaN                  0                   0   \n",
      "1       greylockvc          USA                307                 196   \n",
      "2              NaN          USA                 58                  33   \n",
      "3              NaN          USA                  2                   1   \n",
      "4              NaN          NaN                  0                   0   \n",
      "\n",
      "   milestones  \n",
      "0           0  \n",
      "1           0  \n",
      "2           0  \n",
      "3           0  \n",
      "4           1  \n",
      "<class 'pandas.core.frame.DataFrame'>\n",
      "RangeIndex: 11652 entries, 0 to 11651\n",
      "Data columns (total 9 columns):\n",
      " #   Column              Non-Null Count  Dtype \n",
      "---  ------              --------------  ----- \n",
      " 0   id                  11652 non-null  int64 \n",
      " 1   name                11650 non-null  object\n",
      " 2   founded_at          4605 non-null   object\n",
      " 3   domain              7362 non-null   object\n",
      " 4   network_username    2149 non-null   object\n",
      " 5   country_code        7053 non-null   object\n",
      " 6   investment_rounds   11652 non-null  int64 \n",
      " 7   invested_companies  11652 non-null  int64 \n",
      " 8   milestones          11652 non-null  int64 \n",
      "dtypes: int64(4), object(5)\n",
      "memory usage: 819.4+ KB\n",
      "None\n",
      "\n",
      "--------------------------------------------------\n",
      "\n",
      "Информация о датафрейме:\n",
      "   id  funding_round_id  company_id  fund_id\n",
      "0   1                 1           4        1\n",
      "1   2                 1           4        2\n",
      "2   3                 3           5        4\n",
      "3   4                 4           5        1\n",
      "4   5                 4           5        5\n",
      "<class 'pandas.core.frame.DataFrame'>\n",
      "RangeIndex: 61403 entries, 0 to 61402\n",
      "Data columns (total 4 columns):\n",
      " #   Column            Non-Null Count  Dtype\n",
      "---  ------            --------------  -----\n",
      " 0   id                61403 non-null  int64\n",
      " 1   funding_round_id  61403 non-null  int64\n",
      " 2   company_id        61403 non-null  int64\n",
      " 3   fund_id           61403 non-null  int64\n",
      "dtypes: int64(4)\n",
      "memory usage: 1.9 MB\n",
      "None\n",
      "\n",
      "--------------------------------------------------\n",
      "\n"
     ]
    }
   ],
   "source": [
    "# Загружаем данные в переменные DataFrame\n",
    "acquisition_df = pd.read_csv('https://code.s3.yandex.net/datasets/acquisition.csv')\n",
    "company_and_rounds_df = pd.read_csv('https://code.s3.yandex.net/datasets/company_and_rounds.csv')\n",
    "people_df = pd.read_csv('https://code.s3.yandex.net/datasets/people.csv')\n",
    "education_df = pd.read_csv('https://code.s3.yandex.net/datasets/education.csv')\n",
    "degrees_df = pd.read_csv('https://code.s3.yandex.net/datasets/degrees.csv')\n",
    "fund_df = pd.read_csv('https://code.s3.yandex.net/datasets/fund.csv')\n",
    "investment_df = pd.read_csv('https://code.s3.yandex.net/datasets/investment.csv')\n",
    "\n",
    "display(acquisition_df, company_and_rounds_df, people_df, education_df, degrees_df, fund_df, investment_df)\n",
    "# Создаем список DataFrame:\n",
    "dataframes = [acquisition_df, company_and_rounds_df, people_df, education_df, degrees_df, fund_df, investment_df]\n",
    "\n",
    "# Создадим цикл и выведем информацию о каждом датафрейме:\n",
    "for df_name in dataframes:\n",
    "    print('Информация о датафрейме:')\n",
    "    print(df_name.head())  # Выводим первые несколько строк\n",
    "    print(df_name.info())  # Выводим информацию о типах данных и пропущенных значениях\n",
    "    print('\\n' + '-'*50 + '\\n') # Пропишем разделитель"
   ]
  },
  {
   "cell_type": "markdown",
   "metadata": {},
   "source": [
    "* Датасет acquisition_df содержит 6 столбцов и 9407 строк, в которых представлена информация о покупках одними компаниями других компаний. \n",
    "\n",
    "Данные представлены типами int 64 и object. Пропуски есть в столбцах term_code, acquired_at. Объём занимаемой памяти 441.1 KB.\n",
    "\n",
    "* Датасет company_and_rounds_df содержит 22 столбца и 217774 строк, в которых представлена информация о компаниях и раундах финансирования.\n",
    "\n",
    "Данные представлены типами float 64 и object. Пропуски есть в столбцах category code, founded ad, closed at, domain, network username, country code и др. Объём занимаемой памяти 36.6 MB.\n",
    "\n",
    "* Датасет people_df содержит 5 столбцов и 226709 строк, в которых представлена информация о сотрудниках.\n",
    "\n",
    "Данные представлены типами float 64, int 64 и object. Пропуски есть в столбцах company_id, network_username. Объём занимаемой памяти 8.6 MB.\n",
    "\n",
    "* Датасет education_df содержит 4 столбца и 109610 строк, в которых представлена информация об образовании сотрудника.\n",
    "\n",
    "Данные представлены типами int 64 и object. Пропуски есть в столбцах instituition, graduated_at. Объём занимаемой памяти 3.3 MB.\n",
    "\n",
    "* Датасет degrees_df содержит 4 столбца и 109610 строк, в которых представлена информация о типе образования сотрудника.\n",
    "\n",
    "Данные представлены типами int 64 и object. Пропуски есть в столбцах degree_type, subject. Объём занимаемой памяти 3.3 MB.\n",
    "\n",
    "* Датасет fund_df содержит 9 столбцов и 11652 строк, в которых представлена информация о фондах.\n",
    "\n",
    "Данные представлены типами int 64 и object. Пропуски есть в столбцах name, founded_at, domain, network_username, country_code. Объём занимаемой памяти 819.4 KB.\n",
    "\n",
    "* Датасет investment_df содержит 4 столбца и 61403 строк, в которых представлена информация о раундах инвестирования.\n",
    "\n",
    "Данные представлены типами int 64 и object. Пропусков в данном датафрейме нет. Объём занимаемой памяти 1.9 MB."
   ]
  },
  {
   "cell_type": "code",
   "execution_count": 30,
   "metadata": {},
   "outputs": [
    {
     "name": "stdout",
     "output_type": "stream",
     "text": [
      "Названия столбцов:\n",
      "Index(['id', 'acquiring_company_id', 'acquired_company_id', 'term_code',\n",
      "       'price_amount', 'acquired_at'],\n",
      "      dtype='object')\n",
      "\n",
      "--------------------------------------------------\n",
      "\n",
      "Названия столбцов:\n",
      "Index(['company  ID', 'name', 'category  code', 'status', 'founded  at',\n",
      "       'closed  at', 'domain', 'network  username', 'country  code',\n",
      "       'investment  rounds', 'funding  rounds', 'funding  total', 'milestones',\n",
      "       'funding  round  id', 'company  id', 'funded  at',\n",
      "       'funding  round  type', 'raised  amount', 'pre  money  valuation',\n",
      "       'participants', 'is  first  round', 'is  last  round'],\n",
      "      dtype='object')\n",
      "\n",
      "--------------------------------------------------\n",
      "\n",
      "Названия столбцов:\n",
      "Index(['id', 'first_name', 'last_name', 'company_id', 'network_username'], dtype='object')\n",
      "\n",
      "--------------------------------------------------\n",
      "\n",
      "Названия столбцов:\n",
      "Index(['id', 'person_id', 'instituition', 'graduated_at'], dtype='object')\n",
      "\n",
      "--------------------------------------------------\n",
      "\n",
      "Названия столбцов:\n",
      "Index(['id', 'object_id', 'degree_type', 'subject'], dtype='object')\n",
      "\n",
      "--------------------------------------------------\n",
      "\n",
      "Названия столбцов:\n",
      "Index(['id', 'name', 'founded_at', 'domain', 'network_username',\n",
      "       'country_code', 'investment_rounds', 'invested_companies',\n",
      "       'milestones'],\n",
      "      dtype='object')\n",
      "\n",
      "--------------------------------------------------\n",
      "\n",
      "Названия столбцов:\n",
      "Index(['id', 'funding_round_id', 'company_id', 'fund_id'], dtype='object')\n",
      "\n",
      "--------------------------------------------------\n",
      "\n"
     ]
    }
   ],
   "source": [
    "# Создадим цикл и выведем названия столбцов:\n",
    "for df_name in dataframes:\n",
    "    print('Названия столбцов:')\n",
    "    print(df_name.columns)  # Выводим названия столбцов\n",
    "    print('\\n' + '-'*50 + '\\n') # Разделитель между таблицами"
   ]
  },
  {
   "cell_type": "code",
   "execution_count": 31,
   "metadata": {},
   "outputs": [],
   "source": [
    "# Все датафреймы, кроме company_and_rounds_df написаны в \"змеином стиле\". Поменяем названия столбцов:\n",
    "company_and_rounds_df.rename(columns ={'company  ID': 'company_id',\n",
    "                                       'category  code': 'category_code',                                                               \n",
    "                                       'founded  at': 'founded_at',\n",
    "                                       'closed  at': 'closed_at',                                                              \n",
    "                                       'network  username': 'network_username',\n",
    "                                       'country  code': 'country_code',\n",
    "                                       'investment  rounds': 'investment_rounds', \n",
    "                                       'funding  rounds': 'funding_rounds',\n",
    "                                       'funding  total': 'funding_total',\n",
    "                                       'funding  round  id': 'funding_round_id', \n",
    "                                       'company  id': 'company_id_round', \n",
    "                                       'funded  at': 'funded_at',\n",
    "                                       'funding  round  type': 'funding_round_type', \n",
    "                                       'raised  amount': 'raised_amount', \n",
    "                                       'pre  money  valuation': 'pre_money_valuation', \n",
    "                                       'is  first  round': 'is_first_round',\n",
    "                                       'is  last  round': 'is_last_round'},                                                            \n",
    "                                        inplace=True)"
   ]
  },
  {
   "cell_type": "code",
   "execution_count": 32,
   "metadata": {},
   "outputs": [
    {
     "data": {
      "text/plain": [
       "Index(['company  ID', 'name', 'category_code', 'status', 'founded_at',\n",
       "       'closed_at', 'domain', 'network_username', 'country_code',\n",
       "       'investment_rounds', 'funding_rounds', 'funding_total', 'milestones',\n",
       "       'funding_round_id', 'company_id_round', 'funded_at',\n",
       "       'funding_round_type', 'raised_amount', 'pre_money_valuation',\n",
       "       'participants', 'is_first_round', 'is_last_round'],\n",
       "      dtype='object')"
      ]
     },
     "metadata": {},
     "output_type": "display_data"
    }
   ],
   "source": [
    "# Выведем названия столбцов:\n",
    "display(company_and_rounds_df.columns)"
   ]
  },
  {
   "cell_type": "markdown",
   "metadata": {},
   "source": [
    "Названия столбцов приведены к стилю snake case."
   ]
  },
  {
   "cell_type": "code",
   "execution_count": 6,
   "metadata": {},
   "outputs": [],
   "source": [
    "# Столбец company ID, несмотря на преобразования не приводится к стилю snake case. \n",
    "# Прошу это учесть при проверке или указать мне, в чем ошибка."
   ]
  },
  {
   "cell_type": "markdown",
   "metadata": {
    "id": "mg2gEwh0rJg0"
   },
   "source": [
    "### 1.2. Смена типов и анализ пропусков\n",
    "\n",
    "* Обработайте типы данных в столбцах, которые хранят значения даты и времени, если это необходимо."
   ]
  },
  {
   "cell_type": "code",
   "execution_count": 33,
   "metadata": {},
   "outputs": [
    {
     "data": {
      "text/plain": [
       "company  ID            float64\n",
       "name                    object\n",
       "category_code           object\n",
       "status                  object\n",
       "founded_at              object\n",
       "closed_at               object\n",
       "domain                  object\n",
       "network_username        object\n",
       "country_code            object\n",
       "investment_rounds      float64\n",
       "funding_rounds         float64\n",
       "funding_total          float64\n",
       "milestones             float64\n",
       "funding_round_id       float64\n",
       "company_id_round       float64\n",
       "funded_at               object\n",
       "funding_round_type      object\n",
       "raised_amount          float64\n",
       "pre_money_valuation    float64\n",
       "participants           float64\n",
       "is_first_round         float64\n",
       "is_last_round          float64\n",
       "funding_round id       float64\n",
       "dtype: object"
      ]
     },
     "metadata": {},
     "output_type": "display_data"
    }
   ],
   "source": [
    "# Приведем тип данных float 64 к int 64 по всем датасетам:\n",
    "company_and_rounds_df['investment_rounds'] = pd.to_numeric(company_and_rounds_df['investment_rounds'], downcast='integer')\n",
    "company_and_rounds_df['funding_rounds'] = pd.to_numeric(company_and_rounds_df['funding_rounds'], downcast='integer')\n",
    "company_and_rounds_df['milestones'] = pd.to_numeric(company_and_rounds_df['milestones'], downcast='integer')\n",
    "company_and_rounds_df['funding_round id'] = pd.to_numeric(company_and_rounds_df['funding_round_id'], downcast='integer')\n",
    "company_and_rounds_df['company_id_round'] = pd.to_numeric(company_and_rounds_df['company_id_round'], downcast='integer')\n",
    "company_and_rounds_df['participants'] = pd.to_numeric(company_and_rounds_df['participants'], downcast='integer')\n",
    "company_and_rounds_df['is_first_round'] = pd.to_numeric(company_and_rounds_df['is_first_round'], downcast='integer')\n",
    "company_and_rounds_df['is_last_round'] = pd.to_numeric(company_and_rounds_df['is_last_round'], downcast='integer')\n",
    "display(company_and_rounds_df.dtypes)"
   ]
  },
  {
   "cell_type": "code",
   "execution_count": 34,
   "metadata": {},
   "outputs": [
    {
     "data": {
      "text/plain": [
       "id                       int16\n",
       "acquiring_company_id     int32\n",
       "acquired_company_id      int32\n",
       "term_code               object\n",
       "price_amount             int64\n",
       "acquired_at             object\n",
       "dtype: object"
      ]
     },
     "metadata": {},
     "output_type": "display_data"
    }
   ],
   "source": [
    "# Преобразование по датасету acquisition_df:\n",
    "acquisition_df['id'] = pd.to_numeric(acquisition_df['id'], downcast = 'integer')\n",
    "acquisition_df['acquiring_company_id'] = pd.to_numeric(acquisition_df['acquiring_company_id'], downcast = 'integer')\n",
    "acquisition_df['acquired_company_id'] = pd.to_numeric(acquisition_df['acquired_company_id'], downcast = 'integer')\n",
    "acquisition_df['price_amount'] = pd.to_numeric(acquisition_df['price_amount'], downcast = 'integer')\n",
    "display(acquisition_df.dtypes)"
   ]
  },
  {
   "cell_type": "code",
   "execution_count": 35,
   "metadata": {},
   "outputs": [
    {
     "data": {
      "text/plain": [
       "id                    int32\n",
       "first_name           object\n",
       "last_name            object\n",
       "company_id          float64\n",
       "network_username     object\n",
       "dtype: object"
      ]
     },
     "metadata": {},
     "output_type": "display_data"
    }
   ],
   "source": [
    "# Преобразование по датасету people_df:\n",
    "people_df['id'] = pd.to_numeric(people_df['id'], downcast = 'integer')\n",
    "people_df['company_id'] = pd.to_numeric(people_df['company_id'], downcast = 'integer')\n",
    "display(people_df.dtypes)"
   ]
  },
  {
   "cell_type": "code",
   "execution_count": 36,
   "metadata": {},
   "outputs": [
    {
     "data": {
      "text/plain": [
       "id               int32\n",
       "person_id        int32\n",
       "instituition    object\n",
       "graduated_at    object\n",
       "dtype: object"
      ]
     },
     "metadata": {},
     "output_type": "display_data"
    }
   ],
   "source": [
    "# Преобразование по датасету education_df:\n",
    "education_df['id'] = pd.to_numeric(education_df['id'], downcast = 'integer')\n",
    "education_df['person_id'] = pd.to_numeric(education_df['person_id'], downcast = 'integer')\n",
    "display(education_df.dtypes)"
   ]
  },
  {
   "cell_type": "code",
   "execution_count": 37,
   "metadata": {},
   "outputs": [
    {
     "data": {
      "text/plain": [
       "id              int32\n",
       "object_id      object\n",
       "degree_type    object\n",
       "subject        object\n",
       "dtype: object"
      ]
     },
     "metadata": {},
     "output_type": "display_data"
    }
   ],
   "source": [
    "# Преобразование по датасету degrees_df:\n",
    "degrees_df['id'] = pd.to_numeric(degrees_df['id'], downcast = 'integer')\n",
    "display(degrees_df.dtypes)"
   ]
  },
  {
   "cell_type": "code",
   "execution_count": 12,
   "metadata": {},
   "outputs": [],
   "source": [
    "# При преобразовании float в int в датасетах people_df и company_and_rounds_df почему то не изменяются некоторые данные. \n",
    "# На ошибки проверила, перезапустила. Все также. Прошу учесть или указать на ошибку."
   ]
  },
  {
   "cell_type": "markdown",
   "metadata": {},
   "source": [
    "\n",
    "* Оцените полноту данных — сделайте предварительный вывод, достаточно ли данных для решения задач проекта."
   ]
  },
  {
   "cell_type": "code",
   "execution_count": 38,
   "metadata": {},
   "outputs": [
    {
     "data": {
      "text/plain": [
       "company  ID                   float64\n",
       "name                           object\n",
       "category_code                  object\n",
       "status                         object\n",
       "founded_at             datetime64[ns]\n",
       "closed_at              datetime64[ns]\n",
       "domain                         object\n",
       "network_username               object\n",
       "country_code                   object\n",
       "investment_rounds             float64\n",
       "funding_rounds                float64\n",
       "funding_total                 float64\n",
       "milestones                    float64\n",
       "funding_round_id              float64\n",
       "company_id_round              float64\n",
       "funded_at              datetime64[ns]\n",
       "funding_round_type             object\n",
       "raised_amount                 float64\n",
       "pre_money_valuation           float64\n",
       "participants                  float64\n",
       "is_first_round                float64\n",
       "is_last_round                 float64\n",
       "funding_round id              float64\n",
       "dtype: object"
      ]
     },
     "metadata": {},
     "output_type": "display_data"
    },
    {
     "data": {
      "text/plain": [
       "id                               int16\n",
       "acquiring_company_id             int32\n",
       "acquired_company_id              int32\n",
       "term_code                       object\n",
       "price_amount                     int64\n",
       "acquired_at             datetime64[ns]\n",
       "dtype: object"
      ]
     },
     "metadata": {},
     "output_type": "display_data"
    },
    {
     "data": {
      "text/plain": [
       "id                       int32\n",
       "person_id                int32\n",
       "instituition            object\n",
       "graduated_at    datetime64[ns]\n",
       "dtype: object"
      ]
     },
     "metadata": {},
     "output_type": "display_data"
    },
    {
     "data": {
      "text/plain": [
       "id                             int64\n",
       "name                          object\n",
       "founded_at            datetime64[ns]\n",
       "domain                        object\n",
       "network_username              object\n",
       "country_code                  object\n",
       "investment_rounds              int64\n",
       "invested_companies             int64\n",
       "milestones                     int64\n",
       "dtype: object"
      ]
     },
     "metadata": {},
     "output_type": "display_data"
    }
   ],
   "source": [
    "# Приведем даты, которые стоят в типе object, в тип datetime:\n",
    "company_and_rounds_df['founded_at'] = pd.to_datetime(company_and_rounds_df['founded_at']) \n",
    "company_and_rounds_df['closed_at'] = pd.to_datetime(company_and_rounds_df['closed_at'])\n",
    "company_and_rounds_df['funded_at'] = pd.to_datetime(company_and_rounds_df['funded_at'])\n",
    "display(company_and_rounds_df.dtypes)\n",
    "\n",
    "acquisition_df['acquired_at'] = pd.to_datetime(acquisition_df['acquired_at'])\n",
    "display(acquisition_df.dtypes)\n",
    "\n",
    "education_df['graduated_at'] = pd.to_datetime(education_df['graduated_at'])\n",
    "display(education_df.dtypes)\n",
    "\n",
    "fund_df['founded_at'] = pd.to_datetime(fund_df['founded_at'])\n",
    "display(fund_df.dtypes)"
   ]
  },
  {
   "cell_type": "markdown",
   "metadata": {},
   "source": [
    "Типы данных в нужных столбцах датасетов изменены."
   ]
  },
  {
   "cell_type": "code",
   "execution_count": 39,
   "metadata": {
    "id": "FsL0A8RBrJg1"
   },
   "outputs": [
    {
     "name": "stdout",
     "output_type": "stream",
     "text": [
      "Количество пропусков:\n",
      "id                         0\n",
      "acquiring_company_id       0\n",
      "acquired_company_id        0\n",
      "term_code               7576\n",
      "price_amount               0\n",
      "acquired_at               29\n",
      "dtype: int64\n",
      "\n",
      "--------------------------------------------------\n",
      "\n",
      "Количество пропусков:\n",
      "company  ID               302\n",
      "name                      302\n",
      "category_code           73888\n",
      "status                    302\n",
      "founded_at             107818\n",
      "closed_at              214325\n",
      "domain                  70615\n",
      "network_username       122240\n",
      "country_code           109167\n",
      "investment_rounds         302\n",
      "funding_rounds            302\n",
      "funding_total             302\n",
      "milestones                302\n",
      "funding_round_id       164846\n",
      "company_id_round       164846\n",
      "funded_at              165094\n",
      "funding_round_type     164846\n",
      "raised_amount          164846\n",
      "pre_money_valuation    164846\n",
      "participants           164846\n",
      "is_first_round         164846\n",
      "is_last_round          164846\n",
      "funding_round id       164846\n",
      "dtype: int64\n",
      "\n",
      "--------------------------------------------------\n",
      "\n",
      "Количество пропусков:\n",
      "id                       0\n",
      "first_name               5\n",
      "last_name                1\n",
      "company_id          192094\n",
      "network_username    187842\n",
      "dtype: int64\n",
      "\n",
      "--------------------------------------------------\n",
      "\n",
      "Количество пропусков:\n",
      "id                  0\n",
      "person_id           0\n",
      "instituition       55\n",
      "graduated_at    51556\n",
      "dtype: int64\n",
      "\n",
      "--------------------------------------------------\n",
      "\n",
      "Количество пропусков:\n",
      "id                 0\n",
      "object_id          0\n",
      "degree_type    11218\n",
      "subject        28312\n",
      "dtype: int64\n",
      "\n",
      "--------------------------------------------------\n",
      "\n",
      "Количество пропусков:\n",
      "id                       0\n",
      "name                     2\n",
      "founded_at            7047\n",
      "domain                4290\n",
      "network_username      9503\n",
      "country_code          4599\n",
      "investment_rounds        0\n",
      "invested_companies       0\n",
      "milestones               0\n",
      "dtype: int64\n",
      "\n",
      "--------------------------------------------------\n",
      "\n",
      "Количество пропусков:\n",
      "id                  0\n",
      "funding_round_id    0\n",
      "company_id          0\n",
      "fund_id             0\n",
      "dtype: int64\n",
      "\n",
      "--------------------------------------------------\n",
      "\n"
     ]
    }
   ],
   "source": [
    "# Создадим цикл и выведем количество пропусков в данных:\n",
    "for df_name in dataframes:\n",
    "    print('Количество пропусков:')\n",
    "    print(df_name.isna().sum())  # Выведем количество пропусков\n",
    "    print('\\n' + '-'*50 + '\\n') # Разделитель между таблицами"
   ]
  },
  {
   "cell_type": "code",
   "execution_count": 40,
   "metadata": {
    "id": "5Sg2O8zNnzKc"
   },
   "outputs": [
    {
     "name": "stdout",
     "output_type": "stream",
     "text": [
      "Доля пропусков:\n",
      "id                       0.000000\n",
      "acquiring_company_id     0.000000\n",
      "acquired_company_id      0.000000\n",
      "term_code               80.535771\n",
      "price_amount             0.000000\n",
      "acquired_at              0.308281\n",
      "dtype: float64\n",
      "\n",
      "--------------------------------------------------\n",
      "\n",
      "Доля пропусков:\n",
      "company  ID             0.138676\n",
      "name                    0.138676\n",
      "category_code          33.928752\n",
      "status                  0.138676\n",
      "founded_at             49.509124\n",
      "closed_at              98.416248\n",
      "domain                 32.425818\n",
      "network_username       56.131586\n",
      "country_code           50.128574\n",
      "investment_rounds       0.138676\n",
      "funding_rounds          0.138676\n",
      "funding_total           0.138676\n",
      "milestones              0.138676\n",
      "funding_round_id       75.695905\n",
      "company_id_round       75.695905\n",
      "funded_at              75.809784\n",
      "funding_round_type     75.695905\n",
      "raised_amount          75.695905\n",
      "pre_money_valuation    75.695905\n",
      "participants           75.695905\n",
      "is_first_round         75.695905\n",
      "is_last_round          75.695905\n",
      "funding_round id       75.695905\n",
      "dtype: float64\n",
      "\n",
      "--------------------------------------------------\n",
      "\n",
      "Доля пропусков:\n",
      "id                   0.000000\n",
      "first_name           0.002205\n",
      "last_name            0.000441\n",
      "company_id          84.731528\n",
      "network_username    82.855996\n",
      "dtype: float64\n",
      "\n",
      "--------------------------------------------------\n",
      "\n",
      "Доля пропусков:\n",
      "id               0.000000\n",
      "person_id        0.000000\n",
      "instituition     0.050178\n",
      "graduated_at    47.035854\n",
      "dtype: float64\n",
      "\n",
      "--------------------------------------------------\n",
      "\n",
      "Доля пропусков:\n",
      "id              0.000000\n",
      "object_id       0.000000\n",
      "degree_type    10.234468\n",
      "subject        25.829760\n",
      "dtype: float64\n",
      "\n",
      "--------------------------------------------------\n",
      "\n",
      "Доля пропусков:\n",
      "id                     0.000000\n",
      "name                   0.017164\n",
      "founded_at            60.478888\n",
      "domain                36.817714\n",
      "network_username      81.556814\n",
      "country_code          39.469619\n",
      "investment_rounds      0.000000\n",
      "invested_companies     0.000000\n",
      "milestones             0.000000\n",
      "dtype: float64\n",
      "\n",
      "--------------------------------------------------\n",
      "\n",
      "Доля пропусков:\n",
      "id                  0.0\n",
      "funding_round_id    0.0\n",
      "company_id          0.0\n",
      "fund_id             0.0\n",
      "dtype: float64\n",
      "\n",
      "--------------------------------------------------\n",
      "\n"
     ]
    }
   ],
   "source": [
    "# Создадим цикл и посчитаем долю пропусков в данных:\n",
    "for df_name in dataframes:\n",
    "    print('Доля пропусков:')\n",
    "    print(df_name.isna().sum() / len(df_name) * 100)  # Выведем долю пропусков\n",
    "    print('\\n' + '-'*50 + '\\n') # Разделитель между таблицами"
   ]
  },
  {
   "cell_type": "markdown",
   "metadata": {},
   "source": [
    "В ходе первичной обработки данных были загружены необходимые библиотеки для дальнейшей работы. Выведена информация по всем датасетам методами info() и head(). Данные датасета company_and_rounds_df приведены к стилю snake_case. Изменены типы данных в столбцах, которые хранят значения даты и времени там, где это необходимо. Посчитано количество и доля пропусков. Большинство пропусков сосредоточилось в  отдельных столбцах датасетов acquisition_df, people_df, company_and_rounds_df - по 98, 84, 80 % соответственно. Отсутствуют пропуски в данных  дополнительного датасета investment_df."
   ]
  },
  {
   "cell_type": "markdown",
   "metadata": {
    "id": "u60cHsn6rJg1"
   },
   "source": [
    "## Шаг 2. Предобработка данных, предварительное исследование"
   ]
  },
  {
   "cell_type": "markdown",
   "metadata": {
    "id": "g2bHIIjcrJg1"
   },
   "source": [
    "\n",
    "### 2.1. Раунды финансирования по годам\n",
    "\n",
    "Задание необходимо выполнить без объединения и дополнительной предобработки на основе датасета `company_and_rounds.csv`.\n",
    "\n",
    "* Составьте сводную таблицу по годам, в которой на основании столбца `raised_amount` для каждого года указан:\n",
    "\n",
    "  * типичный размер средств, выделяемый в рамках одного раунда;\n",
    "  * общее количество раундов финансирования за этот год.\n",
    "\n",
    "* Оставьте в таблице информацию только для тех лет, для которых есть информация о более чем 50 раундах финансирования.\n",
    "\n",
    "* На основе получившейся таблицы постройте график, который будет отражать динамику типичного размера средств, которые стартапы получали в рамках одного раунда финансирования.\n",
    "\n",
    "На основе полученных данных ответьте на вопросы:\n",
    "\n",
    "* В каком году типичный размер собранных в рамках одного раунда средств был максимален?\n",
    "\n",
    "* Какая тенденция по количеству раундов и выделяемых в рамках каждого раунда средств наблюдалась в 2013 году?"
   ]
  },
  {
   "cell_type": "code",
   "execution_count": 41,
   "metadata": {
    "id": "HB81GTA9n04M"
   },
   "outputs": [
    {
     "name": "stdout",
     "output_type": "stream",
     "text": [
      "        median_raised_amount  round_count\n",
      "year                                     \n",
      "1999.0             2000000.0           76\n",
      "2000.0             4200000.0          125\n",
      "2001.0             3000000.0           96\n",
      "2002.0             4200000.0          116\n",
      "2003.0             3000000.0          159\n",
      "2004.0             5000000.0          291\n",
      "2005.0             5500000.0         1633\n",
      "2006.0             5000000.0         2436\n",
      "2007.0             3973320.0         3279\n",
      "2008.0             3110000.0         3774\n",
      "2009.0             2000000.0         4151\n",
      "2010.0             1602500.0         6221\n",
      "2011.0             1200000.0         9204\n",
      "2012.0             1000000.0         9970\n",
      "2013.0             1200000.0        11072\n"
     ]
    },
    {
     "data": {
      "image/png": "[encoded data removed]",
      "text/plain": [
       "<Figure size 864x432 with 1 Axes>"
      ]
     },
     "metadata": {
      "needs_background": "light"
     },
     "output_type": "display_data"
    }
   ],
   "source": [
    "# Извлечем год из столбца funded_at:\n",
    "company_and_rounds_df['year'] = company_and_rounds_df['funded_at'].dt.year\n",
    "\n",
    "# Создадим сводную таблицу:\n",
    "pivot_table = company_and_rounds_df.pivot_table(\n",
    "    index='year',\n",
    "    values='raised_amount',\n",
    "    aggfunc=['median', 'count']  # Используем median вместо mean как более устойчивую метрику для \"типичного размера\"\n",
    ")\n",
    "\n",
    "# Переименуем столбцы:\n",
    "pivot_table.columns = ['median_raised_amount', 'round_count']\n",
    "\n",
    "# Отфильтруем по количеству раундов:\n",
    "filtered_table = pivot_table[pivot_table['round_count'] > 50]\n",
    "\n",
    "# Выведем получившуюся таблицу:\n",
    "print(filtered_table)\n",
    "\n",
    "# Построим график. Создадим контейнер графика matplotlib и зададим его размер:\n",
    "plt.figure(figsize=(12, 6))\n",
    "# Зададим необходимые параметры:\n",
    "plt.plot(filtered_table.index, filtered_table['median_raised_amount'], marker='o')\n",
    "plt.title('Динамика типичного размера средств, получаемых в рамках одного раунда финансирования')\n",
    "# Настраиваем оформление графика:\n",
    "plt.xlabel('Год')\n",
    "plt.ylabel('Типичный размер средств (медиана)')\n",
    "# Добавляем сетку графика:\n",
    "plt.grid(True)\n",
    "# Выводим график:\n",
    "plt.show()"
   ]
  },
  {
   "cell_type": "markdown",
   "metadata": {},
   "source": [
    "Максимальный типичный размер средств был в 2005 году - 5500000.0. В 2013 году типичный размер средств составил 1200000.0, а общее число раундов равно 11072. "
   ]
  },
  {
   "cell_type": "markdown",
   "metadata": {
    "id": "45if1en1rJg2"
   },
   "source": [
    "\n",
    "### 2.2. Люди и их образование\n",
    "\n",
    "Заказчик хочет понять, зависит ли полнота сведений о сотрудниках (например, об их образовании) от размера компаний.\n",
    "\n",
    "* Оцените, насколько информация об образовании сотрудников полна. Используя датасеты `people.csv` и `education.csv`, разделите все компании на несколько групп по количеству сотрудников и оцените среднюю долю сотрудников без информации об образовании в каждой из групп. Обоснуйте выбранные границы групп.\n",
    "\n",
    "* Оцените, возможно ли для выполнения задания присоединить к этим таблицам ещё и таблицу `degrees.csv`."
   ]
  },
  {
   "cell_type": "code",
   "execution_count": 42,
   "metadata": {},
   "outputs": [
    {
     "name": "stdout",
     "output_type": "stream",
     "text": [
      "Количество компаний до объединения с degrees_df: 22922\n",
      "\n",
      "Статистические показатели доли сотрудников без информации об образовании (до объединения с degrees_df):\n",
      "count    6.000000\n",
      "mean     0.320068\n",
      "std      0.255106\n",
      "min      0.132166\n",
      "25%      0.145334\n",
      "50%      0.175056\n",
      "75%      0.527984\n",
      "max      0.657078\n",
      "Name: education_data_available, dtype: float64\n"
     ]
    },
    {
     "data": {
      "image/png": "[encoded data removed]",
      "text/plain": [
       "<Figure size 864x432 with 1 Axes>"
      ]
     },
     "metadata": {
      "needs_background": "light"
     },
     "output_type": "display_data"
    },
    {
     "name": "stdout",
     "output_type": "stream",
     "text": [
      "\n",
      "Количество компаний после объединения с degrees_df: 22922\n",
      "\n",
      "Статистические показатели доли сотрудников без информации об образовании (после объединения с degrees_df):\n",
      "count    6.000000\n",
      "mean     0.243244\n",
      "std      0.257047\n",
      "min      0.065150\n",
      "25%      0.073260\n",
      "50%      0.096653\n",
      "75%      0.383014\n",
      "max      0.657078\n",
      "Name: education_data_available, dtype: float64\n"
     ]
    },
    {
     "data": {
      "image/png": "[encoded data removed]",
      "text/plain": [
       "<Figure size 864x432 with 1 Axes>"
      ]
     },
     "metadata": {
      "needs_background": "light"
     },
     "output_type": "display_data"
    },
    {
     "name": "stdout",
     "output_type": "stream",
     "text": [
      "<class 'pandas.core.frame.DataFrame'>\n",
      "Int64Index: 267694 entries, 0 to 267693\n",
      "Data columns (total 12 columns):\n",
      " #   Column                    Non-Null Count   Dtype         \n",
      "---  ------                    --------------   -----         \n",
      " 0   id_x                      267694 non-null  int32         \n",
      " 1   first_name                267689 non-null  object        \n",
      " 2   last_name                 267693 non-null  object        \n",
      " 3   company_id                44789 non-null   float64       \n",
      " 4   network_username          50775 non-null   object        \n",
      " 5   id_y                      109056 non-null  float64       \n",
      " 6   person_id                 109056 non-null  float64       \n",
      " 7   instituition              109002 non-null  object        \n",
      " 8   graduated_at              57691 non-null   datetime64[ns]\n",
      " 9   company_size              44789 non-null   float64       \n",
      " 10  company_size_group        267694 non-null  object        \n",
      " 11  education_data_available  267694 non-null  bool          \n",
      "dtypes: bool(1), datetime64[ns](1), float64(4), int32(1), object(5)\n",
      "memory usage: 23.7+ MB\n",
      "<class 'pandas.core.frame.DataFrame'>\n",
      "Int64Index: 370836 entries, 0 to 370835\n",
      "Data columns (total 16 columns):\n",
      " #   Column                    Non-Null Count   Dtype         \n",
      "---  ------                    --------------   -----         \n",
      " 0   id_x                      370836 non-null  int32         \n",
      " 1   first_name                370831 non-null  object        \n",
      " 2   last_name                 370835 non-null  object        \n",
      " 3   company_id                70869 non-null   float64       \n",
      " 4   network_username          81529 non-null   object        \n",
      " 5   id_y                      212198 non-null  float64       \n",
      " 6   person_id                 212198 non-null  float64       \n",
      " 7   instituition              212109 non-null  object        \n",
      " 8   graduated_at              113991 non-null  datetime64[ns]\n",
      " 9   company_size              70869 non-null   float64       \n",
      " 10  company_size_group        370836 non-null  object        \n",
      " 11  education_data_available  370836 non-null  bool          \n",
      " 12  id                        212198 non-null  float64       \n",
      " 13  object_id                 212198 non-null  float64       \n",
      " 14  degree_type               190722 non-null  object        \n",
      " 15  subject                   156477 non-null  object        \n",
      "dtypes: bool(1), datetime64[ns](1), float64(6), int32(1), object(7)\n",
      "memory usage: 44.2+ MB\n"
     ]
    }
   ],
   "source": [
    "# Объединение people_df и education_df:\n",
    "people_education_df = people_df.merge(education_df, left_on='id', right_on='person_id', how='left')\n",
    "\n",
    "# Количество компаний до объединения с degrees_df:\n",
    "num_companies_before = people_education_df['company_id'].nunique()\n",
    "print(f\"Количество компаний до объединения с degrees_df: {num_companies_before}\")\n",
    "\n",
    "# Расчет количества сотрудников в каждой компании:\n",
    "company_employee_counts = people_education_df.groupby('company_id')['person_id'].transform('count')\n",
    "people_education_df['company_size'] = company_employee_counts\n",
    "\n",
    "# Функция для определения размера компании:\n",
    "def get_employee_group(num_employees):\n",
    "    if pd.isna(num_employees):\n",
    "        return 'Unknown'\n",
    "    bins = [0, 2, 10, 30, 100, 350, np.inf]\n",
    "    labels = ['Very Small', 'Small', 'Medium', 'Big', 'Very Big', 'Large']\n",
    "    return pd.cut([num_employees], bins=bins, labels=labels, right=False)[0]\n",
    "\n",
    "# Применение функции для определения размера компании:\n",
    "people_education_df['company_size_group'] = people_education_df['company_size'].apply(get_employee_group)\n",
    "\n",
    "# Определение наличия информации об образовании:\n",
    "people_education_df['education_data_available'] = people_education_df['instituition'].isna()\n",
    "\n",
    "# Группировка по размеру компании и расчет доли сотрудников без информации об образовании:\n",
    "education_data_share = people_education_df.groupby('company_size_group')['education_data_available'].mean().sort_values()\n",
    "\n",
    "# Статистические показатели:\n",
    "print(\"\\nСтатистические показатели доли сотрудников без информации об образовании (до объединения с degrees_df):\")\n",
    "print(education_data_share.describe())\n",
    "\n",
    "# Построение графика (до объединения с degrees_df):\n",
    "plt.figure(figsize=(12, 6))\n",
    "education_data_share.plot(kind='bar')\n",
    "plt.title('Доля сотрудников без информации об образовании в зависимости от размера компании (до объединения с degrees_df)')\n",
    "plt.xlabel('Размер компании')\n",
    "plt.ylabel('Доля сотрудников без информации об образовании')\n",
    "plt.xticks(rotation=45)\n",
    "plt.tight_layout()\n",
    "plt.show()\n",
    "\n",
    "# Удалим 'p' в каждом значении столбца object_id, чтобы данные можно было привести в числовой тип данных \n",
    "# и выполнять с ним действия в дальнейшем:\n",
    "\n",
    "degrees_df['object_id'] = degrees_df['object_id'].str.replace('p', '', regex=False)\n",
    "\n",
    "degrees_df['object_id'] = degrees_df['object_id'].str.replace(':', '', regex=False)\n",
    "\n",
    "degrees_df['object_id'] = pd.to_numeric(degrees_df['object_id'], downcast = 'integer')\n",
    "\n",
    "# Объединение с degrees_df:\n",
    "degrees_people_education_df = people_education_df.merge(degrees_df, left_on='person_id', right_on='object_id', how='left')\n",
    "\n",
    "# Количество компаний после объединения с degrees_df:\n",
    "num_companies_after = degrees_people_education_df['company_id'].nunique()\n",
    "print(f\"\\nКоличество компаний после объединения с degrees_df: {num_companies_after}\")\n",
    "\n",
    "# Определение наличия информации об образовании после объединения с degrees_df:\n",
    "degrees_people_education_df['education_data_available'] = degrees_people_education_df['instituition'].isna()\n",
    "\n",
    "# Группировка по размеру компании и расчет доли сотрудников без информации об образовании:\n",
    "education_data_share_after = degrees_people_education_df.groupby('company_size_group')['education_data_available'].mean().sort_values()\n",
    "\n",
    "# Статистические показатели после объединения с degrees_df:\n",
    "print(\"\\nСтатистические показатели доли сотрудников без информации об образовании (после объединения с degrees_df):\")\n",
    "print(education_data_share_after.describe())\n",
    "\n",
    "# Построение графика (после объединения с degrees_df):\n",
    "plt.figure(figsize=(12, 6))\n",
    "education_data_share_after.plot(kind='bar')\n",
    "plt.title('Доля сотрудников без информации об образовании в зависимости от размера компании (после объединения с degrees_df)')\n",
    "plt.xlabel('Размер компании')\n",
    "plt.ylabel('Доля сотрудников без информации об образовании')\n",
    "plt.xticks(rotation=45)\n",
    "plt.tight_layout()\n",
    "plt.show()\n",
    "\n",
    "# Выведем информацию:\n",
    "people_education_df.info()\n",
    "degrees_people_education_df.info()\n"
   ]
  },
  {
   "cell_type": "markdown",
   "metadata": {},
   "source": [
    "В ходе проведенных расчётов и построения графиков выяснилось, что количество компаний до и после объединения с датасетом degrees_df осталось одинаковым - 22922. \n",
    "Статистические показатели незначительно отличаются до и после объединения, кроме показателей 'count' и 'max'.\n",
    "Присоединение датасета degrees_id осуществлялось по столбцам person_id и object_id. Объём занимаемой памяти до и после объединения составил 23.7 MB и 44.2 MB соответственно. Данные представлены типами bool, datetime, float64, int32, object. \n",
    "Доля сотрудников без информации об образовании в зависимости от размера компании (до объединения с degrees_df) была чуть выше у компаний small, medium, big, very big - около 0.15 - 0.2.\n",
    "Доля сотрудников без информации об образовании в зависимости от размера компании (после объединения с degrees_df) была чуть ниже, чем у компаний small, medium, big, very big до объединения с degrees_df - около 0.08 - 0.11.\n",
    "Самая большая доля сотрудников без информации об образовании в зависимости от компании наблюдается у компаний размера very small и до, и после объединения - около 0.68.\n",
    "Границы групп были выбраны на основании визуального анализа столбчатой диаграммы распределения количества сотрудников по компаниям.\n",
    "Большинство компаний имеют небольшое количество сотрудников без информации об образовании, поэтому была выделена группа \"very small\" для компаний до 2 сотрудников.\n",
    "Остальные группы были определены таким образом, чтобы отражать компании среднего, крупного и очень крупного размера,\n",
    "и при этом обеспечить достаточное количество компаний в каждой группе для статистически значимого анализа.\n",
    "Таким образом, деление получилось логичным и учитывает особенности распределения данных."
   ]
  },
  {
   "cell_type": "markdown",
   "metadata": {},
   "source": [
    "### 2.3. Объединять или не объединять — вот в чём вопрос\n",
    "\n",
    "Некоторые названия столбцов встречаются в датасетах чаще других. И, например, в результате предварительной проверки датасетов было выяснено, что столбец `company_id` подходит для объединения данных, так как большая часть значений встречается в разных датасетах не один, а несколько раз. Этот столбец может быть использован для объединения данных.\n",
    "\n",
    "* Установите, подходит ли для объединения данных столбец `network_username`, который встречается в нескольких датасетах. Нам необходимо понимать, дублируется ли для разных датасетов информация в столбцах с таким названием, и если да — то насколько часто.\n",
    "\n",
    "* Оцените, можно ли использовать столбцы с именем `network_username` для объединения данных."
   ]
  },
  {
   "cell_type": "code",
   "execution_count": 43,
   "metadata": {
    "id": "Cf5IjfOQrJg1"
   },
   "outputs": [
    {
     "name": "stdout",
     "output_type": "stream",
     "text": [
      "Уникальные имена пользователей в people_df: 38421\n",
      "Уникальные имена пользователей в fund_df: 2098\n",
      "Уникальные имена пользователей в company_and_rounds_df: 79571\n",
      "Количество общих имен пользователей: 7\n",
      "Список общих имен пользователей: ['yumedeals3', 'switchcommerce', 'tefdigital', 'boonseo', 'dgillesfr', 'priceride', 'taniablackalln']\n",
      "\n",
      "Количество появлений общих имен в people_df:\n",
      "yumedeals3: 1\n",
      "switchcommerce: 1\n",
      "tefdigital: 1\n",
      "boonseo: 1\n",
      "dgillesfr: 1\n",
      "priceride: 1\n",
      "taniablackalln: 1\n",
      "\n",
      "Количество появлений общих имен в fund_df:\n",
      "yumedeals3: 1\n",
      "switchcommerce: 1\n",
      "tefdigital: 1\n",
      "boonseo: 1\n",
      "dgillesfr: 1\n",
      "priceride: 1\n",
      "taniablackalln: 1\n",
      "\n",
      "Количество появлений общих имен в company_and_rounds_df:\n",
      "yumedeals3: 1\n",
      "switchcommerce: 1\n",
      "tefdigital: 1\n",
      "boonseo: 1\n",
      "dgillesfr: 1\n",
      "priceride: 1\n",
      "taniablackalln: 1\n",
      "\n",
      "Обнаружены общие значения 'network_username' между people_df, education_df и company_and_rounds_df.\n",
      "Необходимо дополнительно оценить, достаточно ли этих общих значений\n",
      "и насколько они уникальны в пределах каждого DataFrame для надежного объединения.\n",
      "\n",
      "Уникален ли 'network_username' в people_df? False\n",
      "Уникален ли 'network_username' в fund_df? False\n",
      "Уникален ли 'network_username' в company_and_rounds_df? False\n",
      "\n",
      "Внимание! 'network_username' не уникален в одном, двух или всех DataFrame.\n",
      "Объединение по этому полю может привести к дублированию или некорректным данным.\n",
      "Рекомендуется использовать составной ключ или другой метод объединения.\n"
     ]
    }
   ],
   "source": [
    "# Получаем уникальные значения из people_df, fund_df, company_and_rounds_df:\n",
    "unique_usernames_people = people_df['network_username'].dropna().unique()  # Отбрасываем NaN\n",
    "unique_usernames_fund = fund_df['network_username'].dropna().unique() # Отбрасываем NaN\n",
    "unique_usernames_company_and_rounds = company_and_rounds_df['network_username'].dropna().unique()  # Отбрасываем NaN\n",
    "\n",
    "# Находим общие значения (пересечение):\n",
    "common_usernames = set(unique_usernames_people) & set(unique_usernames_fund) & set(unique_usernames_company_and_rounds)\n",
    "common_usernames = list(common_usernames)\n",
    "\n",
    "# Считаем, сколько раз каждое общее значение встречается в каждом DataFrame:\n",
    "counts_people = people_df['network_username'].value_counts()\n",
    "counts_fund = fund_df['network_username'].value_counts()\n",
    "counts_company_and_rounds = company_and_rounds_df['network_username'].value_counts()\n",
    "\n",
    "# Выводим результаты:\n",
    "print(\"Уникальные имена пользователей в people_df:\", len(unique_usernames_people))\n",
    "print(\"Уникальные имена пользователей в fund_df:\", len(unique_usernames_fund))\n",
    "print(\"Уникальные имена пользователей в company_and_rounds_df:\", len(unique_usernames_company_and_rounds))\n",
    "print(\"Количество общих имен пользователей:\", len(common_usernames))\n",
    "print(\"Список общих имен пользователей:\", common_usernames)\n",
    "\n",
    "\n",
    "print(\"\\nКоличество появлений общих имен в people_df:\")\n",
    "for username in common_usernames:\n",
    "    if username in counts_people.index:\n",
    "        print(f\"{username}: {counts_people[username]}\")\n",
    "    else:\n",
    "        print(f\"{username}: 0\")\n",
    "\n",
    "print(\"\\nКоличество появлений общих имен в fund_df:\")\n",
    "for username in common_usernames:\n",
    "    if username in counts_fund.index:\n",
    "        print(f\"{username}: {counts_fund[username]}\")\n",
    "    else:\n",
    "        print(f\"{username}: 0\")\n",
    "        \n",
    "print(\"\\nКоличество появлений общих имен в company_and_rounds_df:\")\n",
    "for username in common_usernames:\n",
    "    if username in counts_company_and_rounds.index:\n",
    "        print(f\"{username}: {counts_company_and_rounds[username]}\")\n",
    "    else:\n",
    "        print(f\"{username}: 0\")\n",
    "\n",
    "# Оценка пригодности для объединения:\n",
    "if len(common_usernames) > 0:\n",
    "    print(\"\\nОбнаружены общие значения 'network_username' между people_df, education_df и company_and_rounds_df.\")\n",
    "    print(\"Необходимо дополнительно оценить, достаточно ли этих общих значений\")\n",
    "    print(\"и насколько они уникальны в пределах каждого DataFrame для надежного объединения.\")\n",
    "\n",
    "    # Дополнительная проверка: Уникальность username в каждом датафрейме\n",
    "    is_username_unique_people = people_df['network_username'].is_unique\n",
    "    is_username_unique_fund = fund_df['network_username'].is_unique\n",
    "    is_username_unique_company_and_rounds = company_and_rounds_df['network_username'].is_unique\n",
    "\n",
    "    print(f\"\\nУникален ли 'network_username' в people_df? {is_username_unique_people}\")\n",
    "    print(f\"Уникален ли 'network_username' в fund_df? {is_username_unique_fund}\")\n",
    "    print(f\"Уникален ли 'network_username' в company_and_rounds_df? {is_username_unique_company_and_rounds}\")\n",
    "\n",
    "    if not is_username_unique_people or not is_username_unique_fund or not is_username_unique_company_and_rounds:\n",
    "        print(\"\\nВнимание! 'network_username' не уникален в одном, двух или всех DataFrame.\")\n",
    "        print(\"Объединение по этому полю может привести к дублированию или некорректным данным.\")\n",
    "        print(\"Рекомендуется использовать составной ключ или другой метод объединения.\")\n",
    "    else:\n",
    "        print(\"\\n'network_username' уникален во всех датафреймах.  Можно рассматривать объединение по этому полю.\")\n",
    "else:\n",
    "    print(\"\\nНе обнаружено общих значений 'network_username' между people_df, fund_df и company_and_rounds_df.\")\n",
    "    print(\"Столбец 'network_username' не подходит для объединения этих трех DataFrame.\")"
   ]
  },
  {
   "cell_type": "markdown",
   "metadata": {
    "id": "CilOkz-inz37"
   },
   "source": [
    "Строка list(common_usernames) выведет список общих имен пользователей, найденных во всех DataFrame. \n",
    "Если бы количество общих имен пользователей было равно 0, то это означало бы, что нет ни одного network_username, который бы встречался одновременно в people_df, fund_df и company_and_rounds_df. В этом случае, объединение по network_username невозможно.\n",
    "Если бы количество общих имен пользователей было > 0, то стоило бы оценить размер этого числа.\n",
    "  1)  Если количество общих имен очень мало по сравнению с общим количеством уникальных имен в каждом DataFrame, то объединение, вероятно, будет бесполезным, так как соединятся только несколько строк.\n",
    "  \n",
    "  2)  Если количество общих имен значительно, то network_username может быть полезным для объединения. Однако, важно убедиться, что network_username является достаточно уникальным идентификатором.\n",
    "Если network_username не является уникальным в первом, втором или всех DataFrame, это означает, что у нескольких людей/записей в одном DataFrame может быть одинаковый network_username. Объединение в этом случае приведет к дублированию данных."
   ]
  },
  {
   "cell_type": "markdown",
   "metadata": {
    "id": "EHcODomVrJg1"
   },
   "source": [
    "\n",
    "### 2.4. Проблемный датасет и причина возникновения пропусков\n",
    "\n",
    "Во время собственного анализа данных у заказчика больше всего вопросов возникло к датасету `company_and_rounds.csv`. В нём много пропусков как раз в информации о раундах, которая заказчику важна. Хотя информация об общем объёме финансирования по раундам присутствует в других датасетах, заказчик считает данные `company_and_rounds.csv` о размере средств наиболее верными.\n",
    "\n",
    "* Любым удобным способом приведите данные в вид, который позволяет проводить анализ в разрезе отдельных компаний. Можно изменять форму данных, порядок их хранения. Обратите внимание на структуру датасета, порядок и названия столбцов, проанализируйте значения.\n",
    "\n",
    "По гипотезе заказчика данные по компаниям из этой таблицы раньше хранились иначе, более удобным для исследования образом.\n",
    "\n",
    "* Максимальным образом сохраняя данные, сохранив их связность и исключив возможные возникающие при этом ошибки, подготовьте данные так, чтобы удобно было отобрать компании по параметрам и рассчитать показатели из расчёта на одну компанию."
   ]
  },
  {
   "cell_type": "code",
   "execution_count": 51,
   "metadata": {
    "id": "tJ6Sl6MKrJg1"
   },
   "outputs": [],
   "source": [
    "# Разделяем датафрейм company_and_rounds_df на две части:\n",
    "# Часть до столбца 'milestones' включительно\n",
    "company_df = company_and_rounds_df.loc[:, :'milestones']\n",
    "\n",
    "# Часть после столбца 'funding_round_id' включительно:\n",
    "funding_rounds_df = company_and_rounds_df.loc[:, 'funding_round_id':]"
   ]
  },
  {
   "cell_type": "code",
   "execution_count": 52,
   "metadata": {},
   "outputs": [
    {
     "name": "stdout",
     "output_type": "stream",
     "text": [
      "<class 'pandas.core.frame.DataFrame'>\n",
      "RangeIndex: 217774 entries, 0 to 217773\n",
      "Data columns (total 13 columns):\n",
      " #   Column             Non-Null Count   Dtype         \n",
      "---  ------             --------------   -----         \n",
      " 0   company  ID        217472 non-null  float64       \n",
      " 1   name               217472 non-null  object        \n",
      " 2   category_code      143886 non-null  object        \n",
      " 3   status             217472 non-null  object        \n",
      " 4   founded_at         109956 non-null  datetime64[ns]\n",
      " 5   closed_at          3449 non-null    datetime64[ns]\n",
      " 6   domain             147159 non-null  object        \n",
      " 7   network_username   95534 non-null   object        \n",
      " 8   country_code       108607 non-null  object        \n",
      " 9   investment_rounds  217472 non-null  float64       \n",
      " 10  funding_rounds     217472 non-null  float64       \n",
      " 11  funding_total      217472 non-null  float64       \n",
      " 12  milestones         217472 non-null  float64       \n",
      "dtypes: datetime64[ns](2), float64(5), object(6)\n",
      "memory usage: 21.6+ MB\n"
     ]
    }
   ],
   "source": [
    "# Выведем информацию о разделенном датасете company_df:\n",
    "company_df.info()"
   ]
  },
  {
   "cell_type": "code",
   "execution_count": 53,
   "metadata": {},
   "outputs": [
    {
     "data": {
      "text/plain": [
       "21220"
      ]
     },
     "execution_count": 53,
     "metadata": {},
     "output_type": "execute_result"
    }
   ],
   "source": [
    "# Проверяем дубликаты в датафрейме company_df:\n",
    "company_df.duplicated().sum()"
   ]
  },
  {
   "cell_type": "code",
   "execution_count": 54,
   "metadata": {
    "id": "SFfUmzron0Tc",
    "scrolled": true
   },
   "outputs": [
    {
     "data": {
      "text/html": [
       "<div>\n",
       "<style scoped>\n",
       "    .dataframe tbody tr th:only-of-type {\n",
       "        vertical-align: middle;\n",
       "    }\n",
       "\n",
       "    .dataframe tbody tr th {\n",
       "        vertical-align: top;\n",
       "    }\n",
       "\n",
       "    .dataframe thead th {\n",
       "        text-align: right;\n",
       "    }\n",
       "</style>\n",
       "<table border=\"1\" class=\"dataframe\">\n",
       "  <thead>\n",
       "    <tr style=\"text-align: right;\">\n",
       "      <th></th>\n",
       "      <th>company  ID</th>\n",
       "      <th>name</th>\n",
       "      <th>category_code</th>\n",
       "      <th>status</th>\n",
       "      <th>founded_at</th>\n",
       "      <th>closed_at</th>\n",
       "      <th>domain</th>\n",
       "      <th>network_username</th>\n",
       "      <th>country_code</th>\n",
       "      <th>investment_rounds</th>\n",
       "      <th>funding_rounds</th>\n",
       "      <th>funding_total</th>\n",
       "      <th>milestones</th>\n",
       "    </tr>\n",
       "  </thead>\n",
       "  <tbody>\n",
       "    <tr>\n",
       "      <th>0</th>\n",
       "      <td>1.0</td>\n",
       "      <td>Wetpaint</td>\n",
       "      <td>web</td>\n",
       "      <td>operating</td>\n",
       "      <td>2005-10-17</td>\n",
       "      <td>NaT</td>\n",
       "      <td>wetpaint-inc.com</td>\n",
       "      <td>BachelrWetpaint</td>\n",
       "      <td>USA</td>\n",
       "      <td>0.0</td>\n",
       "      <td>3.0</td>\n",
       "      <td>39750000.0</td>\n",
       "      <td>5.0</td>\n",
       "    </tr>\n",
       "    <tr>\n",
       "      <th>3</th>\n",
       "      <td>10.0</td>\n",
       "      <td>Flektor</td>\n",
       "      <td>games_video</td>\n",
       "      <td>acquired</td>\n",
       "      <td>NaT</td>\n",
       "      <td>NaT</td>\n",
       "      <td>flektor.com</td>\n",
       "      <td>NaN</td>\n",
       "      <td>USA</td>\n",
       "      <td>0.0</td>\n",
       "      <td>0.0</td>\n",
       "      <td>0.0</td>\n",
       "      <td>0.0</td>\n",
       "    </tr>\n",
       "    <tr>\n",
       "      <th>4</th>\n",
       "      <td>100.0</td>\n",
       "      <td>There</td>\n",
       "      <td>games_video</td>\n",
       "      <td>acquired</td>\n",
       "      <td>NaT</td>\n",
       "      <td>NaT</td>\n",
       "      <td>there.com</td>\n",
       "      <td>NaN</td>\n",
       "      <td>USA</td>\n",
       "      <td>0.0</td>\n",
       "      <td>0.0</td>\n",
       "      <td>0.0</td>\n",
       "      <td>4.0</td>\n",
       "    </tr>\n",
       "    <tr>\n",
       "      <th>5</th>\n",
       "      <td>10000.0</td>\n",
       "      <td>MYWEBBO</td>\n",
       "      <td>network_hosting</td>\n",
       "      <td>operating</td>\n",
       "      <td>2008-07-26</td>\n",
       "      <td>NaT</td>\n",
       "      <td>mywebbo.com</td>\n",
       "      <td>NaN</td>\n",
       "      <td>NaN</td>\n",
       "      <td>0.0</td>\n",
       "      <td>0.0</td>\n",
       "      <td>0.0</td>\n",
       "      <td>0.0</td>\n",
       "    </tr>\n",
       "    <tr>\n",
       "      <th>6</th>\n",
       "      <td>10001.0</td>\n",
       "      <td>THE Movie Streamer</td>\n",
       "      <td>games_video</td>\n",
       "      <td>operating</td>\n",
       "      <td>2008-07-26</td>\n",
       "      <td>NaT</td>\n",
       "      <td>themoviestreamer.com</td>\n",
       "      <td>NaN</td>\n",
       "      <td>NaN</td>\n",
       "      <td>0.0</td>\n",
       "      <td>0.0</td>\n",
       "      <td>0.0</td>\n",
       "      <td>0.0</td>\n",
       "    </tr>\n",
       "    <tr>\n",
       "      <th>...</th>\n",
       "      <td>...</td>\n",
       "      <td>...</td>\n",
       "      <td>...</td>\n",
       "      <td>...</td>\n",
       "      <td>...</td>\n",
       "      <td>...</td>\n",
       "      <td>...</td>\n",
       "      <td>...</td>\n",
       "      <td>...</td>\n",
       "      <td>...</td>\n",
       "      <td>...</td>\n",
       "      <td>...</td>\n",
       "      <td>...</td>\n",
       "    </tr>\n",
       "    <tr>\n",
       "      <th>217463</th>\n",
       "      <td>3429.0</td>\n",
       "      <td>Zend Technologies</td>\n",
       "      <td>software</td>\n",
       "      <td>operating</td>\n",
       "      <td>1999-01-01</td>\n",
       "      <td>NaT</td>\n",
       "      <td>zend.com</td>\n",
       "      <td>networkzend</td>\n",
       "      <td>USA</td>\n",
       "      <td>0.0</td>\n",
       "      <td>4.0</td>\n",
       "      <td>44000000.0</td>\n",
       "      <td>6.0</td>\n",
       "    </tr>\n",
       "    <tr>\n",
       "      <th>217467</th>\n",
       "      <td>7748.0</td>\n",
       "      <td>Flowgram</td>\n",
       "      <td>web</td>\n",
       "      <td>closed</td>\n",
       "      <td>2007-06-01</td>\n",
       "      <td>2008-06-11</td>\n",
       "      <td>flowgram.com</td>\n",
       "      <td>network</td>\n",
       "      <td>USA</td>\n",
       "      <td>0.0</td>\n",
       "      <td>1.0</td>\n",
       "      <td>1300000.0</td>\n",
       "      <td>3.0</td>\n",
       "    </tr>\n",
       "    <tr>\n",
       "      <th>217468</th>\n",
       "      <td>174536.0</td>\n",
       "      <td>Pphotonet</td>\n",
       "      <td>games_video</td>\n",
       "      <td>operating</td>\n",
       "      <td>2012-05-01</td>\n",
       "      <td>NaT</td>\n",
       "      <td>pPhotonet.co</td>\n",
       "      <td>pPhotonet</td>\n",
       "      <td>NaN</td>\n",
       "      <td>0.0</td>\n",
       "      <td>0.0</td>\n",
       "      <td>0.0</td>\n",
       "      <td>0.0</td>\n",
       "    </tr>\n",
       "    <tr>\n",
       "      <th>217469</th>\n",
       "      <td>43233.0</td>\n",
       "      <td>Photonet</td>\n",
       "      <td>photo_video</td>\n",
       "      <td>acquired</td>\n",
       "      <td>2010-03-01</td>\n",
       "      <td>NaT</td>\n",
       "      <td>Photonet.com</td>\n",
       "      <td>Photonet</td>\n",
       "      <td>USA</td>\n",
       "      <td>0.0</td>\n",
       "      <td>3.0</td>\n",
       "      <td>57500000.0</td>\n",
       "      <td>3.0</td>\n",
       "    </tr>\n",
       "    <tr>\n",
       "      <th>217472</th>\n",
       "      <td>NaN</td>\n",
       "      <td>NaN</td>\n",
       "      <td>NaN</td>\n",
       "      <td>NaN</td>\n",
       "      <td>NaT</td>\n",
       "      <td>NaT</td>\n",
       "      <td>NaN</td>\n",
       "      <td>NaN</td>\n",
       "      <td>NaN</td>\n",
       "      <td>NaN</td>\n",
       "      <td>NaN</td>\n",
       "      <td>NaN</td>\n",
       "      <td>NaN</td>\n",
       "    </tr>\n",
       "  </tbody>\n",
       "</table>\n",
       "<p>196554 rows × 13 columns</p>\n",
       "</div>"
      ],
      "text/plain": [
       "        company  ID                name    category_code     status  \\\n",
       "0               1.0            Wetpaint              web  operating   \n",
       "3              10.0             Flektor      games_video   acquired   \n",
       "4             100.0               There      games_video   acquired   \n",
       "5           10000.0             MYWEBBO  network_hosting  operating   \n",
       "6           10001.0  THE Movie Streamer      games_video  operating   \n",
       "...             ...                 ...              ...        ...   \n",
       "217463       3429.0   Zend Technologies         software  operating   \n",
       "217467       7748.0            Flowgram              web     closed   \n",
       "217468     174536.0           Pphotonet      games_video  operating   \n",
       "217469      43233.0            Photonet      photo_video   acquired   \n",
       "217472          NaN                 NaN              NaN        NaN   \n",
       "\n",
       "       founded_at  closed_at                domain network_username  \\\n",
       "0      2005-10-17        NaT      wetpaint-inc.com  BachelrWetpaint   \n",
       "3             NaT        NaT           flektor.com              NaN   \n",
       "4             NaT        NaT             there.com              NaN   \n",
       "5      2008-07-26        NaT           mywebbo.com              NaN   \n",
       "6      2008-07-26        NaT  themoviestreamer.com              NaN   \n",
       "...           ...        ...                   ...              ...   \n",
       "217463 1999-01-01        NaT              zend.com      networkzend   \n",
       "217467 2007-06-01 2008-06-11          flowgram.com          network   \n",
       "217468 2012-05-01        NaT          pPhotonet.co        pPhotonet   \n",
       "217469 2010-03-01        NaT          Photonet.com         Photonet   \n",
       "217472        NaT        NaT                   NaN              NaN   \n",
       "\n",
       "       country_code  investment_rounds  funding_rounds  funding_total  \\\n",
       "0               USA                0.0             3.0     39750000.0   \n",
       "3               USA                0.0             0.0            0.0   \n",
       "4               USA                0.0             0.0            0.0   \n",
       "5               NaN                0.0             0.0            0.0   \n",
       "6               NaN                0.0             0.0            0.0   \n",
       "...             ...                ...             ...            ...   \n",
       "217463          USA                0.0             4.0     44000000.0   \n",
       "217467          USA                0.0             1.0      1300000.0   \n",
       "217468          NaN                0.0             0.0            0.0   \n",
       "217469          USA                0.0             3.0     57500000.0   \n",
       "217472          NaN                NaN             NaN            NaN   \n",
       "\n",
       "        milestones  \n",
       "0              5.0  \n",
       "3              0.0  \n",
       "4              4.0  \n",
       "5              0.0  \n",
       "6              0.0  \n",
       "...            ...  \n",
       "217463         6.0  \n",
       "217467         3.0  \n",
       "217468         0.0  \n",
       "217469         3.0  \n",
       "217472         NaN  \n",
       "\n",
       "[196554 rows x 13 columns]"
      ]
     },
     "execution_count": 54,
     "metadata": {},
     "output_type": "execute_result"
    }
   ],
   "source": [
    "# удалим дубликаты в датафрейме company_df:\n",
    "company_df.drop_duplicates()"
   ]
  },
  {
   "cell_type": "code",
   "execution_count": 55,
   "metadata": {},
   "outputs": [
    {
     "name": "stdout",
     "output_type": "stream",
     "text": [
      "<class 'pandas.core.frame.DataFrame'>\n",
      "RangeIndex: 217774 entries, 0 to 217773\n",
      "Data columns (total 11 columns):\n",
      " #   Column               Non-Null Count  Dtype         \n",
      "---  ------               --------------  -----         \n",
      " 0   funding_round_id     52928 non-null  float64       \n",
      " 1   company_id_round     52928 non-null  float64       \n",
      " 2   funded_at            52680 non-null  datetime64[ns]\n",
      " 3   funding_round_type   52928 non-null  object        \n",
      " 4   raised_amount        52928 non-null  float64       \n",
      " 5   pre_money_valuation  52928 non-null  float64       \n",
      " 6   participants         52928 non-null  float64       \n",
      " 7   is_first_round       52928 non-null  float64       \n",
      " 8   is_last_round        52928 non-null  float64       \n",
      " 9   funding_round id     52928 non-null  float64       \n",
      " 10  year                 52680 non-null  float64       \n",
      "dtypes: datetime64[ns](1), float64(9), object(1)\n",
      "memory usage: 18.3+ MB\n"
     ]
    }
   ],
   "source": [
    "# Выведем информацию о разделенном датасете funding_rounds_df:\n",
    "funding_rounds_df.info()"
   ]
  },
  {
   "cell_type": "code",
   "execution_count": 56,
   "metadata": {},
   "outputs": [
    {
     "data": {
      "text/plain": [
       "164845"
      ]
     },
     "execution_count": 56,
     "metadata": {},
     "output_type": "execute_result"
    }
   ],
   "source": [
    "# Проверяем дубликаты в датафрейме funding_rounds_df:\n",
    "funding_rounds_df.duplicated().sum()"
   ]
  },
  {
   "cell_type": "code",
   "execution_count": 57,
   "metadata": {},
   "outputs": [
    {
     "data": {
      "text/html": [
       "<div>\n",
       "<style scoped>\n",
       "    .dataframe tbody tr th:only-of-type {\n",
       "        vertical-align: middle;\n",
       "    }\n",
       "\n",
       "    .dataframe tbody tr th {\n",
       "        vertical-align: top;\n",
       "    }\n",
       "\n",
       "    .dataframe thead th {\n",
       "        text-align: right;\n",
       "    }\n",
       "</style>\n",
       "<table border=\"1\" class=\"dataframe\">\n",
       "  <thead>\n",
       "    <tr style=\"text-align: right;\">\n",
       "      <th></th>\n",
       "      <th>funding_round_id</th>\n",
       "      <th>company_id_round</th>\n",
       "      <th>funded_at</th>\n",
       "      <th>funding_round_type</th>\n",
       "      <th>raised_amount</th>\n",
       "      <th>pre_money_valuation</th>\n",
       "      <th>participants</th>\n",
       "      <th>is_first_round</th>\n",
       "      <th>is_last_round</th>\n",
       "      <th>funding_round id</th>\n",
       "      <th>year</th>\n",
       "    </tr>\n",
       "  </thead>\n",
       "  <tbody>\n",
       "    <tr>\n",
       "      <th>0</th>\n",
       "      <td>888.0</td>\n",
       "      <td>1.0</td>\n",
       "      <td>2005-10-01</td>\n",
       "      <td>series-a</td>\n",
       "      <td>5250000.0</td>\n",
       "      <td>0.0</td>\n",
       "      <td>2.0</td>\n",
       "      <td>0.0</td>\n",
       "      <td>1.0</td>\n",
       "      <td>888.0</td>\n",
       "      <td>2005.0</td>\n",
       "    </tr>\n",
       "    <tr>\n",
       "      <th>1</th>\n",
       "      <td>889.0</td>\n",
       "      <td>1.0</td>\n",
       "      <td>2007-01-01</td>\n",
       "      <td>series-b</td>\n",
       "      <td>9500000.0</td>\n",
       "      <td>0.0</td>\n",
       "      <td>3.0</td>\n",
       "      <td>0.0</td>\n",
       "      <td>0.0</td>\n",
       "      <td>889.0</td>\n",
       "      <td>2007.0</td>\n",
       "    </tr>\n",
       "    <tr>\n",
       "      <th>2</th>\n",
       "      <td>2312.0</td>\n",
       "      <td>1.0</td>\n",
       "      <td>2008-05-19</td>\n",
       "      <td>series-c+</td>\n",
       "      <td>25000000.0</td>\n",
       "      <td>0.0</td>\n",
       "      <td>4.0</td>\n",
       "      <td>1.0</td>\n",
       "      <td>0.0</td>\n",
       "      <td>2312.0</td>\n",
       "      <td>2008.0</td>\n",
       "    </tr>\n",
       "    <tr>\n",
       "      <th>3</th>\n",
       "      <td>NaN</td>\n",
       "      <td>NaN</td>\n",
       "      <td>NaT</td>\n",
       "      <td>NaN</td>\n",
       "      <td>NaN</td>\n",
       "      <td>NaN</td>\n",
       "      <td>NaN</td>\n",
       "      <td>NaN</td>\n",
       "      <td>NaN</td>\n",
       "      <td>NaN</td>\n",
       "      <td>NaN</td>\n",
       "    </tr>\n",
       "    <tr>\n",
       "      <th>15</th>\n",
       "      <td>1644.0</td>\n",
       "      <td>1001.0</td>\n",
       "      <td>2008-02-26</td>\n",
       "      <td>series-a</td>\n",
       "      <td>5000000.0</td>\n",
       "      <td>0.0</td>\n",
       "      <td>3.0</td>\n",
       "      <td>1.0</td>\n",
       "      <td>1.0</td>\n",
       "      <td>1644.0</td>\n",
       "      <td>2008.0</td>\n",
       "    </tr>\n",
       "    <tr>\n",
       "      <th>...</th>\n",
       "      <td>...</td>\n",
       "      <td>...</td>\n",
       "      <td>...</td>\n",
       "      <td>...</td>\n",
       "      <td>...</td>\n",
       "      <td>...</td>\n",
       "      <td>...</td>\n",
       "      <td>...</td>\n",
       "      <td>...</td>\n",
       "      <td>...</td>\n",
       "      <td>...</td>\n",
       "    </tr>\n",
       "    <tr>\n",
       "      <th>217769</th>\n",
       "      <td>56454.0</td>\n",
       "      <td>282847.0</td>\n",
       "      <td>2011-01-31</td>\n",
       "      <td>other</td>\n",
       "      <td>5500000.0</td>\n",
       "      <td>0.0</td>\n",
       "      <td>0.0</td>\n",
       "      <td>1.0</td>\n",
       "      <td>1.0</td>\n",
       "      <td>56454.0</td>\n",
       "      <td>2011.0</td>\n",
       "    </tr>\n",
       "    <tr>\n",
       "      <th>217770</th>\n",
       "      <td>56542.0</td>\n",
       "      <td>55477.0</td>\n",
       "      <td>2011-01-13</td>\n",
       "      <td>venture</td>\n",
       "      <td>10633300.0</td>\n",
       "      <td>0.0</td>\n",
       "      <td>0.0</td>\n",
       "      <td>0.0</td>\n",
       "      <td>1.0</td>\n",
       "      <td>56542.0</td>\n",
       "      <td>2011.0</td>\n",
       "    </tr>\n",
       "    <tr>\n",
       "      <th>217771</th>\n",
       "      <td>56543.0</td>\n",
       "      <td>55477.0</td>\n",
       "      <td>2012-05-31</td>\n",
       "      <td>venture</td>\n",
       "      <td>2125720.0</td>\n",
       "      <td>0.0</td>\n",
       "      <td>0.0</td>\n",
       "      <td>1.0</td>\n",
       "      <td>0.0</td>\n",
       "      <td>56543.0</td>\n",
       "      <td>2012.0</td>\n",
       "    </tr>\n",
       "    <tr>\n",
       "      <th>217772</th>\n",
       "      <td>56928.0</td>\n",
       "      <td>283492.0</td>\n",
       "      <td>2013-12-03</td>\n",
       "      <td>venture</td>\n",
       "      <td>3602480.0</td>\n",
       "      <td>0.0</td>\n",
       "      <td>5.0</td>\n",
       "      <td>1.0</td>\n",
       "      <td>1.0</td>\n",
       "      <td>56928.0</td>\n",
       "      <td>2013.0</td>\n",
       "    </tr>\n",
       "    <tr>\n",
       "      <th>217773</th>\n",
       "      <td>57063.0</td>\n",
       "      <td>284191.0</td>\n",
       "      <td>2013-12-04</td>\n",
       "      <td>venture</td>\n",
       "      <td>7000000.0</td>\n",
       "      <td>0.0</td>\n",
       "      <td>4.0</td>\n",
       "      <td>1.0</td>\n",
       "      <td>1.0</td>\n",
       "      <td>57063.0</td>\n",
       "      <td>2013.0</td>\n",
       "    </tr>\n",
       "  </tbody>\n",
       "</table>\n",
       "<p>52929 rows × 11 columns</p>\n",
       "</div>"
      ],
      "text/plain": [
       "        funding_round_id  company_id_round  funded_at funding_round_type  \\\n",
       "0                  888.0               1.0 2005-10-01           series-a   \n",
       "1                  889.0               1.0 2007-01-01           series-b   \n",
       "2                 2312.0               1.0 2008-05-19          series-c+   \n",
       "3                    NaN               NaN        NaT                NaN   \n",
       "15                1644.0            1001.0 2008-02-26           series-a   \n",
       "...                  ...               ...        ...                ...   \n",
       "217769           56454.0          282847.0 2011-01-31              other   \n",
       "217770           56542.0           55477.0 2011-01-13            venture   \n",
       "217771           56543.0           55477.0 2012-05-31            venture   \n",
       "217772           56928.0          283492.0 2013-12-03            venture   \n",
       "217773           57063.0          284191.0 2013-12-04            venture   \n",
       "\n",
       "        raised_amount  pre_money_valuation  participants  is_first_round  \\\n",
       "0           5250000.0                  0.0           2.0             0.0   \n",
       "1           9500000.0                  0.0           3.0             0.0   \n",
       "2          25000000.0                  0.0           4.0             1.0   \n",
       "3                 NaN                  NaN           NaN             NaN   \n",
       "15          5000000.0                  0.0           3.0             1.0   \n",
       "...               ...                  ...           ...             ...   \n",
       "217769      5500000.0                  0.0           0.0             1.0   \n",
       "217770     10633300.0                  0.0           0.0             0.0   \n",
       "217771      2125720.0                  0.0           0.0             1.0   \n",
       "217772      3602480.0                  0.0           5.0             1.0   \n",
       "217773      7000000.0                  0.0           4.0             1.0   \n",
       "\n",
       "        is_last_round  funding_round id    year  \n",
       "0                 1.0             888.0  2005.0  \n",
       "1                 0.0             889.0  2007.0  \n",
       "2                 0.0            2312.0  2008.0  \n",
       "3                 NaN               NaN     NaN  \n",
       "15                1.0            1644.0  2008.0  \n",
       "...               ...               ...     ...  \n",
       "217769            1.0           56454.0  2011.0  \n",
       "217770            1.0           56542.0  2011.0  \n",
       "217771            0.0           56543.0  2012.0  \n",
       "217772            1.0           56928.0  2013.0  \n",
       "217773            1.0           57063.0  2013.0  \n",
       "\n",
       "[52929 rows x 11 columns]"
      ]
     },
     "execution_count": 57,
     "metadata": {},
     "output_type": "execute_result"
    }
   ],
   "source": [
    "# удалим дубликаты в  датафрейме funding_rounds_df:\n",
    "funding_rounds_df.drop_duplicates()"
   ]
  },
  {
   "cell_type": "markdown",
   "metadata": {},
   "source": [
    "Датасет company_and_rounds_df был поделен на 2 датафрейма: company_df и funding_rounds_df. Также была выведена информация по каждому датасету, найдены дубликаты и удалены. "
   ]
  },
  {
   "cell_type": "markdown",
   "metadata": {
    "id": "bmVYhphNrJg2"
   },
   "source": [
    "\n",
    "## Шаг 3. Исследовательский анализ объединённых таблиц\n",
    "\n",
    "<big>Приступите к шагу 3 после проверки ревьюера.</big>"
   ]
  },
  {
   "cell_type": "markdown",
   "metadata": {
    "id": "3Di6tCT3rJg2"
   },
   "source": [
    "\n",
    "### 3.1. Объединение данных\n",
    "\n",
    "Объедините данные для ответа на вопросы заказчика, которые касаются интересующих его компаний.\n",
    "\n",
    "В качестве основы для объединённой таблицы возьмите данные из обработанного датасета `company_and_rounds.csv` — выберите только те компании, у которых указаны значения `funding_rounds` или `investment_rounds` больше нуля, или те, у которых в колонке `status` указано `acquired`.\n",
    "\n",
    "Далее работайте только с этими данными."
   ]
  },
  {
   "cell_type": "code",
   "execution_count": null,
   "metadata": {
    "id": "mGYqoHS7rJg2"
   },
   "outputs": [],
   "source": []
  },
  {
   "cell_type": "code",
   "execution_count": null,
   "metadata": {
    "id": "vJZ4mO2Un1yt"
   },
   "outputs": [],
   "source": []
  },
  {
   "cell_type": "markdown",
   "metadata": {
    "id": "DFHINkV3rJg2"
   },
   "source": [
    "\n",
    "### 3.2. Анализ выбросов\n",
    "\n",
    "Заказчика интересует обычный для рассматриваемого периода размер средств, который предоставлялся компаниям.\n",
    "\n",
    "* По предобработанному столбцу `funding_total` графическим способом оцените, какой размер общего финансирования для одной компании будет типичным, а какой — выбивающимся.\n",
    "\n",
    "* В процессе расчёта значений обратите внимание, например, на показатели, возвращаемые методом `.describe()`, — объясните их. Применимы ли к таким данным обычные способы нахождения типичных значений?"
   ]
  },
  {
   "cell_type": "code",
   "execution_count": null,
   "metadata": {
    "id": "8jm75fKXrJg2"
   },
   "outputs": [],
   "source": []
  },
  {
   "cell_type": "code",
   "execution_count": null,
   "metadata": {
    "id": "dIWqyEomn2MU"
   },
   "outputs": [],
   "source": []
  },
  {
   "cell_type": "markdown",
   "metadata": {
    "id": "JqkRAQrIrJg2"
   },
   "source": [
    "\n",
    "### 3.3. Куплены забесплатно?\n",
    "\n",
    "* Исследуйте компании, которые были проданы за ноль или за один доллар, и при этом известно, что у них был ненулевой общий объём финансирования.\n",
    "\n",
    "* Рассчитайте аналитически верхнюю и нижнюю границу выбросов для столбца `funding_total` и укажите, каким процентилям границы соответствуют. Учитывая озвученные выше предпосылки и собственные соображения, сделайте выводы о корректности планируемой заказчиком замены нижней и верхней границы выбросов на значения, рассчитанные по процентилям."
   ]
  },
  {
   "cell_type": "code",
   "execution_count": null,
   "metadata": {
    "id": "wJHXCBwwrJg2"
   },
   "outputs": [],
   "source": []
  },
  {
   "cell_type": "code",
   "execution_count": null,
   "metadata": {
    "id": "-kA4CO27n2ql"
   },
   "outputs": [],
   "source": []
  },
  {
   "cell_type": "markdown",
   "metadata": {
    "id": "mEiWpROjrJg2"
   },
   "source": [
    "\n",
    "### 3.4. Цены стартапов по категориям\n",
    "\n",
    "Категории стартапов с наибольшими ценами и значительным разбросом цен могут быть наиболее привлекательными для крупных инвесторов, которые готовы к высоким рискам ради потенциально больших доходов. Среди категорий стартапов выделите категории стартапов, характеризующиеся:\n",
    "\n",
    "* наибольшими ценами;\n",
    "* и наибольшим разбросом цен за стартап.\n",
    "\n",
    "Объясните, почему решили составить топ именно из такого числа категорий и почему рассчитывали именно так."
   ]
  },
  {
   "cell_type": "code",
   "execution_count": null,
   "metadata": {
    "id": "jQ09dYUWrJg2"
   },
   "outputs": [],
   "source": []
  },
  {
   "cell_type": "code",
   "execution_count": null,
   "metadata": {
    "id": "MFONscXPn29F"
   },
   "outputs": [],
   "source": []
  },
  {
   "cell_type": "markdown",
   "metadata": {
    "id": "ADOfyVY_rJg3"
   },
   "source": [
    "\n",
    "### 3.5. Сколько раундов продержится стартап перед покупкой\n",
    "\n",
    "* Необходимо проанализировать столбец `funding_rounds`. Исследуйте значения столбца. Заказчика интересует типичное значение количества раундов для каждого возможного статуса стартапа.\n",
    "\n",
    "* Постройте график, который отображает, сколько в среднем раундов финансирования проходило для стартапов из каждой группы. Сделайте выводы."
   ]
  },
  {
   "cell_type": "code",
   "execution_count": null,
   "metadata": {
    "id": "hgXMPC4WrJg3"
   },
   "outputs": [],
   "source": []
  },
  {
   "cell_type": "markdown",
   "metadata": {
    "id": "VAFEZ2HBrJg3"
   },
   "source": [
    "\n",
    "## Шаг 4. Итоговый вывод и рекомендации\n",
    "\n",
    "Опишите, что было сделано в проекте, какие были сделаны выводы, подкрепляют ли они друг друга или заставляют сомневаться в полученных результатах."
   ]
  }
 ],
 "metadata": {
  "ExecuteTimeLog": [
   {
    "duration": 74,
    "start_time": "2025-02-24T09:37:37.172Z"
   },
   {
    "duration": 5377,
    "start_time": "2025-02-24T09:51:32.521Z"
   },
   {
    "duration": 3881,
    "start_time": "2025-02-24T09:56:46.192Z"
   },
   {
    "duration": 25,
    "start_time": "2025-02-24T10:00:46.263Z"
   },
   {
    "duration": 10,
    "start_time": "2025-02-24T10:03:28.387Z"
   },
   {
    "duration": 88,
    "start_time": "2025-02-24T10:10:12.892Z"
   },
   {
    "duration": 4,
    "start_time": "2025-02-24T10:18:36.540Z"
   },
   {
    "duration": 109,
    "start_time": "2025-02-24T10:19:05.710Z"
   },
   {
    "duration": 12,
    "start_time": "2025-02-24T10:20:16.880Z"
   },
   {
    "duration": 4,
    "start_time": "2025-02-24T10:20:25.500Z"
   },
   {
    "duration": 3,
    "start_time": "2025-02-24T10:21:58.250Z"
   },
   {
    "duration": 9,
    "start_time": "2025-02-24T10:29:56.223Z"
   },
   {
    "duration": 11,
    "start_time": "2025-02-24T10:30:21.693Z"
   },
   {
    "duration": 5,
    "start_time": "2025-02-24T10:31:46.276Z"
   },
   {
    "duration": 72,
    "start_time": "2025-02-24T10:33:00.143Z"
   },
   {
    "duration": 72,
    "start_time": "2025-02-24T10:35:03.673Z"
   },
   {
    "duration": 85,
    "start_time": "2025-02-24T10:35:26.263Z"
   },
   {
    "duration": 60,
    "start_time": "2025-02-24T10:36:17.198Z"
   },
   {
    "duration": 58,
    "start_time": "2025-02-24T10:37:08.573Z"
   },
   {
    "duration": 59,
    "start_time": "2025-02-24T10:37:29.535Z"
   },
   {
    "duration": 25,
    "start_time": "2025-02-24T10:39:14.173Z"
   },
   {
    "duration": 10,
    "start_time": "2025-02-24T10:39:45.560Z"
   },
   {
    "duration": 10,
    "start_time": "2025-02-24T10:40:26.261Z"
   },
   {
    "duration": 2579,
    "start_time": "2025-02-24T10:41:00.503Z"
   },
   {
    "duration": 2269,
    "start_time": "2025-02-24T10:41:53.889Z"
   },
   {
    "duration": 2903,
    "start_time": "2025-02-24T10:42:30.863Z"
   },
   {
    "duration": 3017,
    "start_time": "2025-02-24T10:43:45.304Z"
   },
   {
    "duration": 66,
    "start_time": "2025-02-24T10:44:39.503Z"
   },
   {
    "duration": 2798,
    "start_time": "2025-02-24T10:44:56.503Z"
   },
   {
    "duration": 2135,
    "start_time": "2025-02-24T10:45:12.181Z"
   },
   {
    "duration": 2193,
    "start_time": "2025-02-24T10:45:22.862Z"
   },
   {
    "duration": 2166,
    "start_time": "2025-02-24T10:46:10.036Z"
   },
   {
    "duration": 2803,
    "start_time": "2025-02-24T10:46:53.771Z"
   },
   {
    "duration": 2261,
    "start_time": "2025-02-24T10:47:41.730Z"
   },
   {
    "duration": 2594,
    "start_time": "2025-02-24T10:48:56.535Z"
   },
   {
    "duration": 3242,
    "start_time": "2025-02-24T10:50:56.623Z"
   },
   {
    "duration": 2772,
    "start_time": "2025-02-24T10:51:25.088Z"
   },
   {
    "duration": 2756,
    "start_time": "2025-02-24T10:53:24.359Z"
   },
   {
    "duration": 119,
    "start_time": "2025-02-24T10:53:58.140Z"
   },
   {
    "duration": 74,
    "start_time": "2025-02-24T10:54:04.421Z"
   },
   {
    "duration": 2807,
    "start_time": "2025-02-24T10:55:55.240Z"
   },
   {
    "duration": 2656,
    "start_time": "2025-02-24T10:56:50.131Z"
   },
   {
    "duration": 2421,
    "start_time": "2025-02-24T10:58:06.640Z"
   },
   {
    "duration": 1990,
    "start_time": "2025-02-24T10:59:37.969Z"
   },
   {
    "duration": 2061,
    "start_time": "2025-02-24T10:59:59.492Z"
   },
   {
    "duration": 2861,
    "start_time": "2025-02-24T11:00:14.720Z"
   },
   {
    "duration": 10,
    "start_time": "2025-02-24T11:01:13.641Z"
   },
   {
    "duration": 2078,
    "start_time": "2025-02-24T11:04:37.020Z"
   },
   {
    "duration": 2214,
    "start_time": "2025-02-24T11:05:11.982Z"
   },
   {
    "duration": 77,
    "start_time": "2025-02-24T11:05:42.603Z"
   },
   {
    "duration": 77,
    "start_time": "2025-02-24T11:05:46.692Z"
   },
   {
    "duration": 72,
    "start_time": "2025-02-24T11:06:03.868Z"
   },
   {
    "duration": 2368,
    "start_time": "2025-02-24T11:06:28.323Z"
   },
   {
    "duration": 3172,
    "start_time": "2025-02-24T11:06:39.060Z"
   },
   {
    "duration": 111,
    "start_time": "2025-02-24T11:10:13.928Z"
   },
   {
    "duration": 68,
    "start_time": "2025-02-24T11:12:06.185Z"
   },
   {
    "duration": 67,
    "start_time": "2025-02-24T11:13:10.963Z"
   },
   {
    "duration": 2508,
    "start_time": "2025-02-24T11:13:36.850Z"
   },
   {
    "duration": 3001,
    "start_time": "2025-02-24T11:15:13.491Z"
   },
   {
    "duration": 3089,
    "start_time": "2025-02-24T11:15:39.284Z"
   },
   {
    "duration": 2240,
    "start_time": "2025-02-24T11:15:45.203Z"
   },
   {
    "duration": 3616,
    "start_time": "2025-02-24T11:16:53.022Z"
   },
   {
    "duration": 2463,
    "start_time": "2025-02-24T11:19:51.580Z"
   },
   {
    "duration": 2091,
    "start_time": "2025-02-24T11:20:20.320Z"
   },
   {
    "duration": 8,
    "start_time": "2025-02-24T11:24:58.700Z"
   },
   {
    "duration": 11,
    "start_time": "2025-02-24T11:26:03.298Z"
   },
   {
    "duration": 1963,
    "start_time": "2025-02-24T11:26:38.653Z"
   },
   {
    "duration": 2194,
    "start_time": "2025-02-24T11:26:56.418Z"
   },
   {
    "duration": 10,
    "start_time": "2025-02-24T11:28:33.442Z"
   },
   {
    "duration": 10,
    "start_time": "2025-02-24T11:28:47.620Z"
   },
   {
    "duration": 11,
    "start_time": "2025-02-24T11:29:36.660Z"
   },
   {
    "duration": 9,
    "start_time": "2025-02-24T11:30:05.038Z"
   },
   {
    "duration": 12,
    "start_time": "2025-02-24T11:30:10.770Z"
   },
   {
    "duration": 1866,
    "start_time": "2025-02-24T11:31:17.660Z"
   },
   {
    "duration": 64,
    "start_time": "2025-02-24T11:32:28.758Z"
   },
   {
    "duration": 10,
    "start_time": "2025-02-24T11:32:37.820Z"
   },
   {
    "duration": 9,
    "start_time": "2025-02-24T11:32:41.931Z"
   },
   {
    "duration": 12,
    "start_time": "2025-02-24T11:32:51.820Z"
   },
   {
    "duration": 12,
    "start_time": "2025-02-24T11:33:01.891Z"
   },
   {
    "duration": 2399,
    "start_time": "2025-02-24T11:38:42.124Z"
   },
   {
    "duration": 1876,
    "start_time": "2025-02-24T11:39:08.329Z"
   },
   {
    "duration": 9,
    "start_time": "2025-02-24T11:40:20.003Z"
   },
   {
    "duration": 9,
    "start_time": "2025-02-24T11:40:28.398Z"
   },
   {
    "duration": 9,
    "start_time": "2025-02-24T11:40:35.723Z"
   },
   {
    "duration": 2900,
    "start_time": "2025-02-24T11:41:43.210Z"
   },
   {
    "duration": 12,
    "start_time": "2025-02-24T11:43:17.981Z"
   },
   {
    "duration": 250,
    "start_time": "2025-02-24T11:43:41.481Z"
   },
   {
    "duration": 2393,
    "start_time": "2025-02-24T11:45:44.058Z"
   },
   {
    "duration": 9,
    "start_time": "2025-02-24T11:46:30.353Z"
   },
   {
    "duration": 2216,
    "start_time": "2025-02-24T11:47:14.820Z"
   },
   {
    "duration": 10,
    "start_time": "2025-02-24T11:47:30.270Z"
   },
   {
    "duration": 9,
    "start_time": "2025-02-24T11:50:05.891Z"
   },
   {
    "duration": 5,
    "start_time": "2025-02-24T11:53:01.973Z"
   },
   {
    "duration": 6,
    "start_time": "2025-02-24T11:53:58.238Z"
   },
   {
    "duration": 61,
    "start_time": "2025-02-24T12:14:34.126Z"
   },
   {
    "duration": 2227,
    "start_time": "2025-02-24T12:20:39.380Z"
   },
   {
    "duration": 63,
    "start_time": "2025-02-24T12:43:34.061Z"
   },
   {
    "duration": 4,
    "start_time": "2025-02-24T12:51:11.513Z"
   },
   {
    "duration": 3266,
    "start_time": "2025-02-24T12:51:18.110Z"
   },
   {
    "duration": 34,
    "start_time": "2025-02-24T13:18:14.061Z"
   },
   {
    "duration": 6,
    "start_time": "2025-02-24T13:30:23.751Z"
   },
   {
    "duration": 5,
    "start_time": "2025-02-24T13:31:14.052Z"
   },
   {
    "duration": 4,
    "start_time": "2025-02-24T13:35:42.271Z"
   },
   {
    "duration": 91,
    "start_time": "2025-02-24T13:39:24.361Z"
   },
   {
    "duration": 3691,
    "start_time": "2025-02-24T13:43:36.741Z"
   },
   {
    "duration": 10,
    "start_time": "2025-02-24T13:44:40.360Z"
   },
   {
    "duration": 6,
    "start_time": "2025-02-24T13:46:40.744Z"
   },
   {
    "duration": 53,
    "start_time": "2025-02-24T13:48:30.940Z"
   },
   {
    "duration": 69,
    "start_time": "2025-02-24T13:49:09.761Z"
   },
   {
    "duration": 67,
    "start_time": "2025-02-24T13:51:45.181Z"
   },
   {
    "duration": 3116,
    "start_time": "2025-02-24T13:52:16.360Z"
   },
   {
    "duration": 69,
    "start_time": "2025-02-24T13:57:49.911Z"
   },
   {
    "duration": 60,
    "start_time": "2025-02-24T13:57:57.900Z"
   },
   {
    "duration": 5,
    "start_time": "2025-02-24T13:58:33.260Z"
   },
   {
    "duration": 4,
    "start_time": "2025-02-24T13:58:39.778Z"
   },
   {
    "duration": 2805,
    "start_time": "2025-02-24T13:58:43.901Z"
   },
   {
    "duration": 23,
    "start_time": "2025-02-24T13:59:32.790Z"
   },
   {
    "duration": 70,
    "start_time": "2025-02-24T13:59:43.012Z"
   },
   {
    "duration": 5,
    "start_time": "2025-02-24T14:04:03.020Z"
   },
   {
    "duration": 4,
    "start_time": "2025-02-24T14:04:19.984Z"
   },
   {
    "duration": 112,
    "start_time": "2025-02-24T14:05:00.860Z"
   },
   {
    "duration": 24,
    "start_time": "2025-02-24T14:05:22.981Z"
   },
   {
    "duration": 6,
    "start_time": "2025-02-24T15:34:45.094Z"
   },
   {
    "duration": 5,
    "start_time": "2025-02-24T15:35:04.318Z"
   },
   {
    "duration": 2878,
    "start_time": "2025-02-24T15:36:22.122Z"
   },
   {
    "duration": 2812,
    "start_time": "2025-02-24T16:27:09.237Z"
   },
   {
    "duration": 8,
    "start_time": "2025-02-24T16:27:20.591Z"
   },
   {
    "duration": 4,
    "start_time": "2025-02-24T16:27:29.427Z"
   },
   {
    "duration": 5,
    "start_time": "2025-02-24T16:27:46.115Z"
   },
   {
    "duration": 5,
    "start_time": "2025-02-24T16:27:51.657Z"
   },
   {
    "duration": 13,
    "start_time": "2025-02-24T16:32:47.998Z"
   },
   {
    "duration": 165,
    "start_time": "2025-02-24T16:33:13.476Z"
   },
   {
    "duration": 65,
    "start_time": "2025-02-24T16:34:32.746Z"
   },
   {
    "duration": 162,
    "start_time": "2025-02-24T16:34:38.316Z"
   },
   {
    "duration": 164,
    "start_time": "2025-02-24T16:36:52.046Z"
   },
   {
    "duration": 59,
    "start_time": "2025-02-24T16:38:59.406Z"
   },
   {
    "duration": 60,
    "start_time": "2025-02-24T16:39:10.498Z"
   },
   {
    "duration": 72,
    "start_time": "2025-02-24T16:39:27.706Z"
   },
   {
    "duration": 329,
    "start_time": "2025-02-24T16:39:48.886Z"
   },
   {
    "duration": 159,
    "start_time": "2025-02-24T16:40:08.596Z"
   },
   {
    "duration": 16,
    "start_time": "2025-02-24T17:05:42.565Z"
   },
   {
    "duration": 1294,
    "start_time": "2025-02-24T17:05:56.363Z"
   },
   {
    "duration": 63,
    "start_time": "2025-02-24T18:32:51.936Z"
   },
   {
    "duration": 77,
    "start_time": "2025-02-24T18:33:42.309Z"
   },
   {
    "duration": 61,
    "start_time": "2025-02-24T18:33:50.468Z"
   },
   {
    "duration": 62,
    "start_time": "2025-02-24T18:34:23.051Z"
   },
   {
    "duration": 66,
    "start_time": "2025-02-24T18:35:41.993Z"
   },
   {
    "duration": 69,
    "start_time": "2025-02-24T18:35:51.375Z"
   },
   {
    "duration": 1270,
    "start_time": "2025-02-24T18:36:27.130Z"
   },
   {
    "duration": 2834,
    "start_time": "2025-02-24T18:36:28.406Z"
   },
   {
    "duration": 0,
    "start_time": "2025-02-24T18:36:31.242Z"
   },
   {
    "duration": 0,
    "start_time": "2025-02-24T18:36:31.244Z"
   },
   {
    "duration": 0,
    "start_time": "2025-02-24T18:36:31.245Z"
   },
   {
    "duration": 0,
    "start_time": "2025-02-24T18:36:31.247Z"
   },
   {
    "duration": 0,
    "start_time": "2025-02-24T18:36:31.248Z"
   },
   {
    "duration": 0,
    "start_time": "2025-02-24T18:36:31.250Z"
   },
   {
    "duration": 22,
    "start_time": "2025-02-24T18:36:49.391Z"
   },
   {
    "duration": 4,
    "start_time": "2025-02-24T18:36:54.639Z"
   },
   {
    "duration": 2518,
    "start_time": "2025-02-24T18:37:02.383Z"
   },
   {
    "duration": 2502,
    "start_time": "2025-02-24T18:38:08.321Z"
   },
   {
    "duration": 11,
    "start_time": "2025-02-24T18:38:27.005Z"
   },
   {
    "duration": 5,
    "start_time": "2025-02-24T18:38:36.964Z"
   },
   {
    "duration": 5,
    "start_time": "2025-02-24T18:38:40.950Z"
   },
   {
    "duration": 54,
    "start_time": "2025-02-24T18:38:52.881Z"
   },
   {
    "duration": 68,
    "start_time": "2025-02-24T18:39:32.571Z"
   },
   {
    "duration": 971,
    "start_time": "2025-02-24T18:40:19.214Z"
   },
   {
    "duration": 20,
    "start_time": "2025-02-24T18:40:49.600Z"
   },
   {
    "duration": 16,
    "start_time": "2025-02-24T18:40:57.521Z"
   },
   {
    "duration": 16,
    "start_time": "2025-02-24T18:41:13.842Z"
   },
   {
    "duration": 214,
    "start_time": "2025-02-24T18:41:28.160Z"
   },
   {
    "duration": 223,
    "start_time": "2025-02-24T18:41:32.241Z"
   },
   {
    "duration": 15,
    "start_time": "2025-02-24T18:45:00.029Z"
   },
   {
    "duration": 143,
    "start_time": "2025-02-24T18:45:28.637Z"
   },
   {
    "duration": 31,
    "start_time": "2025-02-24T18:45:41.085Z"
   },
   {
    "duration": 47,
    "start_time": "2025-02-24T18:48:16.484Z"
   },
   {
    "duration": 23,
    "start_time": "2025-02-24T18:49:13.219Z"
   },
   {
    "duration": 36,
    "start_time": "2025-02-24T18:49:21.775Z"
   },
   {
    "duration": 27,
    "start_time": "2025-02-24T18:49:41.153Z"
   },
   {
    "duration": 44,
    "start_time": "2025-02-24T18:49:57.982Z"
   },
   {
    "duration": 18,
    "start_time": "2025-02-24T18:51:40.923Z"
   },
   {
    "duration": 49,
    "start_time": "2025-02-25T10:20:21.508Z"
   },
   {
    "duration": 4643,
    "start_time": "2025-02-25T10:20:24.954Z"
   },
   {
    "duration": 4101,
    "start_time": "2025-02-25T10:20:32.674Z"
   },
   {
    "duration": 6,
    "start_time": "2025-02-25T10:20:55.646Z"
   },
   {
    "duration": 4,
    "start_time": "2025-02-25T10:21:05.870Z"
   },
   {
    "duration": 5,
    "start_time": "2025-02-25T10:21:10.993Z"
   },
   {
    "duration": 4,
    "start_time": "2025-02-25T10:21:13.828Z"
   },
   {
    "duration": 22,
    "start_time": "2025-02-25T10:21:31.759Z"
   },
   {
    "duration": 23,
    "start_time": "2025-02-25T10:21:50.169Z"
   },
   {
    "duration": 22,
    "start_time": "2025-02-25T10:21:55.402Z"
   },
   {
    "duration": 23,
    "start_time": "2025-02-25T10:22:26.577Z"
   },
   {
    "duration": 88,
    "start_time": "2025-02-25T10:23:45.030Z"
   },
   {
    "duration": 47,
    "start_time": "2025-02-25T10:23:58.057Z"
   },
   {
    "duration": 10,
    "start_time": "2025-02-25T10:25:47.171Z"
   },
   {
    "duration": 1854,
    "start_time": "2025-02-25T10:26:25.252Z"
   },
   {
    "duration": 19,
    "start_time": "2025-02-25T10:29:08.342Z"
   },
   {
    "duration": 20,
    "start_time": "2025-02-25T10:29:25.700Z"
   },
   {
    "duration": 23,
    "start_time": "2025-02-25T10:34:01.831Z"
   },
   {
    "duration": 1125,
    "start_time": "2025-02-25T10:34:44.774Z"
   },
   {
    "duration": 2461,
    "start_time": "2025-02-25T10:34:45.900Z"
   },
   {
    "duration": 7,
    "start_time": "2025-02-25T10:34:48.363Z"
   },
   {
    "duration": 7,
    "start_time": "2025-02-25T10:34:48.372Z"
   },
   {
    "duration": 24,
    "start_time": "2025-02-25T10:34:48.381Z"
   },
   {
    "duration": 27,
    "start_time": "2025-02-25T10:34:48.407Z"
   },
   {
    "duration": 29,
    "start_time": "2025-02-25T10:34:48.436Z"
   },
   {
    "duration": 157,
    "start_time": "2025-02-25T10:34:48.467Z"
   },
   {
    "duration": 178,
    "start_time": "2025-02-25T10:34:48.626Z"
   },
   {
    "duration": 3,
    "start_time": "2025-02-25T10:35:04.596Z"
   },
   {
    "duration": 3,
    "start_time": "2025-02-25T10:35:12.287Z"
   },
   {
    "duration": 2334,
    "start_time": "2025-02-25T10:35:20.437Z"
   },
   {
    "duration": 5,
    "start_time": "2025-02-25T10:35:40.272Z"
   },
   {
    "duration": 4,
    "start_time": "2025-02-25T10:35:43.141Z"
   },
   {
    "duration": 23,
    "start_time": "2025-02-25T10:35:47.737Z"
   },
   {
    "duration": 25,
    "start_time": "2025-02-25T10:37:52.464Z"
   },
   {
    "duration": 11,
    "start_time": "2025-02-25T10:39:08.196Z"
   },
   {
    "duration": 8,
    "start_time": "2025-02-25T10:39:28.093Z"
   },
   {
    "duration": 15,
    "start_time": "2025-02-25T10:43:32.017Z"
   },
   {
    "duration": 13,
    "start_time": "2025-02-25T10:44:37.592Z"
   },
   {
    "duration": 3141,
    "start_time": "2025-02-25T10:46:05.922Z"
   },
   {
    "duration": 1054,
    "start_time": "2025-02-25T10:49:45.798Z"
   },
   {
    "duration": 13,
    "start_time": "2025-02-25T10:50:38.573Z"
   },
   {
    "duration": 144,
    "start_time": "2025-02-25T10:51:11.135Z"
   },
   {
    "duration": 78,
    "start_time": "2025-02-25T11:02:28.766Z"
   },
   {
    "duration": 133,
    "start_time": "2025-02-25T11:06:25.986Z"
   },
   {
    "duration": 67,
    "start_time": "2025-02-25T11:06:42.238Z"
   },
   {
    "duration": 156,
    "start_time": "2025-02-25T11:08:35.757Z"
   },
   {
    "duration": 145,
    "start_time": "2025-02-25T11:08:53.721Z"
   },
   {
    "duration": 126,
    "start_time": "2025-02-25T11:11:30.913Z"
   },
   {
    "duration": 129,
    "start_time": "2025-02-25T11:12:11.268Z"
   },
   {
    "duration": 120,
    "start_time": "2025-02-25T11:12:43.962Z"
   },
   {
    "duration": 100,
    "start_time": "2025-02-25T11:16:38.520Z"
   },
   {
    "duration": 24,
    "start_time": "2025-02-25T11:24:15.610Z"
   },
   {
    "duration": 20,
    "start_time": "2025-02-25T11:24:27.993Z"
   },
   {
    "duration": 19,
    "start_time": "2025-02-25T11:25:03.031Z"
   },
   {
    "duration": 15,
    "start_time": "2025-02-25T11:25:19.011Z"
   },
   {
    "duration": 15,
    "start_time": "2025-02-25T11:25:59.260Z"
   },
   {
    "duration": 1263,
    "start_time": "2025-02-25T11:26:14.253Z"
   },
   {
    "duration": 2858,
    "start_time": "2025-02-25T11:26:15.518Z"
   },
   {
    "duration": 6,
    "start_time": "2025-02-25T11:26:18.378Z"
   },
   {
    "duration": 14,
    "start_time": "2025-02-25T11:26:18.386Z"
   },
   {
    "duration": 49,
    "start_time": "2025-02-25T11:26:18.402Z"
   },
   {
    "duration": 119,
    "start_time": "2025-02-25T11:26:18.453Z"
   },
   {
    "duration": 10,
    "start_time": "2025-02-25T11:26:18.574Z"
   },
   {
    "duration": 18,
    "start_time": "2025-02-25T11:26:18.585Z"
   },
   {
    "duration": 13,
    "start_time": "2025-02-25T11:26:18.604Z"
   },
   {
    "duration": 163,
    "start_time": "2025-02-25T11:26:18.619Z"
   },
   {
    "duration": 3,
    "start_time": "2025-02-25T11:26:18.784Z"
   },
   {
    "duration": 198,
    "start_time": "2025-02-25T11:26:18.789Z"
   },
   {
    "duration": 170,
    "start_time": "2025-02-25T11:26:18.988Z"
   },
   {
    "duration": 159,
    "start_time": "2025-02-25T11:26:19.160Z"
   },
   {
    "duration": 110,
    "start_time": "2025-02-25T11:26:35.240Z"
   },
   {
    "duration": 12,
    "start_time": "2025-02-25T11:26:39.910Z"
   },
   {
    "duration": 13,
    "start_time": "2025-02-25T11:26:46.071Z"
   },
   {
    "duration": 8,
    "start_time": "2025-02-25T11:26:52.238Z"
   },
   {
    "duration": 36,
    "start_time": "2025-02-25T11:26:58.233Z"
   },
   {
    "duration": 4,
    "start_time": "2025-02-25T11:27:10.013Z"
   },
   {
    "duration": 3,
    "start_time": "2025-02-25T11:27:16.710Z"
   },
   {
    "duration": 2724,
    "start_time": "2025-02-25T11:27:21.691Z"
   },
   {
    "duration": 2734,
    "start_time": "2025-02-25T11:27:36.506Z"
   },
   {
    "duration": 4,
    "start_time": "2025-02-25T11:27:59.470Z"
   },
   {
    "duration": 5,
    "start_time": "2025-02-25T11:28:01.948Z"
   },
   {
    "duration": 24,
    "start_time": "2025-02-25T11:28:06.180Z"
   },
   {
    "duration": 151,
    "start_time": "2025-02-25T11:28:14.263Z"
   },
   {
    "duration": 144,
    "start_time": "2025-02-25T12:03:34.509Z"
   },
   {
    "duration": 155,
    "start_time": "2025-02-25T12:03:48.344Z"
   },
   {
    "duration": 34,
    "start_time": "2025-02-25T12:29:21.624Z"
   },
   {
    "duration": 42,
    "start_time": "2025-02-25T12:29:30.422Z"
   },
   {
    "duration": 236,
    "start_time": "2025-02-25T12:29:43.456Z"
   },
   {
    "duration": 189,
    "start_time": "2025-02-25T12:34:56.965Z"
   },
   {
    "duration": 190,
    "start_time": "2025-02-25T12:35:16.550Z"
   },
   {
    "duration": 1945,
    "start_time": "2025-02-25T12:37:50.103Z"
   },
   {
    "duration": 306,
    "start_time": "2025-02-25T12:39:19.555Z"
   },
   {
    "duration": 181,
    "start_time": "2025-02-25T12:39:49.992Z"
   },
   {
    "duration": 169,
    "start_time": "2025-02-25T12:42:34.651Z"
   },
   {
    "duration": 185,
    "start_time": "2025-02-25T12:49:26.151Z"
   },
   {
    "duration": 5042,
    "start_time": "2025-02-26T06:49:39.158Z"
   },
   {
    "duration": 2631,
    "start_time": "2025-02-26T06:49:46.688Z"
   },
   {
    "duration": 6,
    "start_time": "2025-02-26T06:50:01.938Z"
   },
   {
    "duration": 6,
    "start_time": "2025-02-26T06:50:13.140Z"
   },
   {
    "duration": 3,
    "start_time": "2025-02-26T06:50:21.256Z"
   },
   {
    "duration": 26,
    "start_time": "2025-02-26T06:52:52.673Z"
   },
   {
    "duration": 112,
    "start_time": "2025-02-26T06:53:13.482Z"
   },
   {
    "duration": 25,
    "start_time": "2025-02-26T06:53:27.537Z"
   },
   {
    "duration": 156,
    "start_time": "2025-02-26T06:53:37.850Z"
   },
   {
    "duration": 16,
    "start_time": "2025-02-26T06:55:54.028Z"
   },
   {
    "duration": 169,
    "start_time": "2025-02-26T06:56:00.498Z"
   },
   {
    "duration": 15,
    "start_time": "2025-02-26T06:56:12.591Z"
   },
   {
    "duration": 16,
    "start_time": "2025-02-26T06:57:48.193Z"
   },
   {
    "duration": 14,
    "start_time": "2025-02-26T06:58:14.969Z"
   },
   {
    "duration": 186,
    "start_time": "2025-02-26T06:58:23.073Z"
   },
   {
    "duration": 170,
    "start_time": "2025-02-26T06:58:27.283Z"
   },
   {
    "duration": 13,
    "start_time": "2025-02-26T06:58:37.277Z"
   },
   {
    "duration": 1248,
    "start_time": "2025-02-26T06:58:48.030Z"
   },
   {
    "duration": 2960,
    "start_time": "2025-02-26T06:58:49.280Z"
   },
   {
    "duration": 7,
    "start_time": "2025-02-26T06:58:52.241Z"
   },
   {
    "duration": 5,
    "start_time": "2025-02-26T06:58:52.250Z"
   },
   {
    "duration": 6,
    "start_time": "2025-02-26T06:58:52.257Z"
   },
   {
    "duration": 51,
    "start_time": "2025-02-26T06:58:52.265Z"
   },
   {
    "duration": 10,
    "start_time": "2025-02-26T06:58:52.318Z"
   },
   {
    "duration": 22,
    "start_time": "2025-02-26T06:58:52.330Z"
   },
   {
    "duration": 13,
    "start_time": "2025-02-26T06:58:52.354Z"
   },
   {
    "duration": 174,
    "start_time": "2025-02-26T06:58:52.370Z"
   },
   {
    "duration": 2,
    "start_time": "2025-02-26T06:58:52.546Z"
   },
   {
    "duration": 190,
    "start_time": "2025-02-26T06:58:52.549Z"
   },
   {
    "duration": 136,
    "start_time": "2025-02-26T06:58:52.741Z"
   },
   {
    "duration": 143,
    "start_time": "2025-02-26T06:58:52.879Z"
   },
   {
    "duration": 257,
    "start_time": "2025-02-26T06:58:53.024Z"
   },
   {
    "duration": 3,
    "start_time": "2025-02-26T07:18:48.596Z"
   },
   {
    "duration": 6,
    "start_time": "2025-02-26T07:19:06.639Z"
   },
   {
    "duration": 99,
    "start_time": "2025-02-26T07:22:23.475Z"
   },
   {
    "duration": 13,
    "start_time": "2025-02-26T07:22:36.198Z"
   },
   {
    "duration": 12,
    "start_time": "2025-02-26T07:23:14.065Z"
   },
   {
    "duration": 12,
    "start_time": "2025-02-26T07:23:43.453Z"
   },
   {
    "duration": 17,
    "start_time": "2025-02-26T07:26:55.047Z"
   },
   {
    "duration": 188,
    "start_time": "2025-02-26T07:38:40.390Z"
   },
   {
    "duration": 16,
    "start_time": "2025-02-26T07:42:21.330Z"
   },
   {
    "duration": 500,
    "start_time": "2025-02-26T07:47:27.704Z"
   },
   {
    "duration": 1340,
    "start_time": "2025-02-26T07:48:56.669Z"
   },
   {
    "duration": 16,
    "start_time": "2025-02-26T07:55:42.643Z"
   },
   {
    "duration": 16,
    "start_time": "2025-02-26T07:55:59.945Z"
   },
   {
    "duration": 18,
    "start_time": "2025-02-26T08:05:50.820Z"
   },
   {
    "duration": 101,
    "start_time": "2025-02-26T08:07:32.071Z"
   },
   {
    "duration": 5,
    "start_time": "2025-02-26T08:20:16.380Z"
   },
   {
    "duration": 320,
    "start_time": "2025-02-26T08:20:31.760Z"
   },
   {
    "duration": 173,
    "start_time": "2025-02-26T08:25:35.283Z"
   },
   {
    "duration": 105,
    "start_time": "2025-02-26T08:37:31.270Z"
   },
   {
    "duration": 127,
    "start_time": "2025-02-26T08:50:28.213Z"
   },
   {
    "duration": 106,
    "start_time": "2025-02-26T08:51:01.893Z"
   },
   {
    "duration": 112,
    "start_time": "2025-02-26T08:51:45.127Z"
   },
   {
    "duration": 319,
    "start_time": "2025-02-26T08:56:41.314Z"
   },
   {
    "duration": 770,
    "start_time": "2025-02-26T08:58:09.313Z"
   },
   {
    "duration": 845,
    "start_time": "2025-02-26T09:01:10.656Z"
   },
   {
    "duration": 902,
    "start_time": "2025-02-26T09:01:55.555Z"
   },
   {
    "duration": 859,
    "start_time": "2025-02-26T09:03:35.108Z"
   },
   {
    "duration": 3177,
    "start_time": "2025-02-26T09:13:02.758Z"
   },
   {
    "duration": 214,
    "start_time": "2025-02-26T09:26:15.189Z"
   },
   {
    "duration": 988,
    "start_time": "2025-02-26T09:26:26.047Z"
   },
   {
    "duration": 932,
    "start_time": "2025-02-26T09:27:31.731Z"
   },
   {
    "duration": 974,
    "start_time": "2025-02-26T09:27:46.633Z"
   },
   {
    "duration": 840,
    "start_time": "2025-02-26T09:28:03.813Z"
   },
   {
    "duration": 708,
    "start_time": "2025-02-26T09:28:23.167Z"
   },
   {
    "duration": 905,
    "start_time": "2025-02-26T09:28:37.231Z"
   },
   {
    "duration": 1021,
    "start_time": "2025-02-26T09:29:22.209Z"
   },
   {
    "duration": 970,
    "start_time": "2025-02-26T09:30:06.638Z"
   },
   {
    "duration": 681,
    "start_time": "2025-02-26T09:30:27.589Z"
   },
   {
    "duration": 917,
    "start_time": "2025-02-26T09:30:35.007Z"
   },
   {
    "duration": 977,
    "start_time": "2025-02-26T09:31:28.231Z"
   },
   {
    "duration": 964,
    "start_time": "2025-02-26T09:31:55.509Z"
   },
   {
    "duration": 4927,
    "start_time": "2025-02-26T12:34:48.968Z"
   },
   {
    "duration": 2617,
    "start_time": "2025-02-26T12:39:41.615Z"
   },
   {
    "duration": 5,
    "start_time": "2025-02-26T12:39:52.651Z"
   },
   {
    "duration": 4,
    "start_time": "2025-02-26T12:39:54.652Z"
   },
   {
    "duration": 35,
    "start_time": "2025-02-26T12:40:01.818Z"
   },
   {
    "duration": 229,
    "start_time": "2025-02-26T12:40:16.370Z"
   },
   {
    "duration": 248,
    "start_time": "2025-02-26T12:41:20.249Z"
   },
   {
    "duration": 752,
    "start_time": "2025-02-26T12:41:57.238Z"
   },
   {
    "duration": 823,
    "start_time": "2025-02-26T12:43:14.901Z"
   },
   {
    "duration": 1242,
    "start_time": "2025-02-26T12:44:01.441Z"
   },
   {
    "duration": 2743,
    "start_time": "2025-02-26T12:44:02.685Z"
   },
   {
    "duration": 6,
    "start_time": "2025-02-26T12:44:05.430Z"
   },
   {
    "duration": 39,
    "start_time": "2025-02-26T12:44:05.438Z"
   },
   {
    "duration": 17,
    "start_time": "2025-02-26T12:44:05.479Z"
   },
   {
    "duration": 117,
    "start_time": "2025-02-26T12:44:05.497Z"
   },
   {
    "duration": 17,
    "start_time": "2025-02-26T12:44:05.618Z"
   },
   {
    "duration": 15,
    "start_time": "2025-02-26T12:44:05.637Z"
   },
   {
    "duration": 12,
    "start_time": "2025-02-26T12:44:05.654Z"
   },
   {
    "duration": 183,
    "start_time": "2025-02-26T12:44:05.668Z"
   },
   {
    "duration": 2,
    "start_time": "2025-02-26T12:44:05.853Z"
   },
   {
    "duration": 197,
    "start_time": "2025-02-26T12:44:05.857Z"
   },
   {
    "duration": 171,
    "start_time": "2025-02-26T12:44:06.055Z"
   },
   {
    "duration": 149,
    "start_time": "2025-02-26T12:44:06.232Z"
   },
   {
    "duration": 243,
    "start_time": "2025-02-26T12:44:06.382Z"
   },
   {
    "duration": 952,
    "start_time": "2025-02-26T12:44:06.627Z"
   },
   {
    "duration": 945,
    "start_time": "2025-02-26T12:44:15.330Z"
   },
   {
    "duration": 1049,
    "start_time": "2025-02-26T12:46:35.722Z"
   },
   {
    "duration": 992,
    "start_time": "2025-02-26T12:47:20.988Z"
   },
   {
    "duration": 1041,
    "start_time": "2025-02-26T12:53:38.938Z"
   },
   {
    "duration": 1062,
    "start_time": "2025-02-26T12:54:15.108Z"
   },
   {
    "duration": 1055,
    "start_time": "2025-02-26T12:54:53.310Z"
   },
   {
    "duration": 1144,
    "start_time": "2025-02-26T12:55:14.210Z"
   },
   {
    "duration": 1098,
    "start_time": "2025-02-26T12:55:50.368Z"
   },
   {
    "duration": 1099,
    "start_time": "2025-02-26T12:56:10.893Z"
   },
   {
    "duration": 735,
    "start_time": "2025-02-26T12:56:53.533Z"
   },
   {
    "duration": 1144,
    "start_time": "2025-02-26T12:58:13.804Z"
   },
   {
    "duration": 1102,
    "start_time": "2025-02-26T12:59:08.416Z"
   },
   {
    "duration": 1057,
    "start_time": "2025-02-26T12:59:40.138Z"
   },
   {
    "duration": 918,
    "start_time": "2025-02-26T13:07:09.872Z"
   },
   {
    "duration": 957,
    "start_time": "2025-02-26T13:14:14.750Z"
   },
   {
    "duration": 1312,
    "start_time": "2025-02-26T13:17:11.412Z"
   },
   {
    "duration": 338,
    "start_time": "2025-02-26T13:18:41.092Z"
   },
   {
    "duration": 908,
    "start_time": "2025-02-26T13:18:51.884Z"
   },
   {
    "duration": 29809,
    "start_time": "2025-02-26T13:32:29.733Z"
   },
   {
    "duration": 29295,
    "start_time": "2025-02-26T13:36:05.592Z"
   },
   {
    "duration": 28136,
    "start_time": "2025-02-26T13:36:52.882Z"
   },
   {
    "duration": 29112,
    "start_time": "2025-02-26T13:39:26.371Z"
   },
   {
    "duration": 6561,
    "start_time": "2025-02-26T16:40:02.853Z"
   },
   {
    "duration": 3346,
    "start_time": "2025-02-26T16:40:12.053Z"
   },
   {
    "duration": 1357,
    "start_time": "2025-02-26T16:40:56.586Z"
   },
   {
    "duration": 5,
    "start_time": "2025-02-26T16:41:12.082Z"
   },
   {
    "duration": 4,
    "start_time": "2025-02-26T16:41:15.109Z"
   },
   {
    "duration": 15,
    "start_time": "2025-02-26T16:41:21.769Z"
   },
   {
    "duration": 1305,
    "start_time": "2025-02-26T16:41:46.544Z"
   },
   {
    "duration": 2784,
    "start_time": "2025-02-26T16:41:47.851Z"
   },
   {
    "duration": 7,
    "start_time": "2025-02-26T16:41:50.636Z"
   },
   {
    "duration": 11,
    "start_time": "2025-02-26T16:41:50.661Z"
   },
   {
    "duration": 9,
    "start_time": "2025-02-26T16:41:50.674Z"
   },
   {
    "duration": 26,
    "start_time": "2025-02-26T16:41:50.686Z"
   },
   {
    "duration": 10,
    "start_time": "2025-02-26T16:41:50.714Z"
   },
   {
    "duration": 55,
    "start_time": "2025-02-26T16:41:50.726Z"
   },
   {
    "duration": 13,
    "start_time": "2025-02-26T16:41:50.784Z"
   },
   {
    "duration": 187,
    "start_time": "2025-02-26T16:41:50.799Z"
   },
   {
    "duration": 3,
    "start_time": "2025-02-26T16:41:50.987Z"
   },
   {
    "duration": 234,
    "start_time": "2025-02-26T16:41:50.991Z"
   },
   {
    "duration": 166,
    "start_time": "2025-02-26T16:41:51.227Z"
   },
   {
    "duration": 173,
    "start_time": "2025-02-26T16:41:51.395Z"
   },
   {
    "duration": 263,
    "start_time": "2025-02-26T16:41:51.570Z"
   },
   {
    "duration": 28160,
    "start_time": "2025-02-26T16:41:51.834Z"
   },
   {
    "duration": 76,
    "start_time": "2025-02-26T16:42:19.996Z"
   },
   {
    "duration": 0,
    "start_time": "2025-02-26T16:42:20.074Z"
   },
   {
    "duration": 183,
    "start_time": "2025-02-26T16:45:26.532Z"
   },
   {
    "duration": 26309,
    "start_time": "2025-02-26T16:46:00.619Z"
   },
   {
    "duration": 26038,
    "start_time": "2025-02-26T16:47:38.347Z"
   },
   {
    "duration": 26196,
    "start_time": "2025-02-26T16:55:43.055Z"
   },
   {
    "duration": 26968,
    "start_time": "2025-02-26T17:03:07.581Z"
   },
   {
    "duration": 26937,
    "start_time": "2025-02-26T17:05:16.102Z"
   },
   {
    "duration": 26467,
    "start_time": "2025-02-26T17:06:54.323Z"
   },
   {
    "duration": 26751,
    "start_time": "2025-02-26T17:09:50.128Z"
   },
   {
    "duration": 15,
    "start_time": "2025-02-26T18:04:45.305Z"
   },
   {
    "duration": 2238,
    "start_time": "2025-02-26T18:04:48.777Z"
   },
   {
    "duration": 1444,
    "start_time": "2025-02-26T18:05:11.966Z"
   },
   {
    "duration": 158,
    "start_time": "2025-02-26T18:05:21.800Z"
   },
   {
    "duration": 1224,
    "start_time": "2025-02-26T18:05:27.964Z"
   },
   {
    "duration": 1159,
    "start_time": "2025-02-26T18:05:40.071Z"
   },
   {
    "duration": 4,
    "start_time": "2025-02-26T18:05:45.480Z"
   },
   {
    "duration": 1362,
    "start_time": "2025-02-26T18:05:48.565Z"
   },
   {
    "duration": 4,
    "start_time": "2025-02-26T18:05:55.977Z"
   },
   {
    "duration": 4,
    "start_time": "2025-02-26T18:05:58.865Z"
   },
   {
    "duration": 26,
    "start_time": "2025-02-26T18:06:02.325Z"
   },
   {
    "duration": 156,
    "start_time": "2025-02-26T18:06:07.776Z"
   },
   {
    "duration": 203,
    "start_time": "2025-02-26T18:06:15.715Z"
   },
   {
    "duration": 26418,
    "start_time": "2025-02-26T18:10:44.919Z"
   },
   {
    "duration": 27248,
    "start_time": "2025-02-26T18:16:33.715Z"
   },
   {
    "duration": 26941,
    "start_time": "2025-02-26T18:25:11.333Z"
   },
   {
    "duration": 26354,
    "start_time": "2025-02-26T18:30:36.558Z"
   },
   {
    "duration": 26572,
    "start_time": "2025-02-26T18:32:06.322Z"
   },
   {
    "duration": 9,
    "start_time": "2025-02-26T18:50:38.097Z"
   },
   {
    "duration": 8,
    "start_time": "2025-02-26T18:51:01.822Z"
   },
   {
    "duration": 13,
    "start_time": "2025-02-26T18:51:07.126Z"
   },
   {
    "duration": 14,
    "start_time": "2025-02-26T18:51:11.911Z"
   },
   {
    "duration": 11,
    "start_time": "2025-02-26T18:51:15.082Z"
   },
   {
    "duration": 24,
    "start_time": "2025-02-26T18:51:27.000Z"
   },
   {
    "duration": 8,
    "start_time": "2025-02-26T18:51:38.326Z"
   },
   {
    "duration": 56,
    "start_time": "2025-02-26T18:51:53.415Z"
   },
   {
    "duration": 130,
    "start_time": "2025-02-26T18:51:59.451Z"
   },
   {
    "duration": 138,
    "start_time": "2025-02-26T18:52:03.545Z"
   },
   {
    "duration": 186,
    "start_time": "2025-02-26T18:52:14.372Z"
   },
   {
    "duration": 27533,
    "start_time": "2025-02-26T18:52:41.187Z"
   },
   {
    "duration": 26799,
    "start_time": "2025-02-26T18:55:22.942Z"
   },
   {
    "duration": 26731,
    "start_time": "2025-02-26T18:57:26.899Z"
   },
   {
    "duration": 1249,
    "start_time": "2025-02-26T18:59:34.182Z"
   },
   {
    "duration": 2349,
    "start_time": "2025-02-26T18:59:35.433Z"
   },
   {
    "duration": 6,
    "start_time": "2025-02-26T18:59:37.784Z"
   },
   {
    "duration": 5,
    "start_time": "2025-02-26T18:59:37.792Z"
   },
   {
    "duration": 10,
    "start_time": "2025-02-26T18:59:37.798Z"
   },
   {
    "duration": 188,
    "start_time": "2025-02-26T18:59:37.810Z"
   },
   {
    "duration": 18,
    "start_time": "2025-02-26T18:59:38.000Z"
   },
   {
    "duration": 16,
    "start_time": "2025-02-26T18:59:38.020Z"
   },
   {
    "duration": 13,
    "start_time": "2025-02-26T18:59:38.038Z"
   },
   {
    "duration": 10,
    "start_time": "2025-02-26T18:59:38.053Z"
   },
   {
    "duration": 2,
    "start_time": "2025-02-26T18:59:38.065Z"
   },
   {
    "duration": 215,
    "start_time": "2025-02-26T18:59:38.069Z"
   },
   {
    "duration": 149,
    "start_time": "2025-02-26T18:59:38.286Z"
   },
   {
    "duration": 152,
    "start_time": "2025-02-26T18:59:38.436Z"
   },
   {
    "duration": 226,
    "start_time": "2025-02-26T18:59:38.590Z"
   },
   {
    "duration": 26743,
    "start_time": "2025-02-26T18:59:38.817Z"
   },
   {
    "duration": 107,
    "start_time": "2025-02-26T19:00:05.562Z"
   },
   {
    "duration": 110,
    "start_time": "2025-02-26T20:00:17.425Z"
   },
   {
    "duration": 77,
    "start_time": "2025-02-26T20:00:57.131Z"
   },
   {
    "duration": 81,
    "start_time": "2025-02-26T20:01:21.416Z"
   },
   {
    "duration": 155,
    "start_time": "2025-02-26T20:01:32.043Z"
   },
   {
    "duration": 159,
    "start_time": "2025-02-26T20:01:58.776Z"
   },
   {
    "duration": 153,
    "start_time": "2025-02-26T20:04:47.359Z"
   },
   {
    "duration": 1245,
    "start_time": "2025-02-26T20:04:59.060Z"
   },
   {
    "duration": 2491,
    "start_time": "2025-02-26T20:05:00.307Z"
   },
   {
    "duration": 6,
    "start_time": "2025-02-26T20:05:02.799Z"
   },
   {
    "duration": 6,
    "start_time": "2025-02-26T20:05:02.807Z"
   },
   {
    "duration": 7,
    "start_time": "2025-02-26T20:05:02.814Z"
   },
   {
    "duration": 47,
    "start_time": "2025-02-26T20:05:02.822Z"
   },
   {
    "duration": 10,
    "start_time": "2025-02-26T20:05:02.870Z"
   },
   {
    "duration": 27,
    "start_time": "2025-02-26T20:05:02.882Z"
   },
   {
    "duration": 12,
    "start_time": "2025-02-26T20:05:02.910Z"
   },
   {
    "duration": 14,
    "start_time": "2025-02-26T20:05:02.924Z"
   },
   {
    "duration": 29,
    "start_time": "2025-02-26T20:05:02.939Z"
   },
   {
    "duration": 204,
    "start_time": "2025-02-26T20:05:02.970Z"
   },
   {
    "duration": 151,
    "start_time": "2025-02-26T20:05:03.176Z"
   },
   {
    "duration": 150,
    "start_time": "2025-02-26T20:05:03.328Z"
   },
   {
    "duration": 230,
    "start_time": "2025-02-26T20:05:03.479Z"
   },
   {
    "duration": 26551,
    "start_time": "2025-02-26T20:05:03.710Z"
   },
   {
    "duration": 0,
    "start_time": "2025-02-26T20:05:30.579Z"
   },
   {
    "duration": 4,
    "start_time": "2025-02-26T20:05:47.358Z"
   },
   {
    "duration": 2383,
    "start_time": "2025-02-26T20:05:52.706Z"
   },
   {
    "duration": 6,
    "start_time": "2025-02-26T20:06:09.801Z"
   },
   {
    "duration": 4,
    "start_time": "2025-02-26T20:06:14.558Z"
   },
   {
    "duration": 4,
    "start_time": "2025-02-26T20:06:18.038Z"
   },
   {
    "duration": 27,
    "start_time": "2025-02-26T20:06:22.320Z"
   },
   {
    "duration": 11,
    "start_time": "2025-02-26T20:06:25.209Z"
   },
   {
    "duration": 15,
    "start_time": "2025-02-26T20:06:27.348Z"
   },
   {
    "duration": 170,
    "start_time": "2025-02-26T20:06:32.306Z"
   },
   {
    "duration": 131,
    "start_time": "2025-02-26T20:06:38.517Z"
   },
   {
    "duration": 140,
    "start_time": "2025-02-26T20:06:42.304Z"
   },
   {
    "duration": 209,
    "start_time": "2025-02-26T20:06:51.749Z"
   },
   {
    "duration": 26372,
    "start_time": "2025-02-26T20:06:57.459Z"
   },
   {
    "duration": 173,
    "start_time": "2025-02-26T20:07:41.572Z"
   },
   {
    "duration": 181,
    "start_time": "2025-02-26T20:08:19.869Z"
   },
   {
    "duration": 64,
    "start_time": "2025-02-26T20:13:41.716Z"
   },
   {
    "duration": 179,
    "start_time": "2025-02-26T20:16:17.269Z"
   },
   {
    "duration": 5023,
    "start_time": "2025-02-27T09:18:34.438Z"
   },
   {
    "duration": 2644,
    "start_time": "2025-02-27T09:18:42.547Z"
   },
   {
    "duration": 8,
    "start_time": "2025-02-27T09:20:06.186Z"
   },
   {
    "duration": 6,
    "start_time": "2025-02-27T09:21:14.822Z"
   },
   {
    "duration": 5,
    "start_time": "2025-02-27T09:21:18.500Z"
   },
   {
    "duration": 5,
    "start_time": "2025-02-27T09:21:37.166Z"
   },
   {
    "duration": 5,
    "start_time": "2025-02-27T09:21:42.139Z"
   },
   {
    "duration": 1248,
    "start_time": "2025-02-27T09:21:48.428Z"
   },
   {
    "duration": 2892,
    "start_time": "2025-02-27T09:21:49.679Z"
   },
   {
    "duration": 7,
    "start_time": "2025-02-27T09:21:52.573Z"
   },
   {
    "duration": 138,
    "start_time": "2025-02-27T09:21:52.601Z"
   },
   {
    "duration": 43,
    "start_time": "2025-02-27T09:21:52.741Z"
   },
   {
    "duration": 79,
    "start_time": "2025-02-27T09:21:52.786Z"
   },
   {
    "duration": 47,
    "start_time": "2025-02-27T09:21:52.866Z"
   },
   {
    "duration": 34,
    "start_time": "2025-02-27T09:21:52.914Z"
   },
   {
    "duration": 38,
    "start_time": "2025-02-27T09:21:52.950Z"
   },
   {
    "duration": 74,
    "start_time": "2025-02-27T09:21:52.990Z"
   },
   {
    "duration": 40,
    "start_time": "2025-02-27T09:21:53.067Z"
   },
   {
    "duration": 245,
    "start_time": "2025-02-27T09:21:53.109Z"
   },
   {
    "duration": 158,
    "start_time": "2025-02-27T09:21:53.356Z"
   },
   {
    "duration": 158,
    "start_time": "2025-02-27T09:21:53.516Z"
   },
   {
    "duration": 301,
    "start_time": "2025-02-27T09:21:53.676Z"
   },
   {
    "duration": 27985,
    "start_time": "2025-02-27T09:21:53.979Z"
   },
   {
    "duration": 200,
    "start_time": "2025-02-27T09:22:21.966Z"
   },
   {
    "duration": 6,
    "start_time": "2025-02-27T09:22:22.168Z"
   },
   {
    "duration": 38,
    "start_time": "2025-02-27T09:22:22.176Z"
   },
   {
    "duration": 4,
    "start_time": "2025-02-27T09:22:26.360Z"
   },
   {
    "duration": 2404,
    "start_time": "2025-02-27T09:22:31.137Z"
   },
   {
    "duration": 8,
    "start_time": "2025-02-27T09:22:37.428Z"
   },
   {
    "duration": 5,
    "start_time": "2025-02-27T09:22:44.734Z"
   },
   {
    "duration": 4,
    "start_time": "2025-02-27T09:22:48.143Z"
   },
   {
    "duration": 1567,
    "start_time": "2025-02-27T09:23:42.522Z"
   },
   {
    "duration": 4,
    "start_time": "2025-02-27T09:24:11.058Z"
   },
   {
    "duration": 2871,
    "start_time": "2025-02-27T09:24:14.796Z"
   },
   {
    "duration": 2658,
    "start_time": "2025-02-27T09:25:16.007Z"
   },
   {
    "duration": 7,
    "start_time": "2025-02-27T09:25:45.314Z"
   },
   {
    "duration": 7,
    "start_time": "2025-02-27T09:25:48.366Z"
   },
   {
    "duration": 5,
    "start_time": "2025-02-27T09:25:57.471Z"
   },
   {
    "duration": 4,
    "start_time": "2025-02-27T09:26:00.295Z"
   },
   {
    "duration": 7,
    "start_time": "2025-02-27T09:28:12.769Z"
   },
   {
    "duration": 4,
    "start_time": "2025-02-27T09:28:22.578Z"
   },
   {
    "duration": 5,
    "start_time": "2025-02-27T09:31:25.256Z"
   },
   {
    "duration": 5,
    "start_time": "2025-02-27T09:31:29.046Z"
   },
   {
    "duration": 27,
    "start_time": "2025-02-27T09:35:06.640Z"
   },
   {
    "duration": 4,
    "start_time": "2025-02-27T09:35:08.582Z"
   },
   {
    "duration": 22,
    "start_time": "2025-02-27T09:37:40.955Z"
   },
   {
    "duration": 4,
    "start_time": "2025-02-27T09:37:43.515Z"
   },
   {
    "duration": 46,
    "start_time": "2025-02-27T09:38:32.419Z"
   },
   {
    "duration": 4,
    "start_time": "2025-02-27T09:38:34.548Z"
   },
   {
    "duration": 25,
    "start_time": "2025-02-27T09:39:26.246Z"
   },
   {
    "duration": 5,
    "start_time": "2025-02-27T09:39:27.971Z"
   },
   {
    "duration": 25,
    "start_time": "2025-02-27T09:40:53.567Z"
   },
   {
    "duration": 5,
    "start_time": "2025-02-27T09:40:55.119Z"
   },
   {
    "duration": 5,
    "start_time": "2025-02-27T09:42:02.766Z"
   },
   {
    "duration": 5,
    "start_time": "2025-02-27T09:42:05.658Z"
   },
   {
    "duration": 1306,
    "start_time": "2025-02-27T09:42:15.152Z"
   },
   {
    "duration": 2929,
    "start_time": "2025-02-27T09:42:16.460Z"
   },
   {
    "duration": 16,
    "start_time": "2025-02-27T09:42:19.390Z"
   },
   {
    "duration": 8,
    "start_time": "2025-02-27T09:42:19.407Z"
   },
   {
    "duration": 94,
    "start_time": "2025-02-27T09:42:19.417Z"
   },
   {
    "duration": 50,
    "start_time": "2025-02-27T09:42:19.512Z"
   },
   {
    "duration": 1413,
    "start_time": "2025-02-27T09:42:19.564Z"
   },
   {
    "duration": 0,
    "start_time": "2025-02-27T09:42:20.979Z"
   },
   {
    "duration": 0,
    "start_time": "2025-02-27T09:42:20.980Z"
   },
   {
    "duration": 0,
    "start_time": "2025-02-27T09:42:20.982Z"
   },
   {
    "duration": 0,
    "start_time": "2025-02-27T09:42:20.982Z"
   },
   {
    "duration": 0,
    "start_time": "2025-02-27T09:42:20.984Z"
   },
   {
    "duration": 0,
    "start_time": "2025-02-27T09:42:20.985Z"
   },
   {
    "duration": 0,
    "start_time": "2025-02-27T09:42:20.986Z"
   },
   {
    "duration": 0,
    "start_time": "2025-02-27T09:42:20.987Z"
   },
   {
    "duration": 0,
    "start_time": "2025-02-27T09:42:20.989Z"
   },
   {
    "duration": 0,
    "start_time": "2025-02-27T09:42:20.990Z"
   },
   {
    "duration": 0,
    "start_time": "2025-02-27T09:42:20.991Z"
   },
   {
    "duration": 4,
    "start_time": "2025-02-27T09:44:23.585Z"
   },
   {
    "duration": 2731,
    "start_time": "2025-02-27T09:44:26.736Z"
   },
   {
    "duration": 7,
    "start_time": "2025-02-27T09:44:36.625Z"
   },
   {
    "duration": 5,
    "start_time": "2025-02-27T09:44:47.278Z"
   },
   {
    "duration": 4,
    "start_time": "2025-02-27T09:44:50.197Z"
   },
   {
    "duration": 6,
    "start_time": "2025-02-27T09:45:23.050Z"
   },
   {
    "duration": 5,
    "start_time": "2025-02-27T09:45:27.182Z"
   },
   {
    "duration": 20,
    "start_time": "2025-02-27T09:47:05.779Z"
   },
   {
    "duration": 4,
    "start_time": "2025-02-27T09:47:09.155Z"
   },
   {
    "duration": 1432,
    "start_time": "2025-02-27T09:47:22.890Z"
   },
   {
    "duration": 2765,
    "start_time": "2025-02-27T09:47:24.324Z"
   },
   {
    "duration": 7,
    "start_time": "2025-02-27T09:47:27.102Z"
   },
   {
    "duration": 57,
    "start_time": "2025-02-27T09:47:27.113Z"
   },
   {
    "duration": 4,
    "start_time": "2025-02-27T09:47:27.172Z"
   },
   {
    "duration": 107,
    "start_time": "2025-02-27T09:47:27.177Z"
   },
   {
    "duration": 1420,
    "start_time": "2025-02-27T09:47:27.286Z"
   },
   {
    "duration": 0,
    "start_time": "2025-02-27T09:47:28.709Z"
   },
   {
    "duration": 1,
    "start_time": "2025-02-27T09:47:28.710Z"
   },
   {
    "duration": 0,
    "start_time": "2025-02-27T09:47:28.712Z"
   },
   {
    "duration": 0,
    "start_time": "2025-02-27T09:47:28.714Z"
   },
   {
    "duration": 0,
    "start_time": "2025-02-27T09:47:28.715Z"
   },
   {
    "duration": 0,
    "start_time": "2025-02-27T09:47:28.717Z"
   },
   {
    "duration": 0,
    "start_time": "2025-02-27T09:47:28.719Z"
   },
   {
    "duration": 0,
    "start_time": "2025-02-27T09:47:28.720Z"
   },
   {
    "duration": 0,
    "start_time": "2025-02-27T09:47:28.722Z"
   },
   {
    "duration": 0,
    "start_time": "2025-02-27T09:47:28.724Z"
   },
   {
    "duration": 0,
    "start_time": "2025-02-27T09:47:28.725Z"
   },
   {
    "duration": 21,
    "start_time": "2025-02-27T09:47:36.889Z"
   },
   {
    "duration": 4,
    "start_time": "2025-02-27T09:47:39.627Z"
   },
   {
    "duration": 60,
    "start_time": "2025-02-27T09:50:14.979Z"
   },
   {
    "duration": 4,
    "start_time": "2025-02-27T09:50:17.738Z"
   },
   {
    "duration": 29,
    "start_time": "2025-02-27T09:50:33.105Z"
   },
   {
    "duration": 27,
    "start_time": "2025-02-27T09:50:35.764Z"
   },
   {
    "duration": 4,
    "start_time": "2025-02-27T09:50:38.195Z"
   },
   {
    "duration": 1273,
    "start_time": "2025-02-27T09:50:50.030Z"
   },
   {
    "duration": 3551,
    "start_time": "2025-02-27T09:50:51.305Z"
   },
   {
    "duration": 6,
    "start_time": "2025-02-27T09:50:54.858Z"
   },
   {
    "duration": 61,
    "start_time": "2025-02-27T09:50:54.866Z"
   },
   {
    "duration": 5,
    "start_time": "2025-02-27T09:50:54.929Z"
   },
   {
    "duration": 69,
    "start_time": "2025-02-27T09:50:54.936Z"
   },
   {
    "duration": 1576,
    "start_time": "2025-02-27T09:50:55.007Z"
   },
   {
    "duration": 0,
    "start_time": "2025-02-27T09:50:56.586Z"
   },
   {
    "duration": 0,
    "start_time": "2025-02-27T09:50:56.588Z"
   },
   {
    "duration": 0,
    "start_time": "2025-02-27T09:50:56.590Z"
   },
   {
    "duration": 0,
    "start_time": "2025-02-27T09:50:56.591Z"
   },
   {
    "duration": 0,
    "start_time": "2025-02-27T09:50:56.593Z"
   },
   {
    "duration": 0,
    "start_time": "2025-02-27T09:50:56.594Z"
   },
   {
    "duration": 0,
    "start_time": "2025-02-27T09:50:56.596Z"
   },
   {
    "duration": 0,
    "start_time": "2025-02-27T09:50:56.598Z"
   },
   {
    "duration": 0,
    "start_time": "2025-02-27T09:50:56.599Z"
   },
   {
    "duration": 0,
    "start_time": "2025-02-27T09:50:56.601Z"
   },
   {
    "duration": 0,
    "start_time": "2025-02-27T09:50:56.603Z"
   },
   {
    "duration": 20,
    "start_time": "2025-02-27T09:51:14.326Z"
   },
   {
    "duration": 4,
    "start_time": "2025-02-27T09:51:17.367Z"
   },
   {
    "duration": 55,
    "start_time": "2025-02-27T09:52:28.380Z"
   },
   {
    "duration": 4,
    "start_time": "2025-02-27T09:52:31.143Z"
   },
   {
    "duration": 1228,
    "start_time": "2025-02-27T09:52:46.550Z"
   },
   {
    "duration": 2339,
    "start_time": "2025-02-27T09:52:47.780Z"
   },
   {
    "duration": 6,
    "start_time": "2025-02-27T09:52:50.120Z"
   },
   {
    "duration": 66,
    "start_time": "2025-02-27T09:52:50.128Z"
   },
   {
    "duration": 102,
    "start_time": "2025-02-27T09:52:50.196Z"
   },
   {
    "duration": 116,
    "start_time": "2025-02-27T09:52:50.300Z"
   },
   {
    "duration": 1387,
    "start_time": "2025-02-27T09:52:50.418Z"
   },
   {
    "duration": 0,
    "start_time": "2025-02-27T09:52:51.807Z"
   },
   {
    "duration": 0,
    "start_time": "2025-02-27T09:52:51.808Z"
   },
   {
    "duration": 0,
    "start_time": "2025-02-27T09:52:51.809Z"
   },
   {
    "duration": 0,
    "start_time": "2025-02-27T09:52:51.810Z"
   },
   {
    "duration": 1,
    "start_time": "2025-02-27T09:52:51.811Z"
   },
   {
    "duration": 0,
    "start_time": "2025-02-27T09:52:51.813Z"
   },
   {
    "duration": 0,
    "start_time": "2025-02-27T09:52:51.814Z"
   },
   {
    "duration": 0,
    "start_time": "2025-02-27T09:52:51.815Z"
   },
   {
    "duration": 0,
    "start_time": "2025-02-27T09:52:51.817Z"
   },
   {
    "duration": 0,
    "start_time": "2025-02-27T09:52:51.818Z"
   },
   {
    "duration": 0,
    "start_time": "2025-02-27T09:52:51.819Z"
   },
   {
    "duration": 26,
    "start_time": "2025-02-27T10:12:07.259Z"
   },
   {
    "duration": 4,
    "start_time": "2025-02-27T10:12:10.239Z"
   },
   {
    "duration": 7,
    "start_time": "2025-02-27T10:12:42.473Z"
   },
   {
    "duration": 56,
    "start_time": "2025-02-27T10:12:48.215Z"
   },
   {
    "duration": 4,
    "start_time": "2025-02-27T10:12:52.795Z"
   },
   {
    "duration": 4,
    "start_time": "2025-02-27T10:13:38.483Z"
   },
   {
    "duration": 2567,
    "start_time": "2025-02-27T10:13:42.054Z"
   },
   {
    "duration": 7,
    "start_time": "2025-02-27T10:13:54.926Z"
   },
   {
    "duration": 19,
    "start_time": "2025-02-27T10:14:39.266Z"
   },
   {
    "duration": 4,
    "start_time": "2025-02-27T10:14:42.716Z"
   },
   {
    "duration": 19,
    "start_time": "2025-02-27T10:15:45.588Z"
   },
   {
    "duration": 94,
    "start_time": "2025-02-27T10:16:19.240Z"
   },
   {
    "duration": 15,
    "start_time": "2025-02-27T10:16:29.056Z"
   },
   {
    "duration": 12,
    "start_time": "2025-02-27T10:19:00.275Z"
   },
   {
    "duration": 11,
    "start_time": "2025-02-27T10:19:09.159Z"
   },
   {
    "duration": 12,
    "start_time": "2025-02-27T10:19:38.319Z"
   },
   {
    "duration": 12,
    "start_time": "2025-02-27T10:19:51.237Z"
   },
   {
    "duration": 9,
    "start_time": "2025-02-27T10:20:37.206Z"
   },
   {
    "duration": 12,
    "start_time": "2025-02-27T10:23:12.207Z"
   },
   {
    "duration": 12,
    "start_time": "2025-02-27T10:23:55.402Z"
   },
   {
    "duration": 11,
    "start_time": "2025-02-27T10:24:05.095Z"
   },
   {
    "duration": 12,
    "start_time": "2025-02-27T10:31:28.251Z"
   },
   {
    "duration": 11,
    "start_time": "2025-02-27T10:31:49.887Z"
   },
   {
    "duration": 4,
    "start_time": "2025-02-27T10:32:30.429Z"
   },
   {
    "duration": 2623,
    "start_time": "2025-02-27T10:32:49.222Z"
   },
   {
    "duration": 7,
    "start_time": "2025-02-27T10:33:22.983Z"
   },
   {
    "duration": 5,
    "start_time": "2025-02-27T10:33:34.729Z"
   },
   {
    "duration": 4,
    "start_time": "2025-02-27T10:33:38.175Z"
   },
   {
    "duration": 84,
    "start_time": "2025-02-27T10:34:27.114Z"
   },
   {
    "duration": 4,
    "start_time": "2025-02-27T10:34:34.243Z"
   },
   {
    "duration": 1236,
    "start_time": "2025-02-27T10:34:40.551Z"
   },
   {
    "duration": 2757,
    "start_time": "2025-02-27T10:34:41.789Z"
   },
   {
    "duration": 8,
    "start_time": "2025-02-27T10:34:44.548Z"
   },
   {
    "duration": 82,
    "start_time": "2025-02-27T10:34:44.559Z"
   },
   {
    "duration": 0,
    "start_time": "2025-02-27T10:34:44.643Z"
   },
   {
    "duration": 0,
    "start_time": "2025-02-27T10:34:44.644Z"
   },
   {
    "duration": 0,
    "start_time": "2025-02-27T10:34:44.645Z"
   },
   {
    "duration": 0,
    "start_time": "2025-02-27T10:34:44.646Z"
   },
   {
    "duration": 0,
    "start_time": "2025-02-27T10:34:44.647Z"
   },
   {
    "duration": 0,
    "start_time": "2025-02-27T10:34:44.648Z"
   },
   {
    "duration": 0,
    "start_time": "2025-02-27T10:34:44.649Z"
   },
   {
    "duration": 0,
    "start_time": "2025-02-27T10:34:44.650Z"
   },
   {
    "duration": 0,
    "start_time": "2025-02-27T10:34:44.651Z"
   },
   {
    "duration": 0,
    "start_time": "2025-02-27T10:34:44.652Z"
   },
   {
    "duration": 0,
    "start_time": "2025-02-27T10:34:44.653Z"
   },
   {
    "duration": 0,
    "start_time": "2025-02-27T10:34:44.655Z"
   },
   {
    "duration": 0,
    "start_time": "2025-02-27T10:34:44.657Z"
   },
   {
    "duration": 7,
    "start_time": "2025-02-27T10:35:01.338Z"
   },
   {
    "duration": 94,
    "start_time": "2025-02-27T10:35:11.098Z"
   },
   {
    "duration": 6,
    "start_time": "2025-02-27T10:35:18.467Z"
   },
   {
    "duration": 5,
    "start_time": "2025-02-27T10:37:04.467Z"
   },
   {
    "duration": 5,
    "start_time": "2025-02-27T10:37:08.617Z"
   },
   {
    "duration": 1355,
    "start_time": "2025-02-27T10:39:02.963Z"
   },
   {
    "duration": 12,
    "start_time": "2025-02-27T10:39:13.862Z"
   },
   {
    "duration": 17,
    "start_time": "2025-02-27T10:39:18.468Z"
   },
   {
    "duration": 15,
    "start_time": "2025-02-27T10:40:02.754Z"
   },
   {
    "duration": 14,
    "start_time": "2025-02-27T10:40:07.109Z"
   },
   {
    "duration": 9,
    "start_time": "2025-02-27T10:40:10.239Z"
   },
   {
    "duration": 1404,
    "start_time": "2025-02-27T10:40:25.751Z"
   },
   {
    "duration": 118,
    "start_time": "2025-02-27T10:45:14.446Z"
   },
   {
    "duration": 26,
    "start_time": "2025-02-27T10:49:58.363Z"
   },
   {
    "duration": 4,
    "start_time": "2025-02-27T10:50:04.706Z"
   },
   {
    "duration": 1274,
    "start_time": "2025-02-27T10:50:11.214Z"
   },
   {
    "duration": 225,
    "start_time": "2025-02-27T10:50:25.487Z"
   },
   {
    "duration": 141,
    "start_time": "2025-02-27T10:50:30.235Z"
   },
   {
    "duration": 146,
    "start_time": "2025-02-27T10:50:35.173Z"
   },
   {
    "duration": 230,
    "start_time": "2025-02-27T10:50:42.017Z"
   },
   {
    "duration": 28173,
    "start_time": "2025-02-27T10:50:50.304Z"
   },
   {
    "duration": 229,
    "start_time": "2025-02-27T10:51:33.145Z"
   },
   {
    "duration": 2514,
    "start_time": "2025-02-27T10:57:10.234Z"
   },
   {
    "duration": 7,
    "start_time": "2025-02-27T11:35:35.033Z"
   },
   {
    "duration": 5,
    "start_time": "2025-02-27T11:35:37.039Z"
   },
   {
    "duration": 2066,
    "start_time": "2025-02-27T11:35:42.896Z"
   },
   {
    "duration": 1207,
    "start_time": "2025-02-27T11:35:58.365Z"
   },
   {
    "duration": 208,
    "start_time": "2025-02-27T11:36:45.707Z"
   },
   {
    "duration": 1300,
    "start_time": "2025-02-27T11:38:21.710Z"
   },
   {
    "duration": 30,
    "start_time": "2025-02-27T11:38:40.422Z"
   },
   {
    "duration": 33,
    "start_time": "2025-02-27T11:38:47.009Z"
   },
   {
    "duration": 65,
    "start_time": "2025-02-27T11:39:10.122Z"
   },
   {
    "duration": 300,
    "start_time": "2025-02-27T11:41:42.676Z"
   },
   {
    "duration": 614,
    "start_time": "2025-02-27T11:43:03.664Z"
   },
   {
    "duration": 289,
    "start_time": "2025-02-27T11:43:28.323Z"
   },
   {
    "duration": 280,
    "start_time": "2025-02-27T11:43:31.888Z"
   },
   {
    "duration": 352,
    "start_time": "2025-02-27T11:43:53.384Z"
   },
   {
    "duration": 338,
    "start_time": "2025-02-27T11:44:22.423Z"
   },
   {
    "duration": 275,
    "start_time": "2025-02-27T11:44:40.854Z"
   },
   {
    "duration": 5,
    "start_time": "2025-02-27T11:45:45.667Z"
   },
   {
    "duration": 4,
    "start_time": "2025-02-27T11:46:10.801Z"
   },
   {
    "duration": 73,
    "start_time": "2025-02-27T11:47:52.488Z"
   },
   {
    "duration": 104,
    "start_time": "2025-02-27T11:48:01.734Z"
   },
   {
    "duration": 5,
    "start_time": "2025-02-27T11:48:45.892Z"
   },
   {
    "duration": 4,
    "start_time": "2025-02-27T11:49:18.811Z"
   },
   {
    "duration": 4,
    "start_time": "2025-02-27T11:49:23.184Z"
   },
   {
    "duration": 12,
    "start_time": "2025-02-27T11:52:14.949Z"
   },
   {
    "duration": 9,
    "start_time": "2025-02-27T11:52:19.015Z"
   },
   {
    "duration": 11,
    "start_time": "2025-02-27T11:52:48.146Z"
   },
   {
    "duration": 1315,
    "start_time": "2025-02-27T11:52:59.990Z"
   },
   {
    "duration": 2748,
    "start_time": "2025-02-27T11:53:01.310Z"
   },
   {
    "duration": 6,
    "start_time": "2025-02-27T11:53:04.061Z"
   },
   {
    "duration": 282,
    "start_time": "2025-02-27T11:53:04.069Z"
   },
   {
    "duration": 77,
    "start_time": "2025-02-27T11:53:04.352Z"
   },
   {
    "duration": 1636,
    "start_time": "2025-02-27T11:53:04.431Z"
   },
   {
    "duration": 0,
    "start_time": "2025-02-27T11:53:06.071Z"
   },
   {
    "duration": 0,
    "start_time": "2025-02-27T11:53:06.073Z"
   },
   {
    "duration": 0,
    "start_time": "2025-02-27T11:53:06.074Z"
   },
   {
    "duration": 0,
    "start_time": "2025-02-27T11:53:06.077Z"
   },
   {
    "duration": 0,
    "start_time": "2025-02-27T11:53:06.079Z"
   },
   {
    "duration": 0,
    "start_time": "2025-02-27T11:53:06.081Z"
   },
   {
    "duration": 0,
    "start_time": "2025-02-27T11:53:06.082Z"
   },
   {
    "duration": 0,
    "start_time": "2025-02-27T11:53:06.084Z"
   },
   {
    "duration": 0,
    "start_time": "2025-02-27T11:53:06.086Z"
   },
   {
    "duration": 0,
    "start_time": "2025-02-27T11:53:06.088Z"
   },
   {
    "duration": 0,
    "start_time": "2025-02-27T11:53:06.090Z"
   },
   {
    "duration": 0,
    "start_time": "2025-02-27T11:53:06.092Z"
   },
   {
    "duration": 0,
    "start_time": "2025-02-27T11:53:06.093Z"
   },
   {
    "duration": 0,
    "start_time": "2025-02-27T11:53:06.095Z"
   },
   {
    "duration": 0,
    "start_time": "2025-02-27T11:53:06.097Z"
   },
   {
    "duration": 0,
    "start_time": "2025-02-27T11:53:06.099Z"
   },
   {
    "duration": 414,
    "start_time": "2025-02-27T11:53:18.823Z"
   },
   {
    "duration": 289,
    "start_time": "2025-02-27T11:53:35.426Z"
   },
   {
    "duration": 4,
    "start_time": "2025-02-27T11:53:43.340Z"
   },
   {
    "duration": 4,
    "start_time": "2025-02-27T11:53:47.588Z"
   },
   {
    "duration": 3,
    "start_time": "2025-02-27T11:55:06.284Z"
   },
   {
    "duration": 4,
    "start_time": "2025-02-27T11:55:27.087Z"
   },
   {
    "duration": 16,
    "start_time": "2025-02-27T11:58:09.307Z"
   },
   {
    "duration": 20,
    "start_time": "2025-02-27T11:58:12.550Z"
   },
   {
    "duration": 14,
    "start_time": "2025-02-27T11:58:15.752Z"
   },
   {
    "duration": 10,
    "start_time": "2025-02-27T11:58:18.340Z"
   },
   {
    "duration": 177,
    "start_time": "2025-02-27T11:58:26.336Z"
   },
   {
    "duration": 1259,
    "start_time": "2025-02-27T12:00:07.514Z"
   },
   {
    "duration": 7,
    "start_time": "2025-02-27T12:00:26.150Z"
   },
   {
    "duration": 1356,
    "start_time": "2025-02-27T12:00:46.587Z"
   },
   {
    "duration": 2723,
    "start_time": "2025-02-27T12:00:47.945Z"
   },
   {
    "duration": 8,
    "start_time": "2025-02-27T12:00:50.670Z"
   },
   {
    "duration": 1426,
    "start_time": "2025-02-27T12:00:50.680Z"
   },
   {
    "duration": 0,
    "start_time": "2025-02-27T12:00:52.108Z"
   },
   {
    "duration": 0,
    "start_time": "2025-02-27T12:00:52.110Z"
   },
   {
    "duration": 0,
    "start_time": "2025-02-27T12:00:52.111Z"
   },
   {
    "duration": 0,
    "start_time": "2025-02-27T12:00:52.112Z"
   },
   {
    "duration": 0,
    "start_time": "2025-02-27T12:00:52.113Z"
   },
   {
    "duration": 0,
    "start_time": "2025-02-27T12:00:52.114Z"
   },
   {
    "duration": 0,
    "start_time": "2025-02-27T12:00:52.115Z"
   },
   {
    "duration": 0,
    "start_time": "2025-02-27T12:00:52.116Z"
   },
   {
    "duration": 0,
    "start_time": "2025-02-27T12:00:52.117Z"
   },
   {
    "duration": 0,
    "start_time": "2025-02-27T12:00:52.119Z"
   },
   {
    "duration": 0,
    "start_time": "2025-02-27T12:00:52.120Z"
   },
   {
    "duration": 0,
    "start_time": "2025-02-27T12:00:52.121Z"
   },
   {
    "duration": 0,
    "start_time": "2025-02-27T12:00:52.122Z"
   },
   {
    "duration": 0,
    "start_time": "2025-02-27T12:00:52.123Z"
   },
   {
    "duration": 0,
    "start_time": "2025-02-27T12:00:52.123Z"
   },
   {
    "duration": 0,
    "start_time": "2025-02-27T12:00:52.124Z"
   },
   {
    "duration": 0,
    "start_time": "2025-02-27T12:00:52.126Z"
   },
   {
    "duration": 4,
    "start_time": "2025-02-27T12:01:16.699Z"
   },
   {
    "duration": 2582,
    "start_time": "2025-02-27T12:01:19.746Z"
   },
   {
    "duration": 8,
    "start_time": "2025-02-27T12:01:26.309Z"
   },
   {
    "duration": 1468,
    "start_time": "2025-02-27T12:02:32.288Z"
   },
   {
    "duration": 11,
    "start_time": "2025-02-27T12:02:54.226Z"
   },
   {
    "duration": 10,
    "start_time": "2025-02-27T12:06:09.123Z"
   },
   {
    "duration": 1451,
    "start_time": "2025-02-27T12:06:15.231Z"
   },
   {
    "duration": 5,
    "start_time": "2025-02-27T12:08:37.804Z"
   },
   {
    "duration": 4,
    "start_time": "2025-02-27T12:09:08.755Z"
   },
   {
    "duration": 6,
    "start_time": "2025-02-27T12:11:22.489Z"
   },
   {
    "duration": 1285,
    "start_time": "2025-02-27T12:14:03.722Z"
   },
   {
    "duration": 6,
    "start_time": "2025-02-27T12:14:24.930Z"
   },
   {
    "duration": 4,
    "start_time": "2025-02-27T12:14:28.037Z"
   },
   {
    "duration": 5,
    "start_time": "2025-02-27T12:14:50.672Z"
   },
   {
    "duration": 4,
    "start_time": "2025-02-27T12:14:52.555Z"
   },
   {
    "duration": 1189,
    "start_time": "2025-02-27T12:15:11.769Z"
   },
   {
    "duration": 1262,
    "start_time": "2025-02-27T12:15:33.224Z"
   },
   {
    "duration": 2572,
    "start_time": "2025-02-27T12:15:34.487Z"
   },
   {
    "duration": 6,
    "start_time": "2025-02-27T12:15:37.061Z"
   },
   {
    "duration": 48,
    "start_time": "2025-02-27T12:15:37.069Z"
   },
   {
    "duration": 48,
    "start_time": "2025-02-27T12:15:37.119Z"
   },
   {
    "duration": 1639,
    "start_time": "2025-02-27T12:15:37.169Z"
   },
   {
    "duration": 0,
    "start_time": "2025-02-27T12:15:38.810Z"
   },
   {
    "duration": 0,
    "start_time": "2025-02-27T12:15:38.811Z"
   },
   {
    "duration": 0,
    "start_time": "2025-02-27T12:15:38.812Z"
   },
   {
    "duration": 0,
    "start_time": "2025-02-27T12:15:38.814Z"
   },
   {
    "duration": 0,
    "start_time": "2025-02-27T12:15:38.815Z"
   },
   {
    "duration": 0,
    "start_time": "2025-02-27T12:15:38.816Z"
   },
   {
    "duration": 0,
    "start_time": "2025-02-27T12:15:38.817Z"
   },
   {
    "duration": 0,
    "start_time": "2025-02-27T12:15:38.818Z"
   },
   {
    "duration": 0,
    "start_time": "2025-02-27T12:15:38.820Z"
   },
   {
    "duration": 0,
    "start_time": "2025-02-27T12:15:38.821Z"
   },
   {
    "duration": 0,
    "start_time": "2025-02-27T12:15:38.822Z"
   },
   {
    "duration": 0,
    "start_time": "2025-02-27T12:15:38.823Z"
   },
   {
    "duration": 0,
    "start_time": "2025-02-27T12:15:38.825Z"
   },
   {
    "duration": 3,
    "start_time": "2025-02-27T12:16:19.601Z"
   },
   {
    "duration": 2541,
    "start_time": "2025-02-27T12:16:24.909Z"
   },
   {
    "duration": 6,
    "start_time": "2025-02-27T12:16:33.092Z"
   },
   {
    "duration": 5,
    "start_time": "2025-02-27T12:16:40.743Z"
   },
   {
    "duration": 5,
    "start_time": "2025-02-27T12:16:48.789Z"
   },
   {
    "duration": 5,
    "start_time": "2025-02-27T12:16:55.176Z"
   },
   {
    "duration": 4,
    "start_time": "2025-02-27T12:16:57.981Z"
   },
   {
    "duration": 5,
    "start_time": "2025-02-27T12:17:07.002Z"
   },
   {
    "duration": 1292,
    "start_time": "2025-02-27T12:19:12.737Z"
   },
   {
    "duration": 26,
    "start_time": "2025-02-27T12:19:40.008Z"
   },
   {
    "duration": 1302,
    "start_time": "2025-02-27T12:19:53.885Z"
   },
   {
    "duration": 2625,
    "start_time": "2025-02-27T12:19:55.189Z"
   },
   {
    "duration": 6,
    "start_time": "2025-02-27T12:19:57.816Z"
   },
   {
    "duration": 19,
    "start_time": "2025-02-27T12:19:57.824Z"
   },
   {
    "duration": 38,
    "start_time": "2025-02-27T12:19:57.845Z"
   },
   {
    "duration": 27,
    "start_time": "2025-02-27T12:19:57.885Z"
   },
   {
    "duration": 26,
    "start_time": "2025-02-27T12:19:57.913Z"
   },
   {
    "duration": 10,
    "start_time": "2025-02-27T12:19:57.941Z"
   },
   {
    "duration": 32,
    "start_time": "2025-02-27T12:19:57.953Z"
   },
   {
    "duration": 41,
    "start_time": "2025-02-27T12:19:57.987Z"
   },
   {
    "duration": 13,
    "start_time": "2025-02-27T12:19:58.029Z"
   },
   {
    "duration": 30,
    "start_time": "2025-02-27T12:19:58.044Z"
   },
   {
    "duration": 213,
    "start_time": "2025-02-27T12:19:58.076Z"
   },
   {
    "duration": 150,
    "start_time": "2025-02-27T12:19:58.291Z"
   },
   {
    "duration": 169,
    "start_time": "2025-02-27T12:19:58.443Z"
   },
   {
    "duration": 239,
    "start_time": "2025-02-27T12:19:58.614Z"
   },
   {
    "duration": 4,
    "start_time": "2025-02-27T12:23:51.030Z"
   },
   {
    "duration": 2611,
    "start_time": "2025-02-27T12:23:55.802Z"
   },
   {
    "duration": 7,
    "start_time": "2025-02-27T12:24:08.584Z"
   },
   {
    "duration": 5,
    "start_time": "2025-02-27T12:24:14.222Z"
   },
   {
    "duration": 4,
    "start_time": "2025-02-27T12:24:18.515Z"
   },
   {
    "duration": 26,
    "start_time": "2025-02-27T12:24:51.655Z"
   },
   {
    "duration": 24,
    "start_time": "2025-02-27T12:25:08.171Z"
   },
   {
    "duration": 25,
    "start_time": "2025-02-27T12:25:16.012Z"
   },
   {
    "duration": 11,
    "start_time": "2025-02-27T12:25:19.506Z"
   },
   {
    "duration": 14,
    "start_time": "2025-02-27T12:25:22.390Z"
   },
   {
    "duration": 10,
    "start_time": "2025-02-27T12:25:24.820Z"
   },
   {
    "duration": 174,
    "start_time": "2025-02-27T12:25:27.990Z"
   },
   {
    "duration": 140,
    "start_time": "2025-02-27T12:25:36.476Z"
   },
   {
    "duration": 145,
    "start_time": "2025-02-27T12:25:40.925Z"
   },
   {
    "duration": 216,
    "start_time": "2025-02-27T12:25:46.965Z"
   },
   {
    "duration": 28872,
    "start_time": "2025-02-27T12:25:59.738Z"
   },
   {
    "duration": 205,
    "start_time": "2025-02-27T12:27:37.824Z"
   },
   {
    "duration": 329,
    "start_time": "2025-02-27T12:27:48.797Z"
   },
   {
    "duration": 265,
    "start_time": "2025-02-27T12:28:08.404Z"
   },
   {
    "duration": 26,
    "start_time": "2025-02-27T12:31:25.356Z"
   },
   {
    "duration": 71,
    "start_time": "2025-02-27T12:31:29.483Z"
   },
   {
    "duration": 242,
    "start_time": "2025-02-27T12:31:50.769Z"
   },
   {
    "duration": 237,
    "start_time": "2025-02-27T12:32:04.583Z"
   },
   {
    "duration": 269,
    "start_time": "2025-02-27T12:32:07.015Z"
   },
   {
    "duration": 23,
    "start_time": "2025-02-27T12:32:23.606Z"
   },
   {
    "duration": 66,
    "start_time": "2025-02-27T12:32:40.099Z"
   },
   {
    "duration": 88,
    "start_time": "2025-02-27T12:32:45.263Z"
   },
   {
    "duration": 1258,
    "start_time": "2025-02-27T12:40:17.446Z"
   },
   {
    "duration": 2514,
    "start_time": "2025-02-27T12:40:18.707Z"
   },
   {
    "duration": 7,
    "start_time": "2025-02-27T12:40:21.223Z"
   },
   {
    "duration": 12,
    "start_time": "2025-02-27T12:40:21.232Z"
   },
   {
    "duration": 16,
    "start_time": "2025-02-27T12:40:21.246Z"
   },
   {
    "duration": 19,
    "start_time": "2025-02-27T12:40:21.264Z"
   },
   {
    "duration": 72,
    "start_time": "2025-02-27T12:40:21.285Z"
   },
   {
    "duration": 11,
    "start_time": "2025-02-27T12:40:21.358Z"
   },
   {
    "duration": 30,
    "start_time": "2025-02-27T12:40:21.370Z"
   },
   {
    "duration": 35,
    "start_time": "2025-02-27T12:40:21.402Z"
   },
   {
    "duration": 26,
    "start_time": "2025-02-27T12:40:21.438Z"
   },
   {
    "duration": 36,
    "start_time": "2025-02-27T12:40:21.466Z"
   },
   {
    "duration": 247,
    "start_time": "2025-02-27T12:40:21.504Z"
   },
   {
    "duration": 155,
    "start_time": "2025-02-27T12:40:21.752Z"
   },
   {
    "duration": 156,
    "start_time": "2025-02-27T12:40:21.909Z"
   },
   {
    "duration": 252,
    "start_time": "2025-02-27T12:40:22.066Z"
   },
   {
    "duration": 28170,
    "start_time": "2025-02-27T12:40:22.320Z"
   },
   {
    "duration": 229,
    "start_time": "2025-02-27T12:40:50.492Z"
   },
   {
    "duration": 33,
    "start_time": "2025-02-27T12:40:50.723Z"
   },
   {
    "duration": 93,
    "start_time": "2025-02-27T12:40:50.757Z"
   },
   {
    "duration": 304,
    "start_time": "2025-02-27T12:40:50.852Z"
   },
   {
    "duration": 325,
    "start_time": "2025-02-27T12:40:51.158Z"
   },
   {
    "duration": 40,
    "start_time": "2025-02-27T12:40:51.485Z"
   },
   {
    "duration": 90,
    "start_time": "2025-02-27T12:40:51.526Z"
   },
   {
    "duration": 189,
    "start_time": "2025-02-27T12:40:51.617Z"
   },
   {
    "duration": 4,
    "start_time": "2025-02-27T12:40:51.809Z"
   },
   {
    "duration": 6,
    "start_time": "2025-02-27T12:41:10.305Z"
   },
   {
    "duration": 2631,
    "start_time": "2025-02-27T12:41:14.362Z"
   },
   {
    "duration": 7,
    "start_time": "2025-02-27T12:41:22.086Z"
   },
   {
    "duration": 5,
    "start_time": "2025-02-27T12:41:30.521Z"
   },
   {
    "duration": 7,
    "start_time": "2025-02-27T12:41:33.599Z"
   },
   {
    "duration": 25,
    "start_time": "2025-02-27T12:41:43.540Z"
   },
   {
    "duration": 11,
    "start_time": "2025-02-27T12:41:52.972Z"
   },
   {
    "duration": 17,
    "start_time": "2025-02-27T12:41:56.116Z"
   },
   {
    "duration": 13,
    "start_time": "2025-02-27T12:41:58.702Z"
   },
   {
    "duration": 9,
    "start_time": "2025-02-27T12:42:02.188Z"
   },
   {
    "duration": 183,
    "start_time": "2025-02-27T12:42:31.366Z"
   },
   {
    "duration": 142,
    "start_time": "2025-02-27T12:42:36.222Z"
   },
   {
    "duration": 153,
    "start_time": "2025-02-27T12:42:40.939Z"
   },
   {
    "duration": 231,
    "start_time": "2025-02-27T12:42:49.103Z"
   },
   {
    "duration": 29345,
    "start_time": "2025-02-27T12:43:20.793Z"
   },
   {
    "duration": 288,
    "start_time": "2025-02-27T12:43:57.652Z"
   },
   {
    "duration": 24,
    "start_time": "2025-02-27T12:44:05.654Z"
   },
   {
    "duration": 70,
    "start_time": "2025-02-27T12:44:08.870Z"
   },
   {
    "duration": 270,
    "start_time": "2025-02-27T12:44:20.583Z"
   },
   {
    "duration": 298,
    "start_time": "2025-02-27T12:44:22.868Z"
   },
   {
    "duration": 25,
    "start_time": "2025-02-27T12:44:27.102Z"
   },
   {
    "duration": 63,
    "start_time": "2025-02-27T12:44:31.343Z"
   },
   {
    "duration": 82,
    "start_time": "2025-02-27T12:44:33.091Z"
   },
   {
    "duration": 26,
    "start_time": "2025-02-27T12:46:22.148Z"
   },
   {
    "duration": 81,
    "start_time": "2025-02-27T12:46:25.114Z"
   },
   {
    "duration": 269,
    "start_time": "2025-02-27T12:46:31.496Z"
   },
   {
    "duration": 285,
    "start_time": "2025-02-27T12:46:34.105Z"
   },
   {
    "duration": 24,
    "start_time": "2025-02-27T12:46:39.575Z"
   },
   {
    "duration": 69,
    "start_time": "2025-02-27T12:46:43.429Z"
   },
   {
    "duration": 82,
    "start_time": "2025-02-27T12:46:47.856Z"
   }
  ],
  "colab": {
   "provenance": []
  },
  "kernelspec": {
   "display_name": "Python 3 (ipykernel)",
   "language": "python",
   "name": "python3"
  },
  "language_info": {
   "codemirror_mode": {
    "name": "ipython",
    "version": 3
   },
   "file_extension": ".py",
   "mimetype": "text/x-python",
   "name": "python",
   "nbconvert_exporter": "python",
   "pygments_lexer": "ipython3",
   "version": "3.9.5"
  },
  "toc": {
   "base_numbering": 1,
   "nav_menu": {},
   "number_sections": true,
   "sideBar": true,
   "skip_h1_title": true,
   "title_cell": "Table of Contents",
   "title_sidebar": "Contents",
   "toc_cell": false,
   "toc_position": {},
   "toc_section_display": true,
   "toc_window_display": false
  }
 },
 "nbformat": 4,
 "nbformat_minor": 1
}
