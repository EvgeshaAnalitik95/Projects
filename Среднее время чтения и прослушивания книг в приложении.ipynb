{
 "cells": [
  {
   "cell_type": "markdown",
   "id": "8b3986d6",
   "metadata": {},
   "source": [
    "<div style=\"border:solid Chocolate 2px; padding: 40px\">\n",
    "\n",
    "Привет, меня зовут Александр Куимов. Я буду ревьюером твоего проекта. Ты можешь обращаться ко мне на \"ты\"😏 Надеюсь, тебя также не смутит, если я буду обращаться к тебе на \"ты\", но если это неудобно, обязательно скажи об этом!\n",
    "\n",
    "**Пожалуйста, не перемещай, не изменяй и не удаляй  мои комментарии**, они будут особенно полезны для нашей работы в случае повторной проверки проекта. \n",
    "\n",
    "Прошу реагировать на все мои комментарии, по которым ты вносишь правки в проект, своими комментариями по шаблону, показанному чуть ниже. На каждое мое замечание нужно отвечать комментарием студента в маркдаун ячейке **ниже моей. Это нужно, чтобы не создавалась путаница**.😉\n",
    "\n",
    "Ты можешь найти мои комментарии, обозначенные <font color='green'>зеленым</font>, <font color='gold'>желтым</font> и <font color='red'>красным</font> цветами, например:\n",
    "\n",
    "<br/>\n",
    "\n",
    "<div class=\"alert alert-success\">\n",
    "<h2> Комментарий ревьюера <a class=\"tocSkip\"> </h2>\n",
    "\n",
    "<b>Все отлично!👍:</b> В случае, если решение на отдельном шаге является полностью правильным.\n",
    "</div>\n",
    "\n",
    "<br/>\n",
    " \n",
    "<div class=\"alert alert-warning\">\n",
    "    <h2> Комментарий ревьюера <a class=\"tocSkip\"> </h2>\n",
    "    \n",
    "<b>Некоторые замечания и рекомендации💡:</b> В случае, когда решение на отдельном шаге станет еще лучше, если внести небольшие коррективы.\n",
    "</div>\n",
    "\n",
    "\n",
    "<br/>\n",
    "<div class=\"alert alert-block alert-danger\">\n",
    "<h2> Комментарий ревьюера <a class=\"tocSkip\"></h2>\n",
    "\n",
    "    \n",
    "<b>На доработку🤔:</b>\n",
    " В случае, когда решение на отдельном шаге требует существенной переработки и внесения правок. Напоминаю, что проект не может быть принят с первого раза, если ревью содержит комментарии, рекомендующие доработать шаги.\n",
    "</div>\n",
    "    \n",
    "    \n",
    "<br/>    \n",
    "<div class=\"alert alert-info\">\n",
    "<h2> Комментарий студента: <a class=\"tocSkip\"> </h2>\n",
    "\n",
    "<b>👋:</b> В такой цветовой ячейке - образце я прошу тебя оставлять твои комментарии. **Обязательно добавь заголовок \"Комментарий студента\" к каждой твоей ячейке**. Если исправляешь проект во второй раз и далее, не забывай пожалуйста указывать номер итерации, например, \"Комментарий студента v.2\". У меня к этому моменту уже появится нумерация в моих комментариях.\n",
    "</div> \n",
    "\n",
    "<br/>    \n",
    "    \n",
    "Увидев у тебя неточность, в первый раз я лишь укажу на ее наличие и дам тебе возможность самому найти и исправить ее. На реальной работе твой руководитель будет поступать также, и я пытаюсь подготовить тебя именно к работе аналитиком. Но если ты пока не справишься с такой задачей - при следующей проверке я дам более точную подсказку!🤓\n",
    "    \n",
    " "
   ]
  },
  {
   "cell_type": "markdown",
   "id": "_E41Wr5fqnFT",
   "metadata": {
    "id": "_E41Wr5fqnFT"
   },
   "source": [
    "# Часть 1. Проверка гипотезы в Python и составление аналитической записки"
   ]
  },
  {
   "cell_type": "markdown",
   "id": "Z5_6nf-FrY7o",
   "metadata": {
    "id": "Z5_6nf-FrY7o"
   },
   "source": [
    "Вы предобработали данные в SQL, и теперь они готовы для проверки гипотезы в Python. Загрузите данные пользователей из Москвы и Санкт-Петербурга c суммой часов их активности из файла yandex_knigi_data.csv. Если работаете локально, скачать файл можно по ссылке.\n",
    "\n",
    "Проверьте наличие дубликатов в идентификаторах пользователей. Сравните размеры групп, их статистики и распределение.\n",
    "\n",
    "Напомним, как выглядит гипотеза: пользователи из Москвы проводят в среднем больше времени за чтением и прослушиванием книг в приложении, чем пользователи из Москвы. Попробуйте статистически это доказать, используя одностороннюю проверку гипотезы с двумя выборками:\n",
    "\n",
    "Нулевая гипотеза $H_0: \\mu_{\\text{СПб}} \\leq \\mu_{\\text{Москва}}$ <br> Среднее время активности пользователей в Санкт-Петербурге не больше, чем в Москве.\n",
    "\n",
    "Альтернативная гипотеза $H_1: \\mu_{\\text{СПб}} > \\mu_{\\text{Москва}}$ <br> Среднее время активности пользователей в Санкт-Петербурге больше, и это различие статистически значимо.\n",
    "\n",
    "По результатам анализа данных подготовьте аналитическую записку, в которой опишите:\n",
    "\n",
    "Выбранный тип t-теста и уровень статистической значимости.\n",
    "\n",
    "Результат теста, или p-value.\n",
    "\n",
    "Вывод на основе полученного p-value, то есть интерпретацию результатов.\n",
    "\n",
    "Одну или две возможные причины, объясняющие полученные результаты."
   ]
  },
  {
   "cell_type": "markdown",
   "id": "e06910dd",
   "metadata": {
    "id": "e06910dd"
   },
   "source": [
    "## Напишите заголовок первой части проекта здесь\n",
    "\n",
    "- Автор: Федоровская Е.С.\n",
    "- Дата: 11.05.2025"
   ]
  },
  {
   "cell_type": "markdown",
   "id": "4149134c",
   "metadata": {
    "id": "4149134c"
   },
   "source": [
    "## Цели и задачи проекта\n",
    "\n",
    "    \n",
    "Основная цель: проверить, тратят ли пользователи из Санкт-Петербурга больше времени на чтение и прослушивание книг в приложении чем пользователи из Москвы.\n",
    "\n",
    "Для достижения цели нужно решить следующие задачи:\n",
    "\n",
    " - Выбрать тип t-теста и уровень статистической значимости;\n",
    "    \n",
    " - Узнать результат и сделать выводы;\n",
    "    \n",
    " - Интерпретировать результаты;\n",
    "    \n",
    " - Вывести возможные причины результатов.\n",
    "    "
   ]
  },
  {
   "cell_type": "markdown",
   "id": "728986ea",
   "metadata": {
    "id": "728986ea"
   },
   "source": [
    "## Описание данных\n",
    "\n",
    "В данных присутствует 3 столбца - город (Москва или Санкт-Петербург), идентификационный номер пользователя и количество часов прослушивания."
   ]
  },
  {
   "cell_type": "markdown",
   "id": "4fecaf95",
   "metadata": {
    "id": "4fecaf95"
   },
   "source": [
    "## Содержимое проекта\n",
    "\n",
    "1) Загрузить и изучить данные;\n",
    "\n",
    "2) Убрать дубликаты при необходимости;\n",
    "\n",
    "3) Собрать 2 группы данных для Москвы и Санкт-Петербурга и проверить их на ассиметричность и степень распределения;\n",
    "\n",
    "4) Выбрать t-тест и провести его;\n",
    "\n",
    "5) Вывести и интепретировать результаты."
   ]
  },
  {
   "cell_type": "markdown",
   "id": "ff73ec36",
   "metadata": {},
   "source": [
    " <div class=\"alert alert-success\">\n",
    "<h2> Комментарий ревьюера <a class=\"tocSkip\"> </h2>\n",
    " \n",
    "<b>Все отлично!👍:</b> \n",
    "    \n",
    "Вижу отличное введение в проект! Есть цель и задачи работы, описание исходных  данных)\n",
    "    \n",
    "Такой детальный подход важен, чтобы твой будущий работодатель знал все ключевые моменты проекта и мог объективно оценить принимаемые тобой решения"
   ]
  },
  {
   "cell_type": "markdown",
   "id": "6f7d21d6",
   "metadata": {
    "id": "6f7d21d6"
   },
   "source": [
    "## 1. Загрузка данных и знакомство с ними\n",
    "\n",
    "Загрузите данные пользователей из Москвы и Санкт-Петербурга c их активностью (суммой часов чтения и прослушивания) из файла `/datasets/yandex_knigi_data.csv`."
   ]
  },
  {
   "cell_type": "code",
   "execution_count": 1,
   "id": "05faf34b",
   "metadata": {
    "id": "05faf34b"
   },
   "outputs": [],
   "source": [
    "# Импортируем библиотеки\n",
    "import pandas as pd\n",
    "\n",
    "import matplotlib.pyplot as plt\n",
    "\n",
    "from scipy import stats as st\n",
    "\n",
    "import numpy as np\n",
    "\n",
    "from statsmodels.stats.proportion import proportions_ztest"
   ]
  },
  {
   "cell_type": "code",
   "execution_count": 2,
   "id": "ce87c1db",
   "metadata": {
    "id": "ce87c1db"
   },
   "outputs": [
    {
     "data": {
      "text/html": [
       "<div>\n",
       "<style scoped>\n",
       "    .dataframe tbody tr th:only-of-type {\n",
       "        vertical-align: middle;\n",
       "    }\n",
       "\n",
       "    .dataframe tbody tr th {\n",
       "        vertical-align: top;\n",
       "    }\n",
       "\n",
       "    .dataframe thead th {\n",
       "        text-align: right;\n",
       "    }\n",
       "</style>\n",
       "<table border=\"1\" class=\"dataframe\">\n",
       "  <thead>\n",
       "    <tr style=\"text-align: right;\">\n",
       "      <th></th>\n",
       "      <th>Unnamed: 0</th>\n",
       "      <th>city</th>\n",
       "      <th>puid</th>\n",
       "      <th>hours</th>\n",
       "    </tr>\n",
       "  </thead>\n",
       "  <tbody>\n",
       "    <tr>\n",
       "      <th>0</th>\n",
       "      <td>0</td>\n",
       "      <td>Москва</td>\n",
       "      <td>9668</td>\n",
       "      <td>26.167776</td>\n",
       "    </tr>\n",
       "    <tr>\n",
       "      <th>1</th>\n",
       "      <td>1</td>\n",
       "      <td>Москва</td>\n",
       "      <td>16598</td>\n",
       "      <td>82.111217</td>\n",
       "    </tr>\n",
       "    <tr>\n",
       "      <th>2</th>\n",
       "      <td>2</td>\n",
       "      <td>Москва</td>\n",
       "      <td>80401</td>\n",
       "      <td>4.656906</td>\n",
       "    </tr>\n",
       "    <tr>\n",
       "      <th>3</th>\n",
       "      <td>3</td>\n",
       "      <td>Москва</td>\n",
       "      <td>140205</td>\n",
       "      <td>1.840556</td>\n",
       "    </tr>\n",
       "    <tr>\n",
       "      <th>4</th>\n",
       "      <td>4</td>\n",
       "      <td>Москва</td>\n",
       "      <td>248755</td>\n",
       "      <td>151.326434</td>\n",
       "    </tr>\n",
       "  </tbody>\n",
       "</table>\n",
       "</div>"
      ],
      "text/plain": [
       "   Unnamed: 0    city    puid       hours\n",
       "0           0  Москва    9668   26.167776\n",
       "1           1  Москва   16598   82.111217\n",
       "2           2  Москва   80401    4.656906\n",
       "3           3  Москва  140205    1.840556\n",
       "4           4  Москва  248755  151.326434"
      ]
     },
     "metadata": {},
     "output_type": "display_data"
    },
    {
     "name": "stdout",
     "output_type": "stream",
     "text": [
      "<class 'pandas.core.frame.DataFrame'>\n",
      "RangeIndex: 8784 entries, 0 to 8783\n",
      "Data columns (total 4 columns):\n",
      " #   Column      Non-Null Count  Dtype  \n",
      "---  ------      --------------  -----  \n",
      " 0   Unnamed: 0  8784 non-null   int64  \n",
      " 1   city        8784 non-null   object \n",
      " 2   puid        8784 non-null   int64  \n",
      " 3   hours       8784 non-null   float64\n",
      "dtypes: float64(1), int64(2), object(1)\n",
      "memory usage: 274.6+ KB\n"
     ]
    },
    {
     "data": {
      "text/plain": [
       "None"
      ]
     },
     "metadata": {},
     "output_type": "display_data"
    }
   ],
   "source": [
    "# Загрузим данные, выведем первые 5 столбцов, изучим информацию о датафрейме\n",
    "knigi_df = pd.read_csv('https://code.s3.yandex.net/datasets/yandex_knigi_data.csv')\n",
    "display(knigi_df.head())\n",
    "display(knigi_df.info())"
   ]
  },
  {
   "cell_type": "code",
   "execution_count": 3,
   "id": "c9ed7b08",
   "metadata": {},
   "outputs": [
    {
     "data": {
      "text/plain": [
       "8540"
      ]
     },
     "execution_count": 3,
     "metadata": {},
     "output_type": "execute_result"
    }
   ],
   "source": [
    "#Узнаем количество уникальных значений puid, чтобы понять, есть ли дубликаты:\n",
    "knigi_df['puid'].nunique()"
   ]
  },
  {
   "cell_type": "markdown",
   "id": "0381962a",
   "metadata": {},
   "source": [
    "Всего в датафрейме 8784 столбца, а уникальных значений puid 8540. Значит в датафрейме есть дубликаты."
   ]
  },
  {
   "cell_type": "code",
   "execution_count": 4,
   "id": "c5e71db8",
   "metadata": {},
   "outputs": [
    {
     "data": {
      "text/plain": [
       "244"
      ]
     },
     "metadata": {},
     "output_type": "display_data"
    }
   ],
   "source": [
    "# Проверим данные на наличие дубликатов в столбце puid \n",
    "duplicates = knigi_df.duplicated(subset='puid')\n",
    "display(duplicates.sum())"
   ]
  },
  {
   "cell_type": "code",
   "execution_count": 5,
   "id": "75770d0a",
   "metadata": {},
   "outputs": [
    {
     "name": "stdout",
     "output_type": "stream",
     "text": [
      "<class 'pandas.core.frame.DataFrame'>\n",
      "Int64Index: 8540 entries, 0 to 8783\n",
      "Data columns (total 4 columns):\n",
      " #   Column      Non-Null Count  Dtype  \n",
      "---  ------      --------------  -----  \n",
      " 0   Unnamed: 0  8540 non-null   int64  \n",
      " 1   city        8540 non-null   object \n",
      " 2   puid        8540 non-null   int64  \n",
      " 3   hours       8540 non-null   float64\n",
      "dtypes: float64(1), int64(2), object(1)\n",
      "memory usage: 333.6+ KB\n"
     ]
    },
    {
     "data": {
      "text/plain": [
       "None"
      ]
     },
     "metadata": {},
     "output_type": "display_data"
    }
   ],
   "source": [
    "# Уберем дубликаты\n",
    "knigi_df = knigi_df.drop_duplicates(subset='puid')\n",
    "display(knigi_df.info())"
   ]
  },
  {
   "cell_type": "markdown",
   "id": "9596d768",
   "metadata": {},
   "source": [
    "Дубликаты удалены, можно двигаться дальше."
   ]
  },
  {
   "cell_type": "markdown",
   "id": "c0923c98",
   "metadata": {},
   "source": [
    "<div class=\"alert alert-success\">\n",
    "<h2> Комментарий ревьюера <a class=\"tocSkip\"> </h2>\n",
    "\n",
    "<b>Все отлично!👍:  </b> \n",
    "    \n",
    "Довольно полезная проверка на дубликаты. Для `ttest` в дальнейшем понадобятся независимые выборки и теперь они стали такими"
   ]
  },
  {
   "cell_type": "markdown",
   "id": "956e82e2",
   "metadata": {
    "id": "956e82e2"
   },
   "source": [
    "## 2. Проверка гипотезы в Python\n",
    "\n",
    "Гипотеза звучит так: пользователи из Санкт-Петербурга проводят в среднем больше времени за чтением и прослушиванием книг в приложении, чем пользователи из Москвы. Попробуйте статистически это доказать, используя одностороннюю проверку гипотезы с двумя выборками:\n",
    "\n",
    "- Нулевая гипотеза H₀: Средняя активность пользователей в часах в двух группах (Москва и Санкт-Петербург) не различается.\n",
    "\n",
    "- Альтернативная гипотеза H₁: Средняя активность пользователей в Санкт-Петербурге больше, и это различие статистически значимо."
   ]
  },
  {
   "cell_type": "code",
   "execution_count": 6,
   "id": "67956690",
   "metadata": {
    "id": "67956690"
   },
   "outputs": [
    {
     "data": {
      "text/html": [
       "<div>\n",
       "<style scoped>\n",
       "    .dataframe tbody tr th:only-of-type {\n",
       "        vertical-align: middle;\n",
       "    }\n",
       "\n",
       "    .dataframe tbody tr th {\n",
       "        vertical-align: top;\n",
       "    }\n",
       "\n",
       "    .dataframe thead th {\n",
       "        text-align: right;\n",
       "    }\n",
       "</style>\n",
       "<table border=\"1\" class=\"dataframe\">\n",
       "  <thead>\n",
       "    <tr style=\"text-align: right;\">\n",
       "      <th></th>\n",
       "      <th>Unnamed: 0</th>\n",
       "      <th>city</th>\n",
       "      <th>puid</th>\n",
       "      <th>hours</th>\n",
       "    </tr>\n",
       "  </thead>\n",
       "  <tbody>\n",
       "    <tr>\n",
       "      <th>0</th>\n",
       "      <td>0</td>\n",
       "      <td>Москва</td>\n",
       "      <td>9668</td>\n",
       "      <td>26.167776</td>\n",
       "    </tr>\n",
       "    <tr>\n",
       "      <th>1</th>\n",
       "      <td>1</td>\n",
       "      <td>Москва</td>\n",
       "      <td>16598</td>\n",
       "      <td>82.111217</td>\n",
       "    </tr>\n",
       "    <tr>\n",
       "      <th>2</th>\n",
       "      <td>2</td>\n",
       "      <td>Москва</td>\n",
       "      <td>80401</td>\n",
       "      <td>4.656906</td>\n",
       "    </tr>\n",
       "    <tr>\n",
       "      <th>3</th>\n",
       "      <td>3</td>\n",
       "      <td>Москва</td>\n",
       "      <td>140205</td>\n",
       "      <td>1.840556</td>\n",
       "    </tr>\n",
       "    <tr>\n",
       "      <th>4</th>\n",
       "      <td>4</td>\n",
       "      <td>Москва</td>\n",
       "      <td>248755</td>\n",
       "      <td>151.326434</td>\n",
       "    </tr>\n",
       "  </tbody>\n",
       "</table>\n",
       "</div>"
      ],
      "text/plain": [
       "   Unnamed: 0    city    puid       hours\n",
       "0           0  Москва    9668   26.167776\n",
       "1           1  Москва   16598   82.111217\n",
       "2           2  Москва   80401    4.656906\n",
       "3           3  Москва  140205    1.840556\n",
       "4           4  Москва  248755  151.326434"
      ]
     },
     "metadata": {},
     "output_type": "display_data"
    },
    {
     "name": "stdout",
     "output_type": "stream",
     "text": [
      "<class 'pandas.core.frame.DataFrame'>\n",
      "Int64Index: 6234 entries, 0 to 6233\n",
      "Data columns (total 4 columns):\n",
      " #   Column      Non-Null Count  Dtype  \n",
      "---  ------      --------------  -----  \n",
      " 0   Unnamed: 0  6234 non-null   int64  \n",
      " 1   city        6234 non-null   object \n",
      " 2   puid        6234 non-null   int64  \n",
      " 3   hours       6234 non-null   float64\n",
      "dtypes: float64(1), int64(2), object(1)\n",
      "memory usage: 243.5+ KB\n"
     ]
    },
    {
     "data": {
      "text/plain": [
       "None"
      ]
     },
     "metadata": {},
     "output_type": "display_data"
    },
    {
     "data": {
      "text/html": [
       "<div>\n",
       "<style scoped>\n",
       "    .dataframe tbody tr th:only-of-type {\n",
       "        vertical-align: middle;\n",
       "    }\n",
       "\n",
       "    .dataframe tbody tr th {\n",
       "        vertical-align: top;\n",
       "    }\n",
       "\n",
       "    .dataframe thead th {\n",
       "        text-align: right;\n",
       "    }\n",
       "</style>\n",
       "<table border=\"1\" class=\"dataframe\">\n",
       "  <thead>\n",
       "    <tr style=\"text-align: right;\">\n",
       "      <th></th>\n",
       "      <th>Unnamed: 0</th>\n",
       "      <th>city</th>\n",
       "      <th>puid</th>\n",
       "      <th>hours</th>\n",
       "    </tr>\n",
       "  </thead>\n",
       "  <tbody>\n",
       "    <tr>\n",
       "      <th>6234</th>\n",
       "      <td>6234</td>\n",
       "      <td>Санкт-Петербург</td>\n",
       "      <td>104923</td>\n",
       "      <td>60.353889</td>\n",
       "    </tr>\n",
       "    <tr>\n",
       "      <th>6235</th>\n",
       "      <td>6235</td>\n",
       "      <td>Санкт-Петербург</td>\n",
       "      <td>146427</td>\n",
       "      <td>0.469559</td>\n",
       "    </tr>\n",
       "    <tr>\n",
       "      <th>6236</th>\n",
       "      <td>6236</td>\n",
       "      <td>Санкт-Петербург</td>\n",
       "      <td>295646</td>\n",
       "      <td>1.258954</td>\n",
       "    </tr>\n",
       "    <tr>\n",
       "      <th>6237</th>\n",
       "      <td>6237</td>\n",
       "      <td>Санкт-Петербург</td>\n",
       "      <td>601665</td>\n",
       "      <td>0.089076</td>\n",
       "    </tr>\n",
       "    <tr>\n",
       "      <th>6238</th>\n",
       "      <td>6238</td>\n",
       "      <td>Санкт-Петербург</td>\n",
       "      <td>639360</td>\n",
       "      <td>0.334019</td>\n",
       "    </tr>\n",
       "  </tbody>\n",
       "</table>\n",
       "</div>"
      ],
      "text/plain": [
       "      Unnamed: 0             city    puid      hours\n",
       "6234        6234  Санкт-Петербург  104923  60.353889\n",
       "6235        6235  Санкт-Петербург  146427   0.469559\n",
       "6236        6236  Санкт-Петербург  295646   1.258954\n",
       "6237        6237  Санкт-Петербург  601665   0.089076\n",
       "6238        6238  Санкт-Петербург  639360   0.334019"
      ]
     },
     "metadata": {},
     "output_type": "display_data"
    },
    {
     "name": "stdout",
     "output_type": "stream",
     "text": [
      "<class 'pandas.core.frame.DataFrame'>\n",
      "Int64Index: 2306 entries, 6234 to 8783\n",
      "Data columns (total 4 columns):\n",
      " #   Column      Non-Null Count  Dtype  \n",
      "---  ------      --------------  -----  \n",
      " 0   Unnamed: 0  2306 non-null   int64  \n",
      " 1   city        2306 non-null   object \n",
      " 2   puid        2306 non-null   int64  \n",
      " 3   hours       2306 non-null   float64\n",
      "dtypes: float64(1), int64(2), object(1)\n",
      "memory usage: 90.1+ KB\n"
     ]
    },
    {
     "data": {
      "text/plain": [
       "None"
      ]
     },
     "metadata": {},
     "output_type": "display_data"
    }
   ],
   "source": [
    "# Проведем фильтрацию по городам\n",
    "moscow = knigi_df[knigi_df['city'] == 'Москва']\n",
    "spb = knigi_df[knigi_df['city'] == 'Санкт-Петербург']\n",
    "\n",
    "# Выведем информацию о датафрейме с данными для Москвы\n",
    "display(moscow.head())\n",
    "display(moscow.info())\n",
    "\n",
    "# Выведем информацию о датафрейме с данными для Санкт-Петербурга\n",
    "display(spb.head())\n",
    "display(spb.info())"
   ]
  },
  {
   "cell_type": "markdown",
   "id": "897db23f",
   "metadata": {},
   "source": [
    "Видно, что данные ассиметричны. Из Москвы данных примерно в 3 раза больше чем из Санкт-Петербурга. Изучим распределение данных по количеству часов методами describe и построением гистограммы."
   ]
  },
  {
   "cell_type": "code",
   "execution_count": 7,
   "id": "7bd7ede6",
   "metadata": {},
   "outputs": [
    {
     "data": {
      "text/plain": [
       "'Количество пользователей в Москве: 6234'"
      ]
     },
     "metadata": {},
     "output_type": "display_data"
    },
    {
     "data": {
      "text/plain": [
       "'Количество пользователей в Санкт-Петербурге: 2306'"
      ]
     },
     "metadata": {},
     "output_type": "display_data"
    },
    {
     "data": {
      "text/plain": [
       "'Статистика для Москвы:'"
      ]
     },
     "metadata": {},
     "output_type": "display_data"
    },
    {
     "data": {
      "text/html": [
       "<div>\n",
       "<style scoped>\n",
       "    .dataframe tbody tr th:only-of-type {\n",
       "        vertical-align: middle;\n",
       "    }\n",
       "\n",
       "    .dataframe tbody tr th {\n",
       "        vertical-align: top;\n",
       "    }\n",
       "\n",
       "    .dataframe thead th {\n",
       "        text-align: right;\n",
       "    }\n",
       "</style>\n",
       "<table border=\"1\" class=\"dataframe\">\n",
       "  <thead>\n",
       "    <tr style=\"text-align: right;\">\n",
       "      <th></th>\n",
       "      <th>Unnamed: 0</th>\n",
       "      <th>puid</th>\n",
       "      <th>hours</th>\n",
       "    </tr>\n",
       "  </thead>\n",
       "  <tbody>\n",
       "    <tr>\n",
       "      <th>count</th>\n",
       "      <td>6234.000000</td>\n",
       "      <td>6.234000e+03</td>\n",
       "      <td>6234.000000</td>\n",
       "    </tr>\n",
       "    <tr>\n",
       "      <th>mean</th>\n",
       "      <td>3116.500000</td>\n",
       "      <td>1.123926e+13</td>\n",
       "      <td>10.881092</td>\n",
       "    </tr>\n",
       "    <tr>\n",
       "      <th>std</th>\n",
       "      <td>1799.745121</td>\n",
       "      <td>1.121386e+14</td>\n",
       "      <td>36.851683</td>\n",
       "    </tr>\n",
       "    <tr>\n",
       "      <th>min</th>\n",
       "      <td>0.000000</td>\n",
       "      <td>9.668000e+03</td>\n",
       "      <td>0.000018</td>\n",
       "    </tr>\n",
       "    <tr>\n",
       "      <th>25%</th>\n",
       "      <td>1558.250000</td>\n",
       "      <td>3.139885e+08</td>\n",
       "      <td>0.059903</td>\n",
       "    </tr>\n",
       "    <tr>\n",
       "      <th>50%</th>\n",
       "      <td>3116.500000</td>\n",
       "      <td>8.730945e+08</td>\n",
       "      <td>0.924498</td>\n",
       "    </tr>\n",
       "    <tr>\n",
       "      <th>75%</th>\n",
       "      <td>4674.750000</td>\n",
       "      <td>1.510930e+09</td>\n",
       "      <td>5.939972</td>\n",
       "    </tr>\n",
       "    <tr>\n",
       "      <th>max</th>\n",
       "      <td>6233.000000</td>\n",
       "      <td>1.130000e+15</td>\n",
       "      <td>857.209373</td>\n",
       "    </tr>\n",
       "  </tbody>\n",
       "</table>\n",
       "</div>"
      ],
      "text/plain": [
       "        Unnamed: 0          puid        hours\n",
       "count  6234.000000  6.234000e+03  6234.000000\n",
       "mean   3116.500000  1.123926e+13    10.881092\n",
       "std    1799.745121  1.121386e+14    36.851683\n",
       "min       0.000000  9.668000e+03     0.000018\n",
       "25%    1558.250000  3.139885e+08     0.059903\n",
       "50%    3116.500000  8.730945e+08     0.924498\n",
       "75%    4674.750000  1.510930e+09     5.939972\n",
       "max    6233.000000  1.130000e+15   857.209373"
      ]
     },
     "metadata": {},
     "output_type": "display_data"
    },
    {
     "data": {
      "text/plain": [
       "'Статистика для Санкт-Петербурга:'"
      ]
     },
     "metadata": {},
     "output_type": "display_data"
    },
    {
     "data": {
      "text/html": [
       "<div>\n",
       "<style scoped>\n",
       "    .dataframe tbody tr th:only-of-type {\n",
       "        vertical-align: middle;\n",
       "    }\n",
       "\n",
       "    .dataframe tbody tr th {\n",
       "        vertical-align: top;\n",
       "    }\n",
       "\n",
       "    .dataframe thead th {\n",
       "        text-align: right;\n",
       "    }\n",
       "</style>\n",
       "<table border=\"1\" class=\"dataframe\">\n",
       "  <thead>\n",
       "    <tr style=\"text-align: right;\">\n",
       "      <th></th>\n",
       "      <th>Unnamed: 0</th>\n",
       "      <th>puid</th>\n",
       "      <th>hours</th>\n",
       "    </tr>\n",
       "  </thead>\n",
       "  <tbody>\n",
       "    <tr>\n",
       "      <th>count</th>\n",
       "      <td>2306.000000</td>\n",
       "      <td>2.306000e+03</td>\n",
       "      <td>2306.000000</td>\n",
       "    </tr>\n",
       "    <tr>\n",
       "      <th>mean</th>\n",
       "      <td>7521.632697</td>\n",
       "      <td>5.391234e+12</td>\n",
       "      <td>11.264433</td>\n",
       "    </tr>\n",
       "    <tr>\n",
       "      <th>std</th>\n",
       "      <td>738.327494</td>\n",
       "      <td>7.787547e+13</td>\n",
       "      <td>39.831755</td>\n",
       "    </tr>\n",
       "    <tr>\n",
       "      <th>min</th>\n",
       "      <td>6234.000000</td>\n",
       "      <td>1.049230e+05</td>\n",
       "      <td>0.000025</td>\n",
       "    </tr>\n",
       "    <tr>\n",
       "      <th>25%</th>\n",
       "      <td>6879.750000</td>\n",
       "      <td>3.594025e+08</td>\n",
       "      <td>0.060173</td>\n",
       "    </tr>\n",
       "    <tr>\n",
       "      <th>50%</th>\n",
       "      <td>7532.500000</td>\n",
       "      <td>9.265005e+08</td>\n",
       "      <td>0.875355</td>\n",
       "    </tr>\n",
       "    <tr>\n",
       "      <th>75%</th>\n",
       "      <td>8162.750000</td>\n",
       "      <td>1.542720e+09</td>\n",
       "      <td>6.138424</td>\n",
       "    </tr>\n",
       "    <tr>\n",
       "      <th>max</th>\n",
       "      <td>8783.000000</td>\n",
       "      <td>1.130000e+15</td>\n",
       "      <td>978.764775</td>\n",
       "    </tr>\n",
       "  </tbody>\n",
       "</table>\n",
       "</div>"
      ],
      "text/plain": [
       "        Unnamed: 0          puid        hours\n",
       "count  2306.000000  2.306000e+03  2306.000000\n",
       "mean   7521.632697  5.391234e+12    11.264433\n",
       "std     738.327494  7.787547e+13    39.831755\n",
       "min    6234.000000  1.049230e+05     0.000025\n",
       "25%    6879.750000  3.594025e+08     0.060173\n",
       "50%    7532.500000  9.265005e+08     0.875355\n",
       "75%    8162.750000  1.542720e+09     6.138424\n",
       "max    8783.000000  1.130000e+15   978.764775"
      ]
     },
     "metadata": {},
     "output_type": "display_data"
    }
   ],
   "source": [
    "# Посчитаем количество уникальных пользователей по городам\n",
    "moscow_puids = moscow['puid'].nunique()\n",
    "spb_puids = spb['puid'].nunique()\n",
    "\n",
    "# Выведем результаты\n",
    "display(f\"Количество пользователей в Москве: {moscow_puids}\")\n",
    "display(f\"Количество пользователей в Санкт-Петербурге: {spb_puids}\")\n",
    "\n",
    "# Выведем ститистику для Москвы\n",
    "display(f\"Статистика для Москвы:\")\n",
    "display(moscow.describe())\n",
    "\n",
    "# Выведем статистику для Санкт-Петербурга\n",
    "display(f\"Статистика для Санкт-Петербурга:\")\n",
    "display(spb.describe())"
   ]
  },
  {
   "cell_type": "code",
   "execution_count": 8,
   "id": "f28f9024",
   "metadata": {},
   "outputs": [
    {
     "data": {
      "text/plain": [
       "Text(0, 0.5, 'Количество пользователей')"
      ]
     },
     "execution_count": 8,
     "metadata": {},
     "output_type": "execute_result"
    },
    {
     "data": {
      "image/png": "[encoded data removed]",
      "text/plain": [
       "<Figure size 432x288 with 1 Axes>"
      ]
     },
     "metadata": {
      "needs_background": "light"
     },
     "output_type": "display_data"
    }
   ],
   "source": [
    "# Построим гистограмму распределения по количеству часов прослушивания среди пользователей в Москве\n",
    "moscow.hist('hours')\n",
    "\n",
    "plt.title('Распределение по количеству часов прослушивания среди пользователей в Москве')\n",
    "plt.xlabel('Количество часов прослушивания')\n",
    "plt.ylabel('Количество пользователей')"
   ]
  },
  {
   "cell_type": "code",
   "execution_count": 9,
   "id": "57f47537",
   "metadata": {},
   "outputs": [
    {
     "data": {
      "text/plain": [
       "Text(0, 0.5, 'Количество пользователей')"
      ]
     },
     "execution_count": 9,
     "metadata": {},
     "output_type": "execute_result"
    },
    {
     "data": {
      "image/png": "[encoded data removed]",
      "text/plain": [
       "<Figure size 432x288 with 1 Axes>"
      ]
     },
     "metadata": {
      "needs_background": "light"
     },
     "output_type": "display_data"
    }
   ],
   "source": [
    "# Построим гистограмму распределения по количеству часов прослушивания среди пользователей в Санкт-Петербурге\n",
    "spb.hist('hours')\n",
    "\n",
    "plt.title('Распределение по количеству часов прослушивания среди пользователей в Санкт-Петербурге')\n",
    "plt.xlabel('Количество часов прослушивания')\n",
    "plt.ylabel('Количество пользователей')"
   ]
  },
  {
   "cell_type": "code",
   "execution_count": 10,
   "id": "2d8fc3c1",
   "metadata": {
    "scrolled": true
   },
   "outputs": [
    {
     "data": {
      "image/png": "[encoded data removed]",
      "text/plain": [
       "<Figure size 864x432 with 1 Axes>"
      ]
     },
     "metadata": {
      "needs_background": "light"
     },
     "output_type": "display_data"
    }
   ],
   "source": [
    "# Построим общий график распределения для наглядности\n",
    "plt.figure(figsize=(12, 6))\n",
    "\n",
    "plt.hist(spb['hours'], alpha=0.5, label='Санкт-Петербург', color='blue') \n",
    "plt.hist(moscow['hours'], alpha=0.5, label='Москва', color='orange')\n",
    "\n",
    "plt.title('Распределение по количеству часов прослушивания')\n",
    "plt.xlabel('Количество часов прослушивания')\n",
    "plt.ylabel('Количество пользователей')\n",
    "plt.grid()\n",
    "plt.legend() \n",
    "plt.show()"
   ]
  },
  {
   "cell_type": "markdown",
   "id": "c3e7ae02",
   "metadata": {},
   "source": [
    "Данные у нас ассиметричны. Из Москвы данных примерно в 3 раза больше чем из Санкт-Петербурга. Однако, поскольку распределение часов активности для двух групп данных примерно идентично, то можно использовать тест Стьюдента."
   ]
  },
  {
   "cell_type": "markdown",
   "id": "223b1783",
   "metadata": {},
   "source": [
    "<div class=\"alert alert-success\">\n",
    "<h2> Комментарий ревьюера <a class=\"tocSkip\"> </h2>\n",
    "\n",
    "<b>Все отлично!👍:  </b> \n",
    "    \n",
    "Тут также могу похвалить тебя за оформление визуализации. Она выполнена в соответствии со всеми требованиями, молодец! \n",
    "    \n",
    "Добавлю, что при равных дисперсиях у теста Уэлча немного ниже мощность чем у теста Стьюдента и поэтому можно применять Стьюдента. Если же говорим о сильной ассиметрии (в случае 1:4) или ,например, если мы уверены, что и при разнице 1:2 и с равными дисперсиями тест Уэлча покажет лучше результат, то тогда можно использовать его"
   ]
  },
  {
   "cell_type": "code",
   "execution_count": 11,
   "id": "f25bae32",
   "metadata": {},
   "outputs": [
    {
     "name": "stdout",
     "output_type": "stream",
     "text": [
      "0.338193679651558\n",
      "Не получилось отвергнуть нулевую гипотезу. Среднее время активности пользователей в Санкт-Петербурге не больше, чем в Москве.\n"
     ]
    }
   ],
   "source": [
    "# Проведем тест Стьюдента\n",
    "ttest_result = st.ttest_ind(spb['hours'], moscow['hours'], alternative = 'greater')\n",
    "\n",
    "# Зададим значение уровня значимости\n",
    "alpha =0.05\n",
    "\n",
    "print(ttest_result.pvalue)\n",
    "\n",
    "# Зададим условие\n",
    "if ttest_result.pvalue < alpha:\n",
    "    print('Отвергаем нулевую гипотезу. Среднее время активности пользователей в Санкт-Петербурге больше, и это различие статистически значимо.')\n",
    "else:\n",
    "    print('Не получилось отвергнуть нулевую гипотезу. Среднее время активности пользователей в Санкт-Петербурге не больше, чем в Москве.')"
   ]
  },
  {
   "cell_type": "markdown",
   "id": "ef46038b",
   "metadata": {},
   "source": [
    "<div class=\"alert alert-success\">\n",
    "<h2> Комментарий ревьюера <a class=\"tocSkip\"> </h2>\n",
    "\n",
    "<b>Все отлично!👍:  </b> \n",
    "    \n",
    "Да, поскольку альтернативная гипотеза математически равнозначна тому, что выборочное среднее выборки по МСК меньше выборки по СПб, параметр alternative выбран верно"
   ]
  },
  {
   "cell_type": "markdown",
   "id": "6953e84c",
   "metadata": {
    "id": "6953e84c"
   },
   "source": [
    "## 3. Аналитическая записка\n",
    "По результатам анализа данных подготовьте аналитическую записку, в которой опишете:\n",
    "\n",
    "- Выбранный тип t-теста и уровень статистической значимости.\n",
    "\n",
    "- Результат теста, или p-value.\n",
    "\n",
    "- Вывод на основе полученного p-value, то есть интерпретацию результатов.\n",
    "\n",
    "- Одну или две возможные причины, объясняющие полученные результаты.\n",
    "\n"
   ]
  },
  {
   "cell_type": "markdown",
   "id": "91e5263c",
   "metadata": {},
   "source": [
    "Распределение часов активности для двух групп данных примерно одинаково, по этой причине, несмотря на ассиметричность данных, был использован тест Стьюдента. Уровень статистической значимости был задан 0.05, p-value равен 0.34.\n",
    "\n",
    "p-value больше уровня статистической значимости, значит не получилось отвергнуть нулевую гипотезу, и среднее время активности пользователей в Санкт-Петербурге не больше, чем в Москве.\n",
    "\n",
    "Возможно, результаты получились таковыми из-за ассиметричности данных либо потому что в Санкт-Петербурге люди более консервативны и предпочитают бумажные книги."
   ]
  },
  {
   "cell_type": "markdown",
   "id": "d992427a",
   "metadata": {},
   "source": [
    "<div class=\"alert alert-success\">\n",
    "<h2> Комментарий ревьюера <a class=\"tocSkip\"> </h2>\n",
    "\n",
    "<b>Все отлично!👍:</b> \n",
    "    \n",
    "Вводные теста и результаты описаны корректно)"
   ]
  },
  {
   "cell_type": "markdown",
   "id": "hc1d6jVISegz",
   "metadata": {
    "id": "hc1d6jVISegz"
   },
   "source": [
    "----"
   ]
  },
  {
   "cell_type": "markdown",
   "id": "NqOUIYhbrIfC",
   "metadata": {
    "id": "NqOUIYhbrIfC"
   },
   "source": [
    "# Часть 2. Анализ результатов A/B-тестирования"
   ]
  },
  {
   "cell_type": "markdown",
   "id": "tDwMKFNGsClr",
   "metadata": {
    "id": "tDwMKFNGsClr"
   },
   "source": [
    "Теперь вам нужно проанализировать другие данные. Представьте, что к вам обратились представители интернет-магазина BitMotion Kit, в котором продаются геймифицированные товары для тех, кто ведёт здоровый образ жизни. У него есть своя целевая аудитория, даже появились хиты продаж: эспандер со счётчиком и напоминанием, так и подстольный велотренажёр с Bluetooth.\n",
    "\n",
    "В будущем компания хочет расширить ассортимент товаров. Но перед этим нужно решить одну проблему. Интерфейс онлайн-магазина слишком сложен для пользователей — об этом говорят отзывы.\n",
    "\n",
    "Чтобы привлечь новых клиентов и увеличить число продаж, владельцы магазина разработали новую версию сайта и протестировали его на части пользователей. По задумке, это решение доказуемо повысит количество пользователей, которые совершат покупку.\n",
    "\n",
    "Ваша задача — провести оценку результатов A/B-теста. В вашем распоряжении:\n",
    "\n",
    "* данные о действиях пользователей и распределении их на группы,\n",
    "\n",
    "* техническое задание.\n",
    "\n",
    "Оцените корректность проведения теста и проанализируйте его результаты."
   ]
  },
  {
   "cell_type": "markdown",
   "id": "7857b6d2",
   "metadata": {},
   "source": [
    "<div class=\"alert alert-success\">\n",
    "<h2> Комментарий ревьюера <a class=\"tocSkip\"> </h2>\n",
    "\n",
    "<b>Все отлично!👍:  </b> \n",
    "    \n",
    "И снова отлично, что присутствует введение )</div>"
   ]
  },
  {
   "cell_type": "markdown",
   "id": "UNXAAyF5r9Rk",
   "metadata": {
    "id": "UNXAAyF5r9Rk"
   },
   "source": [
    "## 1. Опишите цели исследования.\n",
    "\n"
   ]
  },
  {
   "cell_type": "markdown",
   "id": "kHx-51yES8bd",
   "metadata": {
    "id": "kHx-51yES8bd"
   },
   "source": [
    "Цель исследования: провести оценку результатов A/B-теста, повысит ли новая версия сайта количество пользователей, которые совершат покупку.\n",
    "\n",
    "Нулевая гипотеза: количество пользователей, которые совершат покупку, не увеличится в связи с внедрением новой версии сайта.\n",
    "\n",
    "Альтернативная гипотеза: количество пользователей, которые совершат покупку, увеличится в связи с внедрением новой версии сайта, и это различие будет статистически значимо."
   ]
  },
  {
   "cell_type": "markdown",
   "id": "_CZryx2OsH-s",
   "metadata": {
    "id": "_CZryx2OsH-s"
   },
   "source": [
    "## 2. Загрузите данные, оцените их целостность.\n"
   ]
  },
  {
   "cell_type": "code",
   "execution_count": 12,
   "id": "DjFcJbeGsTIg",
   "metadata": {
    "id": "DjFcJbeGsTIg"
   },
   "outputs": [],
   "source": [
    "# Загрузим данные\n",
    "participants = pd.read_csv('https://code.s3.yandex.net/datasets/ab_test_participants.csv')\n",
    "events = pd.read_csv('https://code.s3.yandex.net/datasets/ab_test_events.zip',\n",
    "                     parse_dates=['event_dt'], low_memory=False)"
   ]
  },
  {
   "cell_type": "code",
   "execution_count": 13,
   "id": "941c59c0",
   "metadata": {},
   "outputs": [
    {
     "name": "stdout",
     "output_type": "stream",
     "text": [
      "<class 'pandas.core.frame.DataFrame'>\n",
      "RangeIndex: 14525 entries, 0 to 14524\n",
      "Data columns (total 4 columns):\n",
      " #   Column   Non-Null Count  Dtype \n",
      "---  ------   --------------  ----- \n",
      " 0   user_id  14525 non-null  object\n",
      " 1   group    14525 non-null  object\n",
      " 2   ab_test  14525 non-null  object\n",
      " 3   device   14525 non-null  object\n",
      "dtypes: object(4)\n",
      "memory usage: 454.0+ KB\n"
     ]
    },
    {
     "data": {
      "text/html": [
       "<div>\n",
       "<style scoped>\n",
       "    .dataframe tbody tr th:only-of-type {\n",
       "        vertical-align: middle;\n",
       "    }\n",
       "\n",
       "    .dataframe tbody tr th {\n",
       "        vertical-align: top;\n",
       "    }\n",
       "\n",
       "    .dataframe thead th {\n",
       "        text-align: right;\n",
       "    }\n",
       "</style>\n",
       "<table border=\"1\" class=\"dataframe\">\n",
       "  <thead>\n",
       "    <tr style=\"text-align: right;\">\n",
       "      <th></th>\n",
       "      <th>user_id</th>\n",
       "      <th>group</th>\n",
       "      <th>ab_test</th>\n",
       "      <th>device</th>\n",
       "    </tr>\n",
       "  </thead>\n",
       "  <tbody>\n",
       "    <tr>\n",
       "      <th>0</th>\n",
       "      <td>0002CE61FF2C4011</td>\n",
       "      <td>B</td>\n",
       "      <td>interface_eu_test</td>\n",
       "      <td>Mac</td>\n",
       "    </tr>\n",
       "    <tr>\n",
       "      <th>1</th>\n",
       "      <td>001064FEAAB631A1</td>\n",
       "      <td>B</td>\n",
       "      <td>recommender_system_test</td>\n",
       "      <td>Android</td>\n",
       "    </tr>\n",
       "    <tr>\n",
       "      <th>2</th>\n",
       "      <td>001064FEAAB631A1</td>\n",
       "      <td>A</td>\n",
       "      <td>interface_eu_test</td>\n",
       "      <td>Android</td>\n",
       "    </tr>\n",
       "    <tr>\n",
       "      <th>3</th>\n",
       "      <td>0010A1C096941592</td>\n",
       "      <td>A</td>\n",
       "      <td>recommender_system_test</td>\n",
       "      <td>Android</td>\n",
       "    </tr>\n",
       "    <tr>\n",
       "      <th>4</th>\n",
       "      <td>001E72F50D1C48FA</td>\n",
       "      <td>A</td>\n",
       "      <td>interface_eu_test</td>\n",
       "      <td>Mac</td>\n",
       "    </tr>\n",
       "  </tbody>\n",
       "</table>\n",
       "</div>"
      ],
      "text/plain": [
       "            user_id group                  ab_test   device\n",
       "0  0002CE61FF2C4011     B        interface_eu_test      Mac\n",
       "1  001064FEAAB631A1     B  recommender_system_test  Android\n",
       "2  001064FEAAB631A1     A        interface_eu_test  Android\n",
       "3  0010A1C096941592     A  recommender_system_test  Android\n",
       "4  001E72F50D1C48FA     A        interface_eu_test      Mac"
      ]
     },
     "execution_count": 13,
     "metadata": {},
     "output_type": "execute_result"
    }
   ],
   "source": [
    "import os\n",
    "\n",
    "pth1 = '/datasets/ab_test_participants.csv'\n",
    "pth2 = '/datasets/ab_test_events.zip'\n",
    "\n",
    "if os.path.exists(pth1):\n",
    "    query_1 = pd.read_csv(pth1)\n",
    "elif os.path.exists(pth2):\n",
    "    query_1 = pd.read_csv(pth2)\n",
    "else:\n",
    "    print('Something is wrong')\n",
    "# выведем первые 5 столбцов, изучим информацию о датафреймах    \n",
    "participants.info()\n",
    "participants.head()    "
   ]
  },
  {
   "cell_type": "code",
   "execution_count": 14,
   "id": "e0c27e03",
   "metadata": {},
   "outputs": [
    {
     "name": "stdout",
     "output_type": "stream",
     "text": [
      "<class 'pandas.core.frame.DataFrame'>\n",
      "RangeIndex: 787286 entries, 0 to 787285\n",
      "Data columns (total 4 columns):\n",
      " #   Column      Non-Null Count   Dtype         \n",
      "---  ------      --------------   -----         \n",
      " 0   user_id     787286 non-null  object        \n",
      " 1   event_dt    787286 non-null  datetime64[ns]\n",
      " 2   event_name  787286 non-null  object        \n",
      " 3   details     249022 non-null  object        \n",
      "dtypes: datetime64[ns](1), object(3)\n",
      "memory usage: 24.0+ MB\n"
     ]
    },
    {
     "data": {
      "text/html": [
       "<div>\n",
       "<style scoped>\n",
       "    .dataframe tbody tr th:only-of-type {\n",
       "        vertical-align: middle;\n",
       "    }\n",
       "\n",
       "    .dataframe tbody tr th {\n",
       "        vertical-align: top;\n",
       "    }\n",
       "\n",
       "    .dataframe thead th {\n",
       "        text-align: right;\n",
       "    }\n",
       "</style>\n",
       "<table border=\"1\" class=\"dataframe\">\n",
       "  <thead>\n",
       "    <tr style=\"text-align: right;\">\n",
       "      <th></th>\n",
       "      <th>user_id</th>\n",
       "      <th>event_dt</th>\n",
       "      <th>event_name</th>\n",
       "      <th>details</th>\n",
       "    </tr>\n",
       "  </thead>\n",
       "  <tbody>\n",
       "    <tr>\n",
       "      <th>0</th>\n",
       "      <td>GLOBAL</td>\n",
       "      <td>2020-12-01 00:00:00</td>\n",
       "      <td>End of Black Friday Ads Campaign</td>\n",
       "      <td>ZONE_CODE15</td>\n",
       "    </tr>\n",
       "    <tr>\n",
       "      <th>1</th>\n",
       "      <td>CCBE9E7E99F94A08</td>\n",
       "      <td>2020-12-01 00:00:11</td>\n",
       "      <td>registration</td>\n",
       "      <td>0.0</td>\n",
       "    </tr>\n",
       "    <tr>\n",
       "      <th>2</th>\n",
       "      <td>GLOBAL</td>\n",
       "      <td>2020-12-01 00:00:25</td>\n",
       "      <td>product_page</td>\n",
       "      <td>NaN</td>\n",
       "    </tr>\n",
       "    <tr>\n",
       "      <th>3</th>\n",
       "      <td>CCBE9E7E99F94A08</td>\n",
       "      <td>2020-12-01 00:00:33</td>\n",
       "      <td>login</td>\n",
       "      <td>NaN</td>\n",
       "    </tr>\n",
       "    <tr>\n",
       "      <th>4</th>\n",
       "      <td>CCBE9E7E99F94A08</td>\n",
       "      <td>2020-12-01 00:00:52</td>\n",
       "      <td>product_page</td>\n",
       "      <td>NaN</td>\n",
       "    </tr>\n",
       "  </tbody>\n",
       "</table>\n",
       "</div>"
      ],
      "text/plain": [
       "            user_id            event_dt                        event_name  \\\n",
       "0            GLOBAL 2020-12-01 00:00:00  End of Black Friday Ads Campaign   \n",
       "1  CCBE9E7E99F94A08 2020-12-01 00:00:11                      registration   \n",
       "2            GLOBAL 2020-12-01 00:00:25                      product_page   \n",
       "3  CCBE9E7E99F94A08 2020-12-01 00:00:33                             login   \n",
       "4  CCBE9E7E99F94A08 2020-12-01 00:00:52                      product_page   \n",
       "\n",
       "       details  \n",
       "0  ZONE_CODE15  \n",
       "1          0.0  \n",
       "2          NaN  \n",
       "3          NaN  \n",
       "4          NaN  "
      ]
     },
     "execution_count": 14,
     "metadata": {},
     "output_type": "execute_result"
    }
   ],
   "source": [
    "events.info()\n",
    "events.head()"
   ]
  },
  {
   "cell_type": "markdown",
   "id": "efcd3783",
   "metadata": {},
   "source": [
    "Данные корректны. Пропуски есть только в столбце details, но он нам в исследовании особо не понадобится. Далее проверим, есть ли дубликаты в датафрейме по participants"
   ]
  },
  {
   "cell_type": "code",
   "execution_count": 15,
   "id": "2bf9301f",
   "metadata": {},
   "outputs": [
    {
     "data": {
      "text/plain": [
       "13638"
      ]
     },
     "execution_count": 15,
     "metadata": {},
     "output_type": "execute_result"
    }
   ],
   "source": [
    "# Проверим данные в датафрейме participants на дубликаты по полю user_id\n",
    "participants['user_id'].nunique()"
   ]
  },
  {
   "cell_type": "markdown",
   "id": "410cca6a",
   "metadata": {},
   "source": [
    "Количество уникальных значений 13638, а всего строк 14525. Это значит, что есть дубликаты. Удалим их."
   ]
  },
  {
   "cell_type": "code",
   "execution_count": 16,
   "id": "9b5f8fb8",
   "metadata": {},
   "outputs": [],
   "source": [
    "participants = participants.drop_duplicates(subset=['user_id'])"
   ]
  },
  {
   "cell_type": "markdown",
   "id": "463f6b44",
   "metadata": {},
   "source": [
    "<div class=\"alert alert-success\">\n",
    "<h2> Комментарий ревьюера <a class=\"tocSkip\"> </h2>\n",
    "\n",
    "<b>Все отлично!👍:  </b> \n",
    "    \n",
    "Молодец, что не забываешь и в этой части проверить дубликаты "
   ]
  },
  {
   "cell_type": "markdown",
   "id": "CnzA-efasUrk",
   "metadata": {
    "id": "CnzA-efasUrk"
   },
   "source": [
    "## 3. По таблице `ab_test_participants` оцените корректность проведения теста:\n",
    "\n",
    "   3\\.1 Выделите пользователей, участвующих в тесте, и проверьте:\n",
    "\n",
    "   - соответствие требованиям технического задания,\n",
    "\n",
    "   - равномерность распределения пользователей по группам теста,\n",
    "\n",
    "   - отсутствие пересечений с конкурирующим тестом (нет пользователей, участвующих одновременно в двух тестовых группах)."
   ]
  },
  {
   "cell_type": "code",
   "execution_count": 17,
   "id": "aNa3zHrKslEN",
   "metadata": {
    "id": "aNa3zHrKslEN"
   },
   "outputs": [
    {
     "data": {
      "text/plain": [
       "7595"
      ]
     },
     "execution_count": 17,
     "metadata": {},
     "output_type": "execute_result"
    }
   ],
   "source": [
    "# Посмотрим количество уникальных пользователей в группе А\n",
    "participants[participants['group']=='A']['user_id'].nunique()"
   ]
  },
  {
   "cell_type": "code",
   "execution_count": 18,
   "id": "b86ddd65",
   "metadata": {},
   "outputs": [
    {
     "data": {
      "text/plain": [
       "6043"
      ]
     },
     "execution_count": 18,
     "metadata": {},
     "output_type": "execute_result"
    }
   ],
   "source": [
    "# Посмотрим количество уникальных пользователей в группе B\n",
    "participants[participants['group']=='B']['user_id'].nunique()"
   ]
  },
  {
   "cell_type": "code",
   "execution_count": 19,
   "id": "b74df1d1",
   "metadata": {},
   "outputs": [
    {
     "data": {
      "text/plain": [
       "A    0.5569\n",
       "B    0.4431\n",
       "Name: group, dtype: float64"
      ]
     },
     "execution_count": 19,
     "metadata": {},
     "output_type": "execute_result"
    }
   ],
   "source": [
    "# Проверим процентное соотношение участников среди групп A и B\n",
    "participants['group'].value_counts(normalize=True)"
   ]
  },
  {
   "cell_type": "markdown",
   "id": "44ec4ebe",
   "metadata": {},
   "source": [
    "Расхождения в объемах групп есть, но оно не сильно критично (56 на 44 %). Далее проверим пользователей на пересечение."
   ]
  },
  {
   "cell_type": "code",
   "execution_count": 20,
   "id": "367febd3",
   "metadata": {},
   "outputs": [
    {
     "data": {
      "text/plain": [
       "[]"
      ]
     },
     "metadata": {},
     "output_type": "display_data"
    }
   ],
   "source": [
    "A_user_id = participants[participants['group']=='A']['user_id']\n",
    "B_user_id = participants[participants['group']=='B']['user_id']\n",
    "intersection = list(set(A_user_id) & set(B_user_id))\n",
    "display(intersection)"
   ]
  },
  {
   "cell_type": "markdown",
   "id": "bd3c9195",
   "metadata": {},
   "source": [
    "Пользователей, участвующих одновременно в двух тестовых группах, не обнаружено."
   ]
  },
  {
   "cell_type": "markdown",
   "id": "61d64fd1",
   "metadata": {},
   "source": [
    "<div class=\"alert alert-success\">\n",
    "<h2> Комментарий ревьюера <a class=\"tocSkip\"> </h2>\n",
    "\n",
    "<b>Все отлично!👍:  </b> \n",
    "    \n",
    "Группы распределены практически равномерно) </div>"
   ]
  },
  {
   "cell_type": "markdown",
   "id": "GjulgSrlsqUU",
   "metadata": {
    "id": "GjulgSrlsqUU"
   },
   "source": [
    "3\\.2 Проанализируйте данные о пользовательской активности по таблице `ab_test_events`:\n",
    "\n",
    "- оставьте только события, связанные с участвующими в изучаемом тесте пользователями;"
   ]
  },
  {
   "cell_type": "code",
   "execution_count": 21,
   "id": "QMt0Ybo_swDK",
   "metadata": {
    "id": "QMt0Ybo_swDK"
   },
   "outputs": [
    {
     "data": {
      "text/plain": [
       "array(['interface_eu_test', 'recommender_system_test'], dtype=object)"
      ]
     },
     "execution_count": 21,
     "metadata": {},
     "output_type": "execute_result"
    }
   ],
   "source": [
    "participants['ab_test'].unique()"
   ]
  },
  {
   "cell_type": "code",
   "execution_count": 22,
   "id": "6f1085b8",
   "metadata": {},
   "outputs": [],
   "source": [
    "# Найдем пользователей, участвующих только в тесте interface_eu_test\n",
    "eu_test_users = participants[participants['ab_test'] == 'interface_eu_test']['user_id']"
   ]
  },
  {
   "cell_type": "code",
   "execution_count": 23,
   "id": "a8be402d",
   "metadata": {},
   "outputs": [
    {
     "name": "stdout",
     "output_type": "stream",
     "text": [
      "<class 'pandas.core.frame.DataFrame'>\n",
      "Int64Index: 76658 entries, 64672 to 780371\n",
      "Data columns (total 4 columns):\n",
      " #   Column      Non-Null Count  Dtype         \n",
      "---  ------      --------------  -----         \n",
      " 0   user_id     76658 non-null  object        \n",
      " 1   event_dt    76658 non-null  datetime64[ns]\n",
      " 2   event_name  76658 non-null  object        \n",
      " 3   details     20217 non-null  object        \n",
      "dtypes: datetime64[ns](1), object(3)\n",
      "memory usage: 2.9+ MB\n"
     ]
    }
   ],
   "source": [
    "# Отфильтруем датафрейм events, оставив только пользователей, участвующих только в тесте interface_eu_test\n",
    "events = events[events['user_id'].isin(eu_test_users)]\n",
    "# Выведем информацию о датафрейме\n",
    "events.info()"
   ]
  },
  {
   "cell_type": "markdown",
   "id": "fBZ4DC2xswZJ",
   "metadata": {
    "id": "fBZ4DC2xswZJ"
   },
   "source": [
    "- определите горизонт анализа: рассчитайте время (лайфтайм) совершения события пользователем после регистрации и оставьте только те события, которые были выполнены в течение первых семи дней с момента регистрации;"
   ]
  },
  {
   "cell_type": "code",
   "execution_count": 24,
   "id": "sES4-dKts0Yb",
   "metadata": {
    "id": "sES4-dKts0Yb"
   },
   "outputs": [
    {
     "name": "stdout",
     "output_type": "stream",
     "text": [
      "<class 'pandas.core.frame.DataFrame'>\n",
      "Int64Index: 76658 entries, 0 to 76657\n",
      "Data columns (total 8 columns):\n",
      " #   Column         Non-Null Count  Dtype         \n",
      "---  ------         --------------  -----         \n",
      " 0   user_id        76658 non-null  object        \n",
      " 1   event_dt       76658 non-null  datetime64[ns]\n",
      " 2   event_name     76658 non-null  object        \n",
      " 3   details        20217 non-null  object        \n",
      " 4   group          76658 non-null  object        \n",
      " 5   ab_test        76658 non-null  object        \n",
      " 6   device         76658 non-null  object        \n",
      " 7   lifetime_days  76658 non-null  int64         \n",
      "dtypes: datetime64[ns](1), int64(1), object(6)\n",
      "memory usage: 5.3+ MB\n"
     ]
    },
    {
     "data": {
      "text/html": [
       "<div>\n",
       "<style scoped>\n",
       "    .dataframe tbody tr th:only-of-type {\n",
       "        vertical-align: middle;\n",
       "    }\n",
       "\n",
       "    .dataframe tbody tr th {\n",
       "        vertical-align: top;\n",
       "    }\n",
       "\n",
       "    .dataframe thead th {\n",
       "        text-align: right;\n",
       "    }\n",
       "</style>\n",
       "<table border=\"1\" class=\"dataframe\">\n",
       "  <thead>\n",
       "    <tr style=\"text-align: right;\">\n",
       "      <th></th>\n",
       "      <th>user_id</th>\n",
       "      <th>event_dt</th>\n",
       "      <th>event_name</th>\n",
       "      <th>details</th>\n",
       "      <th>group</th>\n",
       "      <th>ab_test</th>\n",
       "      <th>device</th>\n",
       "      <th>lifetime_days</th>\n",
       "    </tr>\n",
       "  </thead>\n",
       "  <tbody>\n",
       "    <tr>\n",
       "      <th>0</th>\n",
       "      <td>5F506CEBEDC05D30</td>\n",
       "      <td>2020-12-06 14:10:01</td>\n",
       "      <td>registration</td>\n",
       "      <td>0.0</td>\n",
       "      <td>A</td>\n",
       "      <td>interface_eu_test</td>\n",
       "      <td>iPhone</td>\n",
       "      <td>0</td>\n",
       "    </tr>\n",
       "    <tr>\n",
       "      <th>1</th>\n",
       "      <td>5F506CEBEDC05D30</td>\n",
       "      <td>2020-12-07 01:25:14</td>\n",
       "      <td>login</td>\n",
       "      <td>NaN</td>\n",
       "      <td>A</td>\n",
       "      <td>interface_eu_test</td>\n",
       "      <td>iPhone</td>\n",
       "      <td>0</td>\n",
       "    </tr>\n",
       "    <tr>\n",
       "      <th>2</th>\n",
       "      <td>5F506CEBEDC05D30</td>\n",
       "      <td>2020-12-07 01:25:47</td>\n",
       "      <td>login</td>\n",
       "      <td>NaN</td>\n",
       "      <td>A</td>\n",
       "      <td>interface_eu_test</td>\n",
       "      <td>iPhone</td>\n",
       "      <td>0</td>\n",
       "    </tr>\n",
       "    <tr>\n",
       "      <th>3</th>\n",
       "      <td>5F506CEBEDC05D30</td>\n",
       "      <td>2020-12-09 12:40:49</td>\n",
       "      <td>login</td>\n",
       "      <td>NaN</td>\n",
       "      <td>A</td>\n",
       "      <td>interface_eu_test</td>\n",
       "      <td>iPhone</td>\n",
       "      <td>0</td>\n",
       "    </tr>\n",
       "    <tr>\n",
       "      <th>4</th>\n",
       "      <td>5F506CEBEDC05D30</td>\n",
       "      <td>2020-12-09 12:40:49</td>\n",
       "      <td>product_page</td>\n",
       "      <td>NaN</td>\n",
       "      <td>A</td>\n",
       "      <td>interface_eu_test</td>\n",
       "      <td>iPhone</td>\n",
       "      <td>0</td>\n",
       "    </tr>\n",
       "  </tbody>\n",
       "</table>\n",
       "</div>"
      ],
      "text/plain": [
       "            user_id            event_dt    event_name details group  \\\n",
       "0  5F506CEBEDC05D30 2020-12-06 14:10:01  registration     0.0     A   \n",
       "1  5F506CEBEDC05D30 2020-12-07 01:25:14         login     NaN     A   \n",
       "2  5F506CEBEDC05D30 2020-12-07 01:25:47         login     NaN     A   \n",
       "3  5F506CEBEDC05D30 2020-12-09 12:40:49         login     NaN     A   \n",
       "4  5F506CEBEDC05D30 2020-12-09 12:40:49  product_page     NaN     A   \n",
       "\n",
       "             ab_test  device  lifetime_days  \n",
       "0  interface_eu_test  iPhone              0  \n",
       "1  interface_eu_test  iPhone              0  \n",
       "2  interface_eu_test  iPhone              0  \n",
       "3  interface_eu_test  iPhone              0  \n",
       "4  interface_eu_test  iPhone              0  "
      ]
     },
     "execution_count": 24,
     "metadata": {},
     "output_type": "execute_result"
    }
   ],
   "source": [
    "# Объединим датафреймы по столбцу user_id\n",
    "events_participants = events.merge(participants, on='user_id', how='inner')\n",
    "\n",
    "# Выведем в строке lifetime_days разницу между регистрацией и совершением события\n",
    "events_participants['lifetime_days'] = (events_participants['event_dt'] - events_participants['event_dt'].dt.normalize()).dt.days\n",
    "\n",
    "# Оставим в датафрейме только те события, которые были выполнены в течение первых семи дней с момента регистрации\n",
    "events_participants_seven_days = events_participants[events_participants['lifetime_days']<7]\n",
    "\n",
    "# Выведем информацию и первые 5 столбцов о полученном датафрейме\n",
    "events_participants_seven_days.info()\n",
    "events_participants_seven_days.head()"
   ]
  },
  {
   "cell_type": "markdown",
   "id": "c367b8ca",
   "metadata": {},
   "source": [
    "<div class=\"alert alert-success\">\n",
    "<h2> Комментарий ревьюера <a class=\"tocSkip\"> </h2>\n",
    "\n",
    "<b>Все отлично!👍:  </b> \n",
    "    \n",
    "да, неравенство должно быть строгим: `< 7`"
   ]
  },
  {
   "cell_type": "markdown",
   "id": "7cf1df48",
   "metadata": {},
   "source": [
    "Оцените достаточность выборки для получения статистически значимых результатов A/B-теста. Заданные параметры:\n",
    "\n",
    "- базовый показатель конверсии — 30%,\n",
    "\n",
    "- мощность теста — 80%,\n",
    "\n",
    "- достоверность теста — 95%."
   ]
  },
  {
   "cell_type": "code",
   "execution_count": 25,
   "id": "7d97b466",
   "metadata": {},
   "outputs": [
    {
     "data": {
      "text/plain": [
       "'Необходимый размер выборки для каждой группы: 1569'"
      ]
     },
     "metadata": {},
     "output_type": "display_data"
    }
   ],
   "source": [
    "from statsmodels.stats.power import NormalIndPower\n",
    "\n",
    "# Задаём параметры\n",
    "conversion_rate = 0.30  # Базовый показатель конверсии\n",
    "mde = 0.03 / conversion_rate  # Минимальное ожидаемое изменение (3%)\n",
    "alpha = 0.05  # 100 - уровень достоверности (95%)\n",
    "power = 0.8 # Мощность теста\n",
    "\n",
    "# Инициализируем класс NormalIndPower\n",
    "power_analysis = NormalIndPower()\n",
    "\n",
    "# Рассчитываем размер выборки\n",
    "sample_size = power_analysis.solve_power(\n",
    "    effect_size = mde,\n",
    "    power = power,\n",
    "    alpha = alpha,\n",
    "    alternative = 'two-sided'\n",
    ")\n",
    "\n",
    "display(f\"Необходимый размер выборки для каждой группы: {int(sample_size)}\")"
   ]
  },
  {
   "cell_type": "markdown",
   "id": "SadyUDgZs0t3",
   "metadata": {
    "id": "SadyUDgZs0t3"
   },
   "source": [
    "- рассчитайте для каждой группы количество посетителей, сделавших покупку, и общее количество посетителей."
   ]
  },
  {
   "cell_type": "markdown",
   "id": "8873af07",
   "metadata": {},
   "source": [
    "Найдем общее количество участников и количество участников, совершивших платеж для каждой группы."
   ]
  },
  {
   "cell_type": "code",
   "execution_count": 26,
   "id": "7ph853Xks4sy",
   "metadata": {
    "id": "7ph853Xks4sy"
   },
   "outputs": [
    {
     "data": {
      "text/plain": [
       "5174"
      ]
     },
     "metadata": {},
     "output_type": "display_data"
    }
   ],
   "source": [
    "# Найдем общее количество участников для группы А\n",
    "events_participants_all_A = events_participants_seven_days[events_participants_seven_days['group']=='A']['user_id'].nunique()\n",
    "display(events_participants_all_A)"
   ]
  },
  {
   "cell_type": "code",
   "execution_count": 27,
   "id": "8923e684",
   "metadata": {},
   "outputs": [
    {
     "data": {
      "text/plain": [
       "1698"
      ]
     },
     "metadata": {},
     "output_type": "display_data"
    }
   ],
   "source": [
    "# Найдем количество участников, совершивших платеж для группы А\n",
    "events_participants_allp_A = events_participants_seven_days[(events_participants_seven_days['group'] == 'A') & \n",
    "                             (events_participants_seven_days['event_name'] == 'purchase')]['user_id'].nunique()\n",
    "display(events_participants_allp_A)"
   ]
  },
  {
   "cell_type": "code",
   "execution_count": 28,
   "id": "ba9cf473",
   "metadata": {},
   "outputs": [
    {
     "data": {
      "text/plain": [
       "5229"
      ]
     },
     "metadata": {},
     "output_type": "display_data"
    }
   ],
   "source": [
    "# Найдем общее количество участников для группы В\n",
    "events_participants_all_B = events_participants_seven_days[events_participants_seven_days['group']=='B']['user_id'].nunique()\n",
    "display(events_participants_all_B)"
   ]
  },
  {
   "cell_type": "code",
   "execution_count": 29,
   "id": "50def76b",
   "metadata": {},
   "outputs": [
    {
     "data": {
      "text/plain": [
       "1851"
      ]
     },
     "metadata": {},
     "output_type": "display_data"
    }
   ],
   "source": [
    "# Найдем количество участников, совершивших платеж для группы B\n",
    "events_participants_allp_B = events_participants_seven_days[(events_participants_seven_days['group'] == 'B') & \n",
    "                             (events_participants_seven_days['event_name'] == 'purchase')]['user_id'].nunique()\n",
    "display(events_participants_allp_B)"
   ]
  },
  {
   "cell_type": "code",
   "execution_count": 30,
   "id": "2f2f7b21",
   "metadata": {},
   "outputs": [
    {
     "data": {
      "text/plain": [
       "0.3281793583301121"
      ]
     },
     "metadata": {},
     "output_type": "display_data"
    },
    {
     "data": {
      "text/plain": [
       "0.3539873780837636"
      ]
     },
     "metadata": {},
     "output_type": "display_data"
    }
   ],
   "source": [
    "# Найдем соотношение количества участников, совершивших платеж в группах A и B и общего количества участников в группах A и B\n",
    "part_A, part_B = events_participants_allp_A/events_participants_all_A, events_participants_allp_B/events_participants_all_B\n",
    "display(part_A, part_B)"
   ]
  },
  {
   "cell_type": "code",
   "execution_count": 31,
   "id": "d99288ee",
   "metadata": {},
   "outputs": [
    {
     "data": {
      "text/plain": [
       "2.580801975365155"
      ]
     },
     "metadata": {},
     "output_type": "display_data"
    }
   ],
   "source": [
    "# Рассчитаем, на сколько процентных пунктов увеличится конверсия:\n",
    "difference = part_B*100 - part_A*100\n",
    "display(difference)"
   ]
  },
  {
   "cell_type": "code",
   "execution_count": 32,
   "id": "f352a8fe",
   "metadata": {},
   "outputs": [
    {
     "name": "stdout",
     "output_type": "stream",
     "text": [
      "Предпосылка о достаточном количестве данных выполняется!\n"
     ]
    }
   ],
   "source": [
    "# Проверим предпосылку о достаточном количестве данных\n",
    "\n",
    "if (part_A*events_participants_all_A>10)and((1-part_A)*events_participants_all_A>10)and(part_B*events_participants_all_B>10)and((1-part_B)*events_participants_all_B>10):\n",
    "    print('Предпосылка о достаточном количестве данных выполняется!')\n",
    "else:\n",
    "    print('Предпосылка о достаточном количестве данных НЕ выполняется!')"
   ]
  },
  {
   "cell_type": "markdown",
   "id": "sh1JpGvAs5E3",
   "metadata": {
    "id": "sh1JpGvAs5E3"
   },
   "source": [
    "- сделайте предварительный общий вывод об изменении пользовательской активности в тестовой группе по сравнению с контрольной."
   ]
  },
  {
   "cell_type": "markdown",
   "id": "e9962622",
   "metadata": {
    "id": "hHTHPkJYs8mE"
   },
   "source": [
    "В группе B большее количество участников совершило платеж как в абсолютной, так и в относительной величинах. Есть предположение о верности альтернативной гипотезы и вместе с этим, что количество пользователей, которые совершат покупку, увеличится в связи с внедрением новой версии сайта. По предварительному анализу конверсия в покупку у группы B увеличилась примерно на 2,58 процентных пункта."
   ]
  },
  {
   "cell_type": "markdown",
   "id": "f3002fc5",
   "metadata": {},
   "source": [
    "<div class=\"alert alert-success\">\n",
    "<h2> Комментарий ревьюера <a class=\"tocSkip\"> </h2>\n",
    "\n",
    "<b>Все отлично!👍:  </b>\n",
    "    \n",
    "    \n",
    "Очень качественное объяснение результатов теста применительно к бизнесу заказчика)"
   ]
  },
  {
   "cell_type": "markdown",
   "id": "IKZ1Oo3Ws919",
   "metadata": {
    "id": "IKZ1Oo3Ws919"
   },
   "source": [
    "## 4. Проведите оценку результатов A/B-тестирования:"
   ]
  },
  {
   "cell_type": "markdown",
   "id": "dcUdBSmvtC-E",
   "metadata": {
    "id": "dcUdBSmvtC-E"
   },
   "source": [
    "- Проверьте изменение конверсии подходящим статистическим тестом, учитывая все этапы проверки гипотез."
   ]
  },
  {
   "cell_type": "markdown",
   "id": "7108cc74",
   "metadata": {
    "id": "l_KOziBQtL3t"
   },
   "source": [
    "Перед тестом сформулируем нулевую и альетрнативную гипотезы: H₀ (нулевая гипотеза) — количество пользователей, которые совершат покупку, не увеличится связи с внедрением новой версии сайта.\n",
    "H₁ (альтернативная гипотеза) — количество пользователей, которые совершат покупку, увеличится связи с внедрением новой версии сайта, и это различие будет статистически значимо.\n",
    "\n",
    "Мы сравниваем пропорции (доли пользователей, совершивших платеж). Поэтому использовать будем Z-тест."
   ]
  },
  {
   "cell_type": "code",
   "execution_count": 33,
   "id": "ade98dc4",
   "metadata": {},
   "outputs": [
    {
     "name": "stdout",
     "output_type": "stream",
     "text": [
      "p-значение: 0.002750961144797404\n",
      "Отвергаем нулевую гипотезу.Количество пользователей, которые совершат покупку, увеличится в связи с внедрением новой версии сайта, и это различие будет статистически значимо.\n"
     ]
    }
   ],
   "source": [
    "# Проведем Z-тест\n",
    "z_stat, p_value_ztest = proportions_ztest([events_participants_allp_A, events_participants_allp_B],\n",
    "                                    [events_participants_all_A, events_participants_all_B],\n",
    "                                    alternative='smaller')\n",
    "\n",
    "\n",
    "print('p-значение:', p_value_ztest)\n",
    "\n",
    "# Зададим условия \n",
    "if p_value_ztest < alpha:\n",
    "    print('Отвергаем нулевую гипотезу.' \n",
    "      'Количество пользователей, которые совершат покупку, увеличится в связи с внедрением новой версии сайта, и это различие будет статистически значимо.')\n",
    "else:\n",
    "    print('Не удалось отвергнуть нулевую гипотезу.' \n",
    "      'Количество пользователей, которые совершат покупку, не увеличится в связи с внедрением новой версии сайта.')"
   ]
  },
  {
   "cell_type": "markdown",
   "id": "3f15294d",
   "metadata": {},
   "source": [
    "<div class=\"alert alert-block alert-danger\">\n",
    "<h2> Комментарий ревьюера  <a class=\"tocSkip\"></h2>\n",
    "\n",
    "    \n",
    "<b>На доработку🤔:</b> \n",
    "    \n",
    "Гипотеза сформулирована как \"больше\", а проверена как \"меньше\" - нужно синхронизировать.\n",
    "    \n",
    "`alternative='larger'` действительно означает, что **альтернативная гипотеза** формулируется как:\n",
    "\n",
    "> **H₁: p₁ > p₂**  \n",
    "> (то есть конверсия в **первой** группе **выше**, чем во **второй**)\n",
    "\n",
    "И вот здесь — ключевой момент:  \n",
    "**`p₁` и `p₂` — это не \"A\" и \"B\" по названиям**, а именно **первая и вторая группы в твоих массивах `count=[...], nobs=[...]`**.\n",
    "\n",
    "---\n",
    "\n",
    "Что нужно сделать:\n",
    "Если ты хочешь проверить, что **B лучше A**, то:\n",
    "- либо **поменяй порядок групп**:\n",
    "  ```python\n",
    "  buyers = [1600, 1480]\n",
    "  total = [5467, 5383]\n",
    "  alternative = 'larger'\n",
    "  ```\n",
    "- либо **оставь порядок как есть**, но укажи:\n",
    "  ```python\n",
    "  alternative = 'smaller'\n",
    "  ```\n",
    "    "
   ]
  },
  {
   "cell_type": "markdown",
   "id": "d0e847da",
   "metadata": {},
   "source": [
    "<div class=\"alert alert-success\">\n",
    "<h2> Комментарий ревьюера 2 <a class=\"tocSkip\"> </h2>\n",
    "\n",
    "<b>Все отлично!👍:</b>"
   ]
  },
  {
   "cell_type": "markdown",
   "id": "9jkyKOjgtGoc",
   "metadata": {
    "id": "9jkyKOjgtGoc"
   },
   "source": [
    "- Опишите выводы по проведённой оценке результатов A/B-тестирования. Что можно сказать про результаты A/B-тестирования? Был ли достигнут ожидаемый эффект в изменении конверсии?"
   ]
  },
  {
   "cell_type": "markdown",
   "id": "npoPPSKytKvR",
   "metadata": {
    "id": "npoPPSKytKvR"
   },
   "source": [
    "В ходе работы была проведена оценка результатов A/B-теста, сможет ли новая версия сайта  повысить количество пользователей, которые совершат покупку.\n",
    "\n",
    "Характеристики проведённого эксперимента таковы: необходимый размер выборки для каждой группы составляет 1569 участников.\n",
    "\n",
    "Предварительный общий вывод об изменении пользовательской активности в тестовой группе по сравнению с контрольной говорит о том, что конверсия в покупку у группы B увеличилась примерно на 2,58 процентных пункта.\n",
    "\n",
    "Значение p-value (0,00275) получилось ниже значения alpha. Соответственно необходимо отвергнуть нулевую гипотезу.Количество пользователей, которые совершат покупку, увеличится в связи с внедрением новой версии сайта, и это различие будет статистически значимо.\n",
    "\n",
    "Вывод простой и однозначный: стоит внедрить новую версию сайта, так как количество пользователей, которые совершат покупку, увеличится."
   ]
  },
  {
   "cell_type": "markdown",
   "id": "a2584a84",
   "metadata": {},
   "source": [
    "<div class=\"alert alert-success\">\n",
    "<h2> Комментарий ревьюера <a class=\"tocSkip\"> </h2>\n",
    "\n",
    "<b>Все отлично!👍:  </b> \n",
    "\n",
    "Молодец, что не забываешь написать Выводы по результатам A/B-теста)\n",
    "    \n",
    "</div>    \n",
    "    \n",
    "<div style=\"border:solid Chocolate 2px; padding: 40px\">\n",
    "\n",
    "\n",
    "<h2> Итоговый комментарий ревьюера (общий вывод по проекту)  <a class=\"tocSkip\"> </h2>    \n",
    "    \n",
    "  \n",
    "У меня сложилось хорошее впечатление о проекте. Молодец! Осмысленная аналитика и дельная работа - многое удалось как надо)\n",
    "    \n",
    "Отмечу отдельные положительные моменты проекта🙂:\n",
    "    \n",
    "- Была проделана значительная работа по проверке гипотез в Python, результатот А/Б-теста и составлении аналитической записки! \n",
    "- Твой вывод чётко отражает проделанные шаги, что важно для демонстрации результатов исследования.   \n",
    "    \n",
    "Есть несколько моментов всего, на которые стоит ещё раз взглянуть, я указал их в моих комментариях по ходу проекта.\n",
    "    \n",
    "Предлагаю тебе доработать проект по моим комментариям, чтобы довести его до совершенства.   \n",
    "    \n",
    "\n",
    " \n",
    "</div>\n"
   ]
  },
  {
   "cell_type": "markdown",
   "id": "30826744",
   "metadata": {},
   "source": [
    "<div class=\"alert alert-info\"> <b> Комментарий студента:</b> Поправила замечание, исправила вывод. Надеюсь, теперь все верно.</div>"
   ]
  },
  {
   "cell_type": "markdown",
   "id": "a9f13990",
   "metadata": {},
   "source": [
    "<div style=\"border:solid Chocolate 2px; padding: 40px\">\n",
    "\n",
    "\n",
    "<h2>  Итоговый комментарий ревьюера 2 (итоговый вывод по проекту) <a class=\"tocSkip\"> </h2>    \n",
    "    \n",
    "      \n",
    "  \n",
    "Теперь почти идеально, молодец! Принимаю твой проект)\n",
    "    \n",
    "Могу порекомендовать тебе отличную книгу про Python:\n",
    "    \n",
    "https://monster-book.com/avtomatizaciya-zadach-s-python    \n",
    "    \n",
    "По A/B тестированию могу посоветовать следующие материалы:\n",
    "    \n",
    "- https://education.yandex.ru/journal/kak-provesti-a-b-testirovanie-6-prostykh-shagov\n",
    "- https://habr.com/ru/companies/otus/articles/546168/\n",
    "- https://mindbox.ru/journal/education/kak-provesti-a-b-test/\n",
    "- Калькулятор достоверности А/B тестов: https://mindbox.ru/tools/ab-test-calculator/\n",
    "    \n",
    "Советую тебе обратить внимание на библиотеки `sweetviz` и `ydata_profiling`, которые помогут в проведении более тщательного EDA анализа. Данные библиотеки хороши для максимизации комфорта презентации результатов анализа бизнес-пользователям. \n",
    "    \n",
    "Очень просты в использоовании, на вход кладется датафрейм: `ydata_profiling.ProfileReport(df)`\n",
    "    \n",
    "Цель нашего проекта достигнута. Рад был тебе помочь)\n",
    "    \n",
    "Удачи тебе в следующем проекте!\n",
    "    \n",
    "**Буду очень благодарен, если ты поставишь мне положительную оценку за проект в форме на странице курса, это важно для меня. Достаточно поставить оценку, а комментарий можешь написать по желанию:)**     \n",
    "    \n",
    "</div>    \n"
   ]
  },
  {
   "cell_type": "code",
   "execution_count": null,
   "id": "ab6436a5",
   "metadata": {},
   "outputs": [],
   "source": []
  }
 ],
 "metadata": {
  "ExecuteTimeLog": [
   {
    "duration": 65,
    "start_time": "2025-05-08T09:28:34.340Z"
   },
   {
    "duration": 5196,
    "start_time": "2025-05-08T09:28:41.913Z"
   },
   {
    "duration": 58,
    "start_time": "2025-05-08T09:28:51.690Z"
   },
   {
    "duration": 59,
    "start_time": "2025-05-08T09:29:16.081Z"
   },
   {
    "duration": 67,
    "start_time": "2025-05-08T09:34:35.237Z"
   },
   {
    "duration": 75,
    "start_time": "2025-05-08T09:35:00.939Z"
   },
   {
    "duration": 10,
    "start_time": "2025-05-08T10:05:09.370Z"
   },
   {
    "duration": 13,
    "start_time": "2025-05-08T10:07:35.227Z"
   },
   {
    "duration": 10,
    "start_time": "2025-05-08T10:07:44.005Z"
   },
   {
    "duration": 10,
    "start_time": "2025-05-08T10:19:10.821Z"
   },
   {
    "duration": 83,
    "start_time": "2025-05-08T10:20:35.444Z"
   },
   {
    "duration": 10,
    "start_time": "2025-05-08T10:20:51.434Z"
   },
   {
    "duration": 9,
    "start_time": "2025-05-08T10:24:23.633Z"
   },
   {
    "duration": 7,
    "start_time": "2025-05-08T10:27:51.568Z"
   },
   {
    "duration": 6,
    "start_time": "2025-05-08T10:28:22.399Z"
   },
   {
    "duration": 5,
    "start_time": "2025-05-08T10:35:35.527Z"
   },
   {
    "duration": 5,
    "start_time": "2025-05-08T10:35:48.156Z"
   },
   {
    "duration": 6,
    "start_time": "2025-05-08T10:35:54.428Z"
   },
   {
    "duration": 10,
    "start_time": "2025-05-08T10:36:40.478Z"
   },
   {
    "duration": 8,
    "start_time": "2025-05-08T11:19:05.601Z"
   },
   {
    "duration": 9,
    "start_time": "2025-05-08T11:20:54.747Z"
   },
   {
    "duration": 7,
    "start_time": "2025-05-08T11:21:07.049Z"
   },
   {
    "duration": 11,
    "start_time": "2025-05-08T11:21:19.620Z"
   },
   {
    "duration": 11,
    "start_time": "2025-05-08T11:21:25.518Z"
   },
   {
    "duration": 127,
    "start_time": "2025-05-08T11:21:31.060Z"
   },
   {
    "duration": 6,
    "start_time": "2025-05-08T11:21:53.122Z"
   },
   {
    "duration": 15,
    "start_time": "2025-05-08T11:22:10.454Z"
   },
   {
    "duration": 14,
    "start_time": "2025-05-08T11:22:32.041Z"
   },
   {
    "duration": 8,
    "start_time": "2025-05-08T11:22:50.581Z"
   },
   {
    "duration": 12,
    "start_time": "2025-05-08T11:23:06.822Z"
   },
   {
    "duration": 12,
    "start_time": "2025-05-08T11:23:16.531Z"
   },
   {
    "duration": 11,
    "start_time": "2025-05-08T11:23:28.273Z"
   },
   {
    "duration": 8,
    "start_time": "2025-05-08T11:23:43.084Z"
   },
   {
    "duration": 8,
    "start_time": "2025-05-08T11:23:54.650Z"
   },
   {
    "duration": 12,
    "start_time": "2025-05-08T11:23:57.483Z"
   },
   {
    "duration": 7,
    "start_time": "2025-05-08T11:23:59.661Z"
   },
   {
    "duration": 6,
    "start_time": "2025-05-08T11:24:01.733Z"
   },
   {
    "duration": 13,
    "start_time": "2025-05-08T11:24:07.461Z"
   },
   {
    "duration": 9,
    "start_time": "2025-05-08T11:24:11.981Z"
   },
   {
    "duration": 6,
    "start_time": "2025-05-08T11:24:18.170Z"
   },
   {
    "duration": 1298,
    "start_time": "2025-05-08T11:24:26.584Z"
   },
   {
    "duration": 77,
    "start_time": "2025-05-08T11:24:27.884Z"
   },
   {
    "duration": 9,
    "start_time": "2025-05-08T11:24:27.963Z"
   },
   {
    "duration": 181,
    "start_time": "2025-05-08T11:24:27.973Z"
   },
   {
    "duration": 8,
    "start_time": "2025-05-08T11:24:28.156Z"
   },
   {
    "duration": 27,
    "start_time": "2025-05-08T11:24:28.165Z"
   },
   {
    "duration": 1553,
    "start_time": "2025-05-08T11:24:28.194Z"
   },
   {
    "duration": 7,
    "start_time": "2025-05-08T11:25:20.864Z"
   },
   {
    "duration": 75,
    "start_time": "2025-05-08T11:25:29.083Z"
   },
   {
    "duration": 8,
    "start_time": "2025-05-08T11:25:48.255Z"
   },
   {
    "duration": 9,
    "start_time": "2025-05-08T11:25:52.663Z"
   },
   {
    "duration": 6,
    "start_time": "2025-05-08T11:25:58.473Z"
   },
   {
    "duration": 8,
    "start_time": "2025-05-08T11:26:03.144Z"
   },
   {
    "duration": 4,
    "start_time": "2025-05-08T11:26:51.832Z"
   },
   {
    "duration": 122,
    "start_time": "2025-05-08T11:29:59.534Z"
   },
   {
    "duration": 20,
    "start_time": "2025-05-08T11:31:05.999Z"
   },
   {
    "duration": 26,
    "start_time": "2025-05-08T11:31:31.291Z"
   },
   {
    "duration": 14,
    "start_time": "2025-05-08T11:32:14.218Z"
   },
   {
    "duration": 11,
    "start_time": "2025-05-08T11:34:39.362Z"
   },
   {
    "duration": 61,
    "start_time": "2025-05-08T11:40:42.028Z"
   },
   {
    "duration": 10,
    "start_time": "2025-05-08T11:44:08.112Z"
   },
   {
    "duration": 19,
    "start_time": "2025-05-08T11:44:23.072Z"
   },
   {
    "duration": 10,
    "start_time": "2025-05-08T11:44:39.805Z"
   },
   {
    "duration": 9,
    "start_time": "2025-05-08T11:44:51.542Z"
   },
   {
    "duration": 8,
    "start_time": "2025-05-08T11:45:17.981Z"
   },
   {
    "duration": 9,
    "start_time": "2025-05-08T11:48:25.081Z"
   },
   {
    "duration": 9,
    "start_time": "2025-05-08T11:48:57.968Z"
   },
   {
    "duration": 16,
    "start_time": "2025-05-08T11:49:49.475Z"
   },
   {
    "duration": 19,
    "start_time": "2025-05-08T11:50:37.297Z"
   },
   {
    "duration": 24,
    "start_time": "2025-05-08T11:50:57.861Z"
   },
   {
    "duration": 22,
    "start_time": "2025-05-08T11:51:36.199Z"
   },
   {
    "duration": 7,
    "start_time": "2025-05-08T11:53:12.482Z"
   },
   {
    "duration": 9,
    "start_time": "2025-05-08T11:53:15.062Z"
   },
   {
    "duration": 19,
    "start_time": "2025-05-08T11:56:14.916Z"
   },
   {
    "duration": 45,
    "start_time": "2025-05-08T11:57:06.624Z"
   },
   {
    "duration": 25,
    "start_time": "2025-05-08T11:59:23.472Z"
   },
   {
    "duration": 36,
    "start_time": "2025-05-08T12:00:14.904Z"
   },
   {
    "duration": 26,
    "start_time": "2025-05-08T12:02:38.637Z"
   },
   {
    "duration": 235,
    "start_time": "2025-05-08T12:05:35.009Z"
   },
   {
    "duration": 232,
    "start_time": "2025-05-08T12:06:11.311Z"
   },
   {
    "duration": 213,
    "start_time": "2025-05-08T12:45:08.428Z"
   },
   {
    "duration": 222,
    "start_time": "2025-05-08T12:45:39.442Z"
   },
   {
    "duration": 42,
    "start_time": "2025-05-08T12:51:30.398Z"
   },
   {
    "duration": 22,
    "start_time": "2025-05-08T12:52:25.421Z"
   },
   {
    "duration": 241,
    "start_time": "2025-05-08T12:52:44.527Z"
   },
   {
    "duration": 8,
    "start_time": "2025-05-08T12:54:20.369Z"
   },
   {
    "duration": 15,
    "start_time": "2025-05-08T12:55:10.044Z"
   },
   {
    "duration": 42,
    "start_time": "2025-05-08T12:58:09.752Z"
   },
   {
    "duration": 185,
    "start_time": "2025-05-08T13:00:51.852Z"
   },
   {
    "duration": 162,
    "start_time": "2025-05-08T13:02:39.149Z"
   },
   {
    "duration": 318,
    "start_time": "2025-05-08T13:03:45.352Z"
   },
   {
    "duration": 14,
    "start_time": "2025-05-08T13:07:12.302Z"
   },
   {
    "duration": 11,
    "start_time": "2025-05-08T13:08:17.181Z"
   },
   {
    "duration": 3,
    "start_time": "2025-05-08T13:08:20.551Z"
   },
   {
    "duration": 51,
    "start_time": "2025-05-08T13:08:25.541Z"
   },
   {
    "duration": 12,
    "start_time": "2025-05-08T13:08:31.782Z"
   },
   {
    "duration": 11,
    "start_time": "2025-05-08T13:10:02.700Z"
   },
   {
    "duration": 12,
    "start_time": "2025-05-08T13:10:36.804Z"
   },
   {
    "duration": 11,
    "start_time": "2025-05-08T13:12:15.652Z"
   },
   {
    "duration": 3,
    "start_time": "2025-05-08T13:12:54.382Z"
   },
   {
    "duration": 6,
    "start_time": "2025-05-08T13:13:00.953Z"
   },
   {
    "duration": 229,
    "start_time": "2025-05-08T13:13:45.373Z"
   },
   {
    "duration": 5,
    "start_time": "2025-05-08T13:13:56.298Z"
   },
   {
    "duration": 1372,
    "start_time": "2025-05-11T09:26:03.932Z"
   },
   {
    "duration": 67,
    "start_time": "2025-05-11T09:26:05.306Z"
   },
   {
    "duration": 5,
    "start_time": "2025-05-11T09:26:05.376Z"
   },
   {
    "duration": 61,
    "start_time": "2025-05-11T09:26:05.384Z"
   },
   {
    "duration": 49,
    "start_time": "2025-05-11T09:26:05.447Z"
   },
   {
    "duration": 63,
    "start_time": "2025-05-11T09:26:05.497Z"
   },
   {
    "duration": 124,
    "start_time": "2025-05-11T09:26:05.562Z"
   },
   {
    "duration": 289,
    "start_time": "2025-05-11T09:26:05.689Z"
   },
   {
    "duration": 189,
    "start_time": "2025-05-11T09:26:05.980Z"
   },
   {
    "duration": 238,
    "start_time": "2025-05-11T09:26:06.172Z"
   },
   {
    "duration": 7,
    "start_time": "2025-05-11T09:26:06.412Z"
   },
   {
    "duration": 1610,
    "start_time": "2025-05-11T09:26:06.421Z"
   },
   {
    "duration": 6,
    "start_time": "2025-05-11T09:26:51.053Z"
   },
   {
    "duration": 1474,
    "start_time": "2025-05-11T09:30:51.896Z"
   },
   {
    "duration": 74,
    "start_time": "2025-05-11T09:31:53.529Z"
   },
   {
    "duration": 49,
    "start_time": "2025-05-11T09:33:38.924Z"
   },
   {
    "duration": 162,
    "start_time": "2025-05-11T09:34:10.465Z"
   },
   {
    "duration": 42,
    "start_time": "2025-05-11T09:34:28.917Z"
   },
   {
    "duration": 125,
    "start_time": "2025-05-11T09:34:37.837Z"
   },
   {
    "duration": 11,
    "start_time": "2025-05-11T09:36:29.595Z"
   },
   {
    "duration": 8,
    "start_time": "2025-05-11T09:38:31.632Z"
   },
   {
    "duration": 9,
    "start_time": "2025-05-11T09:39:00.399Z"
   },
   {
    "duration": 9,
    "start_time": "2025-05-11T09:39:02.848Z"
   },
   {
    "duration": 8,
    "start_time": "2025-05-11T09:39:12.618Z"
   },
   {
    "duration": 13,
    "start_time": "2025-05-11T09:39:30.278Z"
   },
   {
    "duration": 9,
    "start_time": "2025-05-11T09:39:52.522Z"
   },
   {
    "duration": 19,
    "start_time": "2025-05-11T09:39:55.581Z"
   },
   {
    "duration": 1819,
    "start_time": "2025-05-11T09:40:03.011Z"
   },
   {
    "duration": 49,
    "start_time": "2025-05-11T09:40:05.121Z"
   },
   {
    "duration": 127,
    "start_time": "2025-05-11T09:40:12.212Z"
   },
   {
    "duration": 9,
    "start_time": "2025-05-11T09:40:20.371Z"
   },
   {
    "duration": 183,
    "start_time": "2025-05-11T09:41:37.265Z"
   },
   {
    "duration": 10,
    "start_time": "2025-05-11T09:42:54.998Z"
   },
   {
    "duration": 9,
    "start_time": "2025-05-11T09:43:32.381Z"
   },
   {
    "duration": 11,
    "start_time": "2025-05-11T09:43:52.543Z"
   },
   {
    "duration": 23,
    "start_time": "2025-05-11T09:45:58.666Z"
   },
   {
    "duration": 12,
    "start_time": "2025-05-11T09:46:15.524Z"
   },
   {
    "duration": 7,
    "start_time": "2025-05-11T09:46:25.782Z"
   },
   {
    "duration": 5,
    "start_time": "2025-05-11T09:46:30.250Z"
   },
   {
    "duration": 11,
    "start_time": "2025-05-11T09:46:41.474Z"
   },
   {
    "duration": 5,
    "start_time": "2025-05-11T09:46:47.000Z"
   },
   {
    "duration": 9,
    "start_time": "2025-05-11T09:46:55.080Z"
   },
   {
    "duration": 6,
    "start_time": "2025-05-11T09:47:14.381Z"
   },
   {
    "duration": 6,
    "start_time": "2025-05-11T09:47:16.890Z"
   },
   {
    "duration": 6,
    "start_time": "2025-05-11T09:47:20.184Z"
   },
   {
    "duration": 12,
    "start_time": "2025-05-11T09:47:22.871Z"
   },
   {
    "duration": 1248,
    "start_time": "2025-05-11T09:48:00.869Z"
   },
   {
    "duration": 107,
    "start_time": "2025-05-11T09:48:02.120Z"
   },
   {
    "duration": 5,
    "start_time": "2025-05-11T09:48:02.229Z"
   },
   {
    "duration": 54,
    "start_time": "2025-05-11T09:48:02.236Z"
   },
   {
    "duration": 25,
    "start_time": "2025-05-11T09:48:02.293Z"
   },
   {
    "duration": 43,
    "start_time": "2025-05-11T09:48:02.321Z"
   },
   {
    "duration": 77,
    "start_time": "2025-05-11T09:48:02.366Z"
   },
   {
    "duration": 231,
    "start_time": "2025-05-11T09:48:02.445Z"
   },
   {
    "duration": 206,
    "start_time": "2025-05-11T09:48:02.679Z"
   },
   {
    "duration": 256,
    "start_time": "2025-05-11T09:48:02.887Z"
   },
   {
    "duration": 7,
    "start_time": "2025-05-11T09:48:03.145Z"
   },
   {
    "duration": 1618,
    "start_time": "2025-05-11T09:48:03.154Z"
   },
   {
    "duration": 56,
    "start_time": "2025-05-11T09:48:04.774Z"
   },
   {
    "duration": 136,
    "start_time": "2025-05-11T09:48:04.833Z"
   },
   {
    "duration": 9,
    "start_time": "2025-05-11T09:48:04.971Z"
   },
   {
    "duration": 25,
    "start_time": "2025-05-11T09:48:04.982Z"
   },
   {
    "duration": 8,
    "start_time": "2025-05-11T09:48:05.009Z"
   },
   {
    "duration": 52,
    "start_time": "2025-05-11T09:48:05.019Z"
   },
   {
    "duration": 10,
    "start_time": "2025-05-11T09:48:05.073Z"
   },
   {
    "duration": 7,
    "start_time": "2025-05-11T09:48:05.085Z"
   },
   {
    "duration": 17,
    "start_time": "2025-05-11T09:48:05.094Z"
   },
   {
    "duration": 16,
    "start_time": "2025-05-11T09:48:05.114Z"
   },
   {
    "duration": 28,
    "start_time": "2025-05-11T09:48:05.132Z"
   },
   {
    "duration": 11,
    "start_time": "2025-05-11T09:56:23.090Z"
   },
   {
    "duration": 9,
    "start_time": "2025-05-11T09:57:23.050Z"
   },
   {
    "duration": 6,
    "start_time": "2025-05-11T10:00:49.608Z"
   },
   {
    "duration": 5,
    "start_time": "2025-05-11T10:05:47.273Z"
   },
   {
    "duration": 98,
    "start_time": "2025-05-11T10:06:42.056Z"
   },
   {
    "duration": 37,
    "start_time": "2025-05-11T10:07:17.813Z"
   },
   {
    "duration": 32,
    "start_time": "2025-05-11T10:07:21.565Z"
   },
   {
    "duration": 32,
    "start_time": "2025-05-11T10:07:24.575Z"
   },
   {
    "duration": 36,
    "start_time": "2025-05-11T10:08:45.251Z"
   },
   {
    "duration": 43,
    "start_time": "2025-05-11T10:11:05.778Z"
   },
   {
    "duration": 107,
    "start_time": "2025-05-11T10:15:16.336Z"
   },
   {
    "duration": 19,
    "start_time": "2025-05-11T10:16:55.494Z"
   },
   {
    "duration": 20,
    "start_time": "2025-05-11T10:19:41.685Z"
   },
   {
    "duration": 30,
    "start_time": "2025-05-11T10:20:07.453Z"
   },
   {
    "duration": 18,
    "start_time": "2025-05-11T10:22:24.844Z"
   },
   {
    "duration": 19,
    "start_time": "2025-05-11T10:23:46.486Z"
   },
   {
    "duration": 20,
    "start_time": "2025-05-11T10:24:56.204Z"
   },
   {
    "duration": 20,
    "start_time": "2025-05-11T10:25:16.935Z"
   },
   {
    "duration": 17,
    "start_time": "2025-05-11T10:25:42.901Z"
   },
   {
    "duration": 3,
    "start_time": "2025-05-11T10:28:03.138Z"
   },
   {
    "duration": 28,
    "start_time": "2025-05-11T10:28:05.976Z"
   },
   {
    "duration": 6,
    "start_time": "2025-05-11T10:28:26.598Z"
   },
   {
    "duration": 5,
    "start_time": "2025-05-11T10:30:07.796Z"
   },
   {
    "duration": 5,
    "start_time": "2025-05-11T10:32:54.376Z"
   },
   {
    "duration": 79,
    "start_time": "2025-05-11T10:34:50.847Z"
   },
   {
    "duration": 108,
    "start_time": "2025-05-11T10:35:04.332Z"
   },
   {
    "duration": 93,
    "start_time": "2025-05-11T10:35:23.082Z"
   },
   {
    "duration": 4,
    "start_time": "2025-05-11T10:35:40.171Z"
   },
   {
    "duration": 87,
    "start_time": "2025-05-11T10:40:20.978Z"
   },
   {
    "duration": 6,
    "start_time": "2025-05-11T10:43:38.910Z"
   },
   {
    "duration": 1450,
    "start_time": "2025-05-11T10:50:17.897Z"
   },
   {
    "duration": 101,
    "start_time": "2025-05-11T10:50:19.350Z"
   },
   {
    "duration": 8,
    "start_time": "2025-05-11T10:50:19.454Z"
   },
   {
    "duration": 39,
    "start_time": "2025-05-11T10:50:19.466Z"
   },
   {
    "duration": 24,
    "start_time": "2025-05-11T10:50:19.507Z"
   },
   {
    "duration": 93,
    "start_time": "2025-05-11T10:50:19.534Z"
   },
   {
    "duration": 97,
    "start_time": "2025-05-11T10:50:19.629Z"
   },
   {
    "duration": 257,
    "start_time": "2025-05-11T10:50:19.729Z"
   },
   {
    "duration": 201,
    "start_time": "2025-05-11T10:50:19.988Z"
   },
   {
    "duration": 241,
    "start_time": "2025-05-11T10:50:20.192Z"
   },
   {
    "duration": 10,
    "start_time": "2025-05-11T10:50:20.435Z"
   },
   {
    "duration": 2030,
    "start_time": "2025-05-11T10:50:20.447Z"
   },
   {
    "duration": 65,
    "start_time": "2025-05-11T10:50:22.479Z"
   },
   {
    "duration": 184,
    "start_time": "2025-05-11T10:50:22.546Z"
   },
   {
    "duration": 9,
    "start_time": "2025-05-11T10:50:22.732Z"
   },
   {
    "duration": 23,
    "start_time": "2025-05-11T10:50:22.743Z"
   },
   {
    "duration": 16,
    "start_time": "2025-05-11T10:50:22.769Z"
   },
   {
    "duration": 24,
    "start_time": "2025-05-11T10:50:22.787Z"
   },
   {
    "duration": 113,
    "start_time": "2025-05-11T10:50:22.814Z"
   },
   {
    "duration": 19,
    "start_time": "2025-05-11T10:50:22.929Z"
   },
   {
    "duration": 8,
    "start_time": "2025-05-11T10:50:22.950Z"
   },
   {
    "duration": 10,
    "start_time": "2025-05-11T10:50:22.960Z"
   },
   {
    "duration": 123,
    "start_time": "2025-05-11T10:50:22.972Z"
   },
   {
    "duration": 107,
    "start_time": "2025-05-11T10:50:23.097Z"
   },
   {
    "duration": 19,
    "start_time": "2025-05-11T10:50:23.206Z"
   },
   {
    "duration": 22,
    "start_time": "2025-05-11T10:50:23.226Z"
   },
   {
    "duration": 57,
    "start_time": "2025-05-11T10:50:23.250Z"
   },
   {
    "duration": 25,
    "start_time": "2025-05-11T10:50:23.312Z"
   },
   {
    "duration": 31,
    "start_time": "2025-05-11T10:50:23.339Z"
   },
   {
    "duration": 33,
    "start_time": "2025-05-11T10:50:23.373Z"
   },
   {
    "duration": 5,
    "start_time": "2025-05-11T10:50:23.409Z"
   },
   {
    "duration": 93,
    "start_time": "2025-05-11T10:50:23.416Z"
   },
   {
    "duration": 9,
    "start_time": "2025-05-11T10:50:23.512Z"
   },
   {
    "duration": 57,
    "start_time": "2025-05-11T10:51:10.033Z"
   },
   {
    "duration": 6,
    "start_time": "2025-05-11T10:51:18.298Z"
   },
   {
    "duration": 7,
    "start_time": "2025-05-11T10:51:23.431Z"
   },
   {
    "duration": 15,
    "start_time": "2025-05-11T10:51:27.235Z"
   },
   {
    "duration": 41,
    "start_time": "2025-05-11T10:51:36.254Z"
   },
   {
    "duration": 42,
    "start_time": "2025-05-11T10:51:45.087Z"
   },
   {
    "duration": 181,
    "start_time": "2025-05-11T10:52:06.989Z"
   },
   {
    "duration": 175,
    "start_time": "2025-05-11T10:52:10.391Z"
   },
   {
    "duration": 235,
    "start_time": "2025-05-11T10:52:15.355Z"
   },
   {
    "duration": 6,
    "start_time": "2025-05-11T10:52:26.084Z"
   },
   {
    "duration": 1531,
    "start_time": "2025-05-11T10:52:40.417Z"
   },
   {
    "duration": 45,
    "start_time": "2025-05-11T10:52:43.029Z"
   },
   {
    "duration": 145,
    "start_time": "2025-05-11T10:52:47.232Z"
   },
   {
    "duration": 9,
    "start_time": "2025-05-11T10:52:50.704Z"
   },
   {
    "duration": 9,
    "start_time": "2025-05-11T10:52:53.521Z"
   },
   {
    "duration": 12,
    "start_time": "2025-05-11T10:52:55.686Z"
   },
   {
    "duration": 10,
    "start_time": "2025-05-11T10:52:58.255Z"
   },
   {
    "duration": 8,
    "start_time": "2025-05-11T10:53:00.218Z"
   },
   {
    "duration": 13,
    "start_time": "2025-05-11T10:53:04.276Z"
   },
   {
    "duration": 7,
    "start_time": "2025-05-11T10:53:09.789Z"
   },
   {
    "duration": 6,
    "start_time": "2025-05-11T10:53:20.083Z"
   },
   {
    "duration": 94,
    "start_time": "2025-05-11T10:53:22.183Z"
   },
   {
    "duration": 90,
    "start_time": "2025-05-11T10:53:26.602Z"
   },
   {
    "duration": 18,
    "start_time": "2025-05-11T10:53:31.429Z"
   },
   {
    "duration": 21,
    "start_time": "2025-05-11T10:53:35.081Z"
   },
   {
    "duration": 18,
    "start_time": "2025-05-11T10:53:37.025Z"
   },
   {
    "duration": 18,
    "start_time": "2025-05-11T10:53:38.636Z"
   },
   {
    "duration": 18,
    "start_time": "2025-05-11T10:53:41.475Z"
   },
   {
    "duration": 6,
    "start_time": "2025-05-11T10:53:48.606Z"
   },
   {
    "duration": 5,
    "start_time": "2025-05-11T10:53:55.599Z"
   },
   {
    "duration": 6,
    "start_time": "2025-05-11T10:53:58.217Z"
   },
   {
    "duration": 5,
    "start_time": "2025-05-11T10:54:06.417Z"
   },
   {
    "duration": 57,
    "start_time": "2025-05-12T10:41:19.106Z"
   },
   {
    "duration": 1478,
    "start_time": "2025-05-12T10:41:40.010Z"
   },
   {
    "duration": 148,
    "start_time": "2025-05-12T10:41:41.490Z"
   },
   {
    "duration": 5,
    "start_time": "2025-05-12T10:41:41.640Z"
   },
   {
    "duration": 41,
    "start_time": "2025-05-12T10:41:41.647Z"
   },
   {
    "duration": 15,
    "start_time": "2025-05-12T10:41:41.691Z"
   },
   {
    "duration": 36,
    "start_time": "2025-05-12T10:41:41.708Z"
   },
   {
    "duration": 57,
    "start_time": "2025-05-12T10:41:41.745Z"
   },
   {
    "duration": 213,
    "start_time": "2025-05-12T10:41:41.804Z"
   },
   {
    "duration": 197,
    "start_time": "2025-05-12T10:41:42.018Z"
   },
   {
    "duration": 244,
    "start_time": "2025-05-12T10:41:42.216Z"
   },
   {
    "duration": 9,
    "start_time": "2025-05-12T10:41:42.463Z"
   },
   {
    "duration": 1992,
    "start_time": "2025-05-12T10:41:42.474Z"
   },
   {
    "duration": 88,
    "start_time": "2025-05-12T10:41:44.468Z"
   },
   {
    "duration": 161,
    "start_time": "2025-05-12T10:41:44.560Z"
   },
   {
    "duration": 8,
    "start_time": "2025-05-12T10:41:44.723Z"
   },
   {
    "duration": 31,
    "start_time": "2025-05-12T10:41:44.733Z"
   },
   {
    "duration": 13,
    "start_time": "2025-05-12T10:41:44.766Z"
   },
   {
    "duration": 14,
    "start_time": "2025-05-12T10:41:44.781Z"
   },
   {
    "duration": 9,
    "start_time": "2025-05-12T10:41:44.797Z"
   },
   {
    "duration": 27,
    "start_time": "2025-05-12T10:41:44.808Z"
   },
   {
    "duration": 6,
    "start_time": "2025-05-12T10:41:44.837Z"
   },
   {
    "duration": 10,
    "start_time": "2025-05-12T10:41:44.861Z"
   },
   {
    "duration": 131,
    "start_time": "2025-05-12T10:41:44.874Z"
   },
   {
    "duration": 174,
    "start_time": "2025-05-12T10:41:45.007Z"
   },
   {
    "duration": 17,
    "start_time": "2025-05-12T10:41:45.183Z"
   },
   {
    "duration": 31,
    "start_time": "2025-05-12T10:41:45.202Z"
   },
   {
    "duration": 27,
    "start_time": "2025-05-12T10:41:45.235Z"
   },
   {
    "duration": 27,
    "start_time": "2025-05-12T10:41:45.264Z"
   },
   {
    "duration": 21,
    "start_time": "2025-05-12T10:41:45.293Z"
   },
   {
    "duration": 11,
    "start_time": "2025-05-12T10:41:45.316Z"
   },
   {
    "duration": 14,
    "start_time": "2025-05-12T10:41:45.329Z"
   },
   {
    "duration": 6,
    "start_time": "2025-05-12T10:41:45.362Z"
   },
   {
    "duration": 16,
    "start_time": "2025-05-12T10:41:45.371Z"
   },
   {
    "duration": 6,
    "start_time": "2025-05-12T10:42:30.684Z"
   },
   {
    "duration": 5,
    "start_time": "2025-05-12T10:45:07.211Z"
   },
   {
    "duration": 6,
    "start_time": "2025-05-12T10:45:17.956Z"
   },
   {
    "duration": 6,
    "start_time": "2025-05-12T10:46:23.719Z"
   },
   {
    "duration": 7,
    "start_time": "2025-05-12T11:06:28.129Z"
   },
   {
    "duration": 6,
    "start_time": "2025-05-12T11:08:49.566Z"
   },
   {
    "duration": 6,
    "start_time": "2025-05-12T11:08:59.242Z"
   },
   {
    "duration": 6,
    "start_time": "2025-05-12T11:18:07.242Z"
   },
   {
    "duration": 164,
    "start_time": "2025-05-12T11:22:42.808Z"
   },
   {
    "duration": 1234,
    "start_time": "2025-05-12T11:23:27.334Z"
   },
   {
    "duration": 158,
    "start_time": "2025-05-12T11:23:28.571Z"
   },
   {
    "duration": 6,
    "start_time": "2025-05-12T11:23:28.730Z"
   },
   {
    "duration": 29,
    "start_time": "2025-05-12T11:23:28.738Z"
   },
   {
    "duration": 17,
    "start_time": "2025-05-12T11:23:28.769Z"
   },
   {
    "duration": 36,
    "start_time": "2025-05-12T11:23:28.788Z"
   },
   {
    "duration": 68,
    "start_time": "2025-05-12T11:23:28.826Z"
   },
   {
    "duration": 228,
    "start_time": "2025-05-12T11:23:28.896Z"
   },
   {
    "duration": 186,
    "start_time": "2025-05-12T11:23:29.125Z"
   },
   {
    "duration": 229,
    "start_time": "2025-05-12T11:23:29.314Z"
   },
   {
    "duration": 6,
    "start_time": "2025-05-12T11:23:29.545Z"
   },
   {
    "duration": 1669,
    "start_time": "2025-05-12T11:23:29.560Z"
   },
   {
    "duration": 46,
    "start_time": "2025-05-12T11:23:31.230Z"
   },
   {
    "duration": 135,
    "start_time": "2025-05-12T11:23:31.278Z"
   },
   {
    "duration": 9,
    "start_time": "2025-05-12T11:23:31.414Z"
   },
   {
    "duration": 24,
    "start_time": "2025-05-12T11:23:31.424Z"
   },
   {
    "duration": 28,
    "start_time": "2025-05-12T11:23:31.450Z"
   },
   {
    "duration": 9,
    "start_time": "2025-05-12T11:23:31.480Z"
   },
   {
    "duration": 10,
    "start_time": "2025-05-12T11:23:31.491Z"
   },
   {
    "duration": 44,
    "start_time": "2025-05-12T11:23:31.502Z"
   },
   {
    "duration": 6,
    "start_time": "2025-05-12T11:23:31.548Z"
   },
   {
    "duration": 10,
    "start_time": "2025-05-12T11:23:31.556Z"
   },
   {
    "duration": 113,
    "start_time": "2025-05-12T11:23:31.568Z"
   },
   {
    "duration": 190,
    "start_time": "2025-05-12T11:23:31.684Z"
   },
   {
    "duration": 19,
    "start_time": "2025-05-12T11:23:31.876Z"
   },
   {
    "duration": 21,
    "start_time": "2025-05-12T11:23:31.896Z"
   },
   {
    "duration": 47,
    "start_time": "2025-05-12T11:23:31.919Z"
   },
   {
    "duration": 20,
    "start_time": "2025-05-12T11:23:31.969Z"
   },
   {
    "duration": 18,
    "start_time": "2025-05-12T11:23:31.991Z"
   },
   {
    "duration": 16,
    "start_time": "2025-05-12T11:23:32.011Z"
   },
   {
    "duration": 12,
    "start_time": "2025-05-12T11:23:32.029Z"
   },
   {
    "duration": 21,
    "start_time": "2025-05-12T11:23:32.043Z"
   },
   {
    "duration": 7,
    "start_time": "2025-05-12T11:23:32.066Z"
   }
  ],
  "colab": {
   "provenance": [],
   "toc_visible": true
  },
  "kernelspec": {
   "display_name": "Python 3 (ipykernel)",
   "language": "python",
   "name": "python3"
  },
  "language_info": {
   "codemirror_mode": {
    "name": "ipython",
    "version": 3
   },
   "file_extension": ".py",
   "mimetype": "text/x-python",
   "name": "python",
   "nbconvert_exporter": "python",
   "pygments_lexer": "ipython3",
   "version": "3.9.5"
  },
  "toc": {
   "base_numbering": 1,
   "nav_menu": {},
   "number_sections": true,
   "sideBar": true,
   "skip_h1_title": true,
   "title_cell": "Table of Contents",
   "title_sidebar": "Contents",
   "toc_cell": false,
   "toc_position": {
    "height": "calc(100% - 180px)",
    "left": "10px",
    "top": "150px",
    "width": "165px"
   },
   "toc_section_display": true,
   "toc_window_display": true
  }
 },
 "nbformat": 4,
 "nbformat_minor": 5
}
